{
 "cells": [
  {
   "cell_type": "markdown",
   "metadata": {},
   "source": [
    "<center>\n",
    "<h1>Free groups and train-tracks with Sage</h1>\n",
    "<h3>Thierry Coulbois, Marseille</h3>\n",
    "<code>thierry.coulbois@univ-amu.fr</code><br>\n",
    "Bonn, July 2019\n",
    "</center>"
   ]
  },
  {
   "cell_type": "code",
   "execution_count": 1,
   "metadata": {},
   "outputs": [],
   "source": [
    "from train_track import *"
   ]
  },
  {
   "cell_type": "markdown",
   "metadata": {},
   "source": [
    "<h2>1. Introduction</h2>\n",
    "<ul>\n",
    "    <li>Package written 6 years ago, more than 10 000 lines of code (in Sage/Python).\n",
    "    <li>Mainly non-programming community (free group automorphisms). \n",
    "    <li>Main results [Bestvina, Feighn, Handel] around 1985. No strict statement about algorithmicity. \n",
    "    <li>Paper proving algorithmicity [Bogopolski, Maslakova, 2012, 70 pages]. \n",
    "    <li>Previously Java-applet [Brinkmann].\n",
    "    <li>(Some) Mapping class groups are concerned, braid groups.\n",
    "    \n",
    "<ul>\n",
    "\n"
   ]
  },
  {
   "cell_type": "markdown",
   "metadata": {},
   "source": [
    "<h2>2. Some math</h2>\n",
    "\n",
    "<b>Free groups</b> = group of reduced words on an alphabet (with inverses)"
   ]
  },
  {
   "cell_type": "code",
   "execution_count": 2,
   "metadata": {},
   "outputs": [
    {
     "data": {
      "text/plain": [
       "Free Group on generators {x0, x1, x2}"
      ]
     },
     "execution_count": 2,
     "metadata": {},
     "output_type": "execute_result"
    }
   ],
   "source": [
    "FreeGroup(3)"
   ]
  },
  {
   "cell_type": "code",
   "execution_count": 3,
   "metadata": {},
   "outputs": [
    {
     "data": {
      "text/plain": [
       "Free Group on generators {a, b, c}"
      ]
     },
     "execution_count": 3,
     "metadata": {},
     "output_type": "execute_result"
    }
   ],
   "source": [
    "F = FreeGroup('a,b,c')\n",
    "F"
   ]
  },
  {
   "cell_type": "code",
   "execution_count": 4,
   "metadata": {},
   "outputs": [
    {
     "data": {
      "text/plain": [
       "a*b*a*c*b"
      ]
     },
     "execution_count": 4,
     "metadata": {},
     "output_type": "execute_result"
    }
   ],
   "source": [
    "F('abacb')"
   ]
  },
  {
   "cell_type": "code",
   "execution_count": 5,
   "metadata": {
    "scrolled": false
   },
   "outputs": [
    {
     "data": {
      "text/plain": [
       "a*b*a^-1*c"
      ]
     },
     "execution_count": 5,
     "metadata": {},
     "output_type": "execute_result"
    }
   ],
   "source": [
    "w = F('abAbBc')\n",
    "w"
   ]
  },
  {
   "cell_type": "code",
   "execution_count": 7,
   "metadata": {},
   "outputs": [
    {
     "name": "stdout",
     "output_type": "stream",
     "text": [
      "((a*b*a^-1*c)^2, (a*b*a^-1*c)^5, c^-1*a*b^-1*a^-1)\n"
     ]
    }
   ],
   "source": [
    "print((w * w, w**5, w**-1))"
   ]
  },
  {
   "cell_type": "markdown",
   "metadata": {},
   "source": [
    "<b>Automorphism of free group</b> = sort of a word morphism"
   ]
  },
  {
   "cell_type": "code",
   "execution_count": 13,
   "metadata": {},
   "outputs": [
    {
     "data": {
      "text/plain": [
       "Automorphism of the Free Group on generators {a, b, c}: a->a*b,b->a*c,c->a"
      ]
     },
     "execution_count": 13,
     "metadata": {},
     "output_type": "execute_result"
    }
   ],
   "source": [
    "phi = FreeGroupAutomorphism(\"a->ab,b->ac,c->a\")\n",
    "phi"
   ]
  },
  {
   "cell_type": "code",
   "execution_count": 10,
   "metadata": {},
   "outputs": [
    {
     "name": "stdout",
     "output_type": "stream",
     "text": [
      "a*b*a^-1\n"
     ]
    }
   ],
   "source": [
    "print(phi(\"aC\"))"
   ]
  },
  {
   "cell_type": "code",
   "execution_count": 11,
   "metadata": {},
   "outputs": [
    {
     "name": "stdout",
     "output_type": "stream",
     "text": [
      "a->a*b*a*c,b->a*b*a,c->a*b\n"
     ]
    }
   ],
   "source": [
    "print(phi*phi)"
   ]
  },
  {
   "cell_type": "markdown",
   "metadata": {},
   "source": [
    "<h3>Length of $\\varphi^n(a)$ ?</h3>"
   ]
  },
  {
   "cell_type": "code",
   "execution_count": 12,
   "metadata": {},
   "outputs": [
    {
     "data": {
      "text/plain": [
       "a"
      ]
     },
     "execution_count": 12,
     "metadata": {},
     "output_type": "execute_result"
    }
   ],
   "source": [
    "a = phi.domain().gen(0)\n",
    "a"
   ]
  },
  {
   "cell_type": "code",
   "execution_count": 19,
   "metadata": {},
   "outputs": [
    {
     "name": "stdout",
     "output_type": "stream",
     "text": [
      "abacabaabacababacabaabacabacabaabacababacabaabacabaabacababacabaabacabacabaabacab\n"
     ]
    }
   ],
   "source": [
    "print(phi(a,7).to_word())"
   ]
  },
  {
   "cell_type": "code",
   "execution_count": 22,
   "metadata": {},
   "outputs": [
    {
     "data": {
      "text/plain": [
       "[1 1 1]\n",
       "[1 0 0]\n",
       "[0 1 0]"
      ]
     },
     "execution_count": 22,
     "metadata": {},
     "output_type": "execute_result"
    }
   ],
   "source": [
    "M = phi.rose_representative().matrix()\n",
    "M"
   ]
  },
  {
   "cell_type": "code",
   "execution_count": 23,
   "metadata": {},
   "outputs": [
    {
     "data": {
      "text/plain": [
       "[1.839286755214161?, -0.4196433776070806? - 0.6062907292071993?*I, -0.4196433776070806? + 0.6062907292071993?*I]"
      ]
     },
     "execution_count": 23,
     "metadata": {},
     "output_type": "execute_result"
    }
   ],
   "source": [
    "M.eigenvalues()"
   ]
  },
  {
   "cell_type": "markdown",
   "metadata": {},
   "source": [
    "So we have easily:\n",
    "$$\\lim_{n\\to\\infty}\\frac 1n\\log|\\varphi^n(a)|=1.839...$$\n",
    "\n",
    "<h3>But what about inverses and cancellations?</h3>"
   ]
  },
  {
   "cell_type": "code",
   "execution_count": 14,
   "metadata": {},
   "outputs": [
    {
     "data": {
      "text/plain": [
       "Automorphism of the Free Group on generators {a, b, c}: a->c,b->c^-1*a,c->c^-1*b"
      ]
     },
     "execution_count": 14,
     "metadata": {},
     "output_type": "execute_result"
    }
   ],
   "source": [
    "phiinv = phi.inverse()\n",
    "phiinv"
   ]
  },
  {
   "cell_type": "code",
   "execution_count": 26,
   "metadata": {},
   "outputs": [
    {
     "data": {
      "text/plain": [
       "word: AbAccAcc"
      ]
     },
     "execution_count": 26,
     "metadata": {},
     "output_type": "execute_result"
    }
   ],
   "source": [
    "phiinv(a,7).to_word()"
   ]
  },
  {
   "cell_type": "code",
   "execution_count": 15,
   "metadata": {},
   "outputs": [
    {
     "data": {
      "text/plain": [
       "Graph self map:\n",
       "Marked graph: a: 0->0, b: 1->0, c: 1->0, e: 0->1\n",
       "Marking: a->a, b->eb, c->ec\n",
       "Edge map: a->ec, b->Ea, c->b, e->C\n",
       "Irreducible representative"
      ]
     },
     "execution_count": 15,
     "metadata": {},
     "output_type": "execute_result"
    }
   ],
   "source": [
    "f = phiinv.train_track()\n",
    "f"
   ]
  },
  {
   "cell_type": "code",
   "execution_count": 29,
   "metadata": {},
   "outputs": [
    {
     "data": {
      "image/png": "[encoded data removed]",
      "text/plain": [
       "Graphics object consisting of 13 graphics primitives"
      ]
     },
     "execution_count": 29,
     "metadata": {},
     "output_type": "execute_result"
    }
   ],
   "source": [
    "f.domain().plot()"
   ]
  },
  {
   "cell_type": "code",
   "execution_count": 31,
   "metadata": {},
   "outputs": [
    {
     "data": {
      "text/plain": [
       "[0 1 0 0]\n",
       "[0 0 1 0]\n",
       "[1 0 0 1]\n",
       "[1 1 0 0]"
      ]
     },
     "execution_count": 31,
     "metadata": {},
     "output_type": "execute_result"
    }
   ],
   "source": [
    "Minv = f.matrix()\n",
    "Minv"
   ]
  },
  {
   "cell_type": "code",
   "execution_count": 32,
   "metadata": {},
   "outputs": [
    {
     "data": {
      "text/plain": [
       "[-0.4746266175626056?, 1.395336994467073?, -0.4603551884522338? - 1.139317680301923?*I, -0.4603551884522338? + 1.139317680301923?*I]"
      ]
     },
     "execution_count": 32,
     "metadata": {},
     "output_type": "execute_result"
    }
   ],
   "source": [
    "Minv.eigenvalues()"
   ]
  },
  {
   "cell_type": "markdown",
   "metadata": {},
   "source": [
    "So we have less easily:\n",
    "$$\\lim_{n\\to\\infty}\\frac 1n\\log|\\varphi^{-n}(a)|=1.39533...$$"
   ]
  },
  {
   "cell_type": "markdown",
   "metadata": {},
   "source": [
    "<h2>3. What next</h2>\n",
    "\n",
    "<ul>\n",
    "    <li>Code distributed as a package on pypi.org\n",
    "    <li>Code cleaned, documented, doc-tested, by Dominique Bienelli (Research software engineer at our math department)\n",
    "    <li>Bugs and updates\n",
    "    <li>Compatibility with futur versions of Sage\n",
    "    <li>Ticket for integration vs Sage (Python) package\n",
    "    <li>Free groups wrapped from GAP [Miguel Angel Marco Buzunariz, Volker Braun] modifications in my package\n",
    "    <li>New features (subgroups for free groups, fixed subgroups)\n",
    "    <li>Free group automorphism still active\n",
    "    <li>Category hierarchy (parents and such)\n",
    "    \n",
    "        \n",
    "</ul>"
   ]
  },
  {
   "cell_type": "code",
   "execution_count": null,
   "metadata": {},
   "outputs": [],
   "source": []
  }
 ],
 "metadata": {
  "celltoolbar": "Aucun(e)",
  "kernelspec": {
   "display_name": "SageMath 8.8",
   "language": "sage",
   "name": "sagemath"
  },
  "language_info": {
   "codemirror_mode": {
    "name": "ipython",
    "version": 2
   },
   "file_extension": ".py",
   "mimetype": "text/x-python",
   "name": "python",
   "nbconvert_exporter": "python",
   "pygments_lexer": "ipython2",
   "version": "2.7.15"
  }
 },
 "nbformat": 4,
 "nbformat_minor": 2
}
