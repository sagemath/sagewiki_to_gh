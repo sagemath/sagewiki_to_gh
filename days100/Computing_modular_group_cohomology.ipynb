{
 "cells": [
  {
   "cell_type": "code",
   "execution_count": 1,
   "metadata": {},
   "outputs": [
    {
     "data": {
      "text/html": [
       "\n",
       "<style>\n",
       "\n",
       "div.cell { /* Tunes the space between cells */\n",
       "margin-top:1em;\n",
       "margin-bottom:1em;\n",
       "}\n",
       "\n",
       "div.text_cell_render h1 { /* Main titles bigger, centered */\n",
       "font-size: 2.2em;\n",
       "line-height:1.4em;\n",
       "text-align:center;\n",
       "}\n",
       "\n",
       "div.text_cell_render h2 { /*  Parts names nearer from text */\n",
       "margin-bottom: -0.4em;\n",
       "}\n",
       "\n",
       "\n",
       "div.text_cell_render { /* Customize text cells */\n",
       "font-family: 'Times New Roman';\n",
       "font-size:1.3em;\n",
       "line-height:1.4em;\n",
       "}\n",
       "</style>\n"
      ],
      "text/plain": [
       "<IPython.core.display.HTML object>"
      ]
     },
     "execution_count": 1,
     "metadata": {},
     "output_type": "execute_result"
    }
   ],
   "source": [
    "from IPython.core.display import HTML\n",
    "HTML(\"\"\"\n",
    "<style>\n",
    "\n",
    "div.cell { /* Tunes the space between cells */\n",
    "margin-top:1em;\n",
    "margin-bottom:1em;\n",
    "}\n",
    "\n",
    "div.text_cell_render h1 { /* Main titles bigger, centered */\n",
    "font-size: 2.2em;\n",
    "line-height:1.4em;\n",
    "text-align:center;\n",
    "}\n",
    "\n",
    "div.text_cell_render h2 { /*  Parts names nearer from text */\n",
    "margin-bottom: -0.4em;\n",
    "}\n",
    "\n",
    "\n",
    "div.text_cell_render { /* Customize text cells */\n",
    "font-family: 'Times New Roman';\n",
    "font-size:1.3em;\n",
    "line-height:1.4em;\n",
    "}\n",
    "</style>\n",
    "\"\"\")"
   ]
  },
  {
   "cell_type": "code",
   "execution_count": 2,
   "metadata": {},
   "outputs": [],
   "source": [
    "from IPython.core.interactiveshell import InteractiveShell\n",
    "InteractiveShell.ast_node_interactivity = \"all\"\n",
    "from IPython.core.display import Image"
   ]
  },
  {
   "cell_type": "code",
   "execution_count": 3,
   "metadata": {},
   "outputs": [],
   "source": [
    "%display latex"
   ]
  },
  {
   "cell_type": "markdown",
   "metadata": {},
   "source": [
    "# Computing Modular Cohomology Rings of Finite Groups with SageMath\n",
    "##### Simon King (FSU Jena), 2019\n",
    "###### based on joint work with Graham Ellis, Bettina Eick, David Green\n",
    "\n",
    "1. History and installation\n",
    "2. Computing cohomology rings\n",
    "3. Invariants\n",
    "4. Induced homomorphisms, essential ideals, bar codes\n",
    "5. Detecting isomorphic rings"
   ]
  },
  {
   "cell_type": "markdown",
   "metadata": {},
   "source": [
    "## 1. History and installation\n",
    "\n",
    "#### Why Sagemath?\n",
    "\n",
    "Modular cohomology computations involve a variety of computational tasks, for which we use the following resources:\n",
    "- *Initial segments of minimal projective resolutions* of $\\mathbb F_pG$ where $G$ is a finite $p$-group: C code (David Green) using MeatAxe (Klaus Lux, Michael Ringe; or rather a fork maintained by S.K.) as back-end for linear algebra.\n",
    "- *Construction of special subgroups*: GAP code (David Green), SmallGroups library (Ulrich Besche, Bettina Eick, Eamann O'Brian)\n",
    "- *Cochains, induced maps, stable elemeint method etc.*: Cython, Python code (S.K.)\n",
    "- *Gröbner bases in graded-commutative rings*: Singular (Wolfram Decker, Gert-Martin Greuel, Gerhard Pfister, and Hans Schönemann)\n",
    "- *Poincaré series*: New implementation in SageMath (S.K.)\n",
    "\n",
    "When we started our project in 2008, SageMath was the only free open source platform providing a framework for all of the above.\n",
    "\n",
    "#### Performance\n",
    "\n",
    "We computed modular cohomology rings (for various primes) of ...\n",
    " - all groups of order 128 (with David Green, 2009),\n",
    " - the first three Janko groups,\n",
    " - Mathieu groups 11, 12, 22 and 23,\n",
    " - the McLaughlin group,\n",
    " - SuzukiGroup(8),\n",
    " - the Higman-Sims group and\n",
    " - the third Conway group (with David Green, Graham Ellis, 2011).\n",
    "\n",
    "Comparison: The first complete computation for all groups of order 64 (Carlson, 1997--2001) took about 8 months CPU time on SUN ULTRA 2200 (200 MHz clock speed?). With the latest version of p_group_cohomology, it takes about 7 minutes on this laptop (2.60 GHz clock speed).\n",
    "\n",
    "#### Documentation and installation\n",
    "\n",
    "The documentation and computational results can be found starting at https://users.fmi.uni-jena.de/~king/cohomology/. The current \"official\" version `p_group_cohomology-3.1` can be installed in SageMath by\n",
    "    \n",
    "    sage -i meataxe             # installs an optional package\n",
    "    sage -b                     # builds some modules in the SageMath library\n",
    "    sage -i p_group_cohomology\n",
    "    \n",
    "Part of what we are presenting here is not in version 3.1 yet but will be part of version 3.2 --- see trac ticket https://trac.sagemath.org/ticket/28204"
   ]
  },
  {
   "cell_type": "markdown",
   "metadata": {},
   "source": [
    "## 2. Computing cohomology rings\n",
    "\n",
    "Let's import the interface to the cohomology package:"
   ]
  },
  {
   "cell_type": "code",
   "execution_count": 4,
   "metadata": {},
   "outputs": [],
   "source": [
    "from pGroupCohomology import CohomologyRing"
   ]
  },
  {
   "cell_type": "markdown",
   "metadata": {},
   "source": [
    "We will see below that the computation of one cohomology ring may involve the computation of various other rings. And data of one ring can be huge. Therefore, those parts of the data that aren't actively used will be stored on disk in a location we call the *workspace*. There is a default location, but just for this talk I'm using a temporary folder:"
   ]
  },
  {
   "cell_type": "code",
   "execution_count": 5,
   "metadata": {},
   "outputs": [],
   "source": [
    "CohomologyRing.set_workspace(tmp_dir())"
   ]
  },
  {
   "cell_type": "markdown",
   "metadata": {},
   "source": [
    "##### Data sources\n",
    "\n",
    "The package is shipped with the modular cohomology rings of all groups of order 64. This \"local source\" is shared by all users of a SageMath installation and can of course be extended.\n",
    "\n",
    "If a ring can not be found in the user's workspace nor in the local sources, a \"web source\" is accessed (unless web access is disallowed).\n",
    "\n",
    "The cohomology ring is determined either...\n",
    " - by the address of a group in the SmallGroups library,\n",
    " - by a group defined in SageMath's interface to the GAP interpreter, or\n",
    " - a tower of subgroups starting with a Sylow subgroup\n",
    "\n",
    "and a prime number if it isn't clear from the context. There are further options, e.g., in some of our examples we use logging:"
   ]
  },
  {
   "cell_type": "code",
   "execution_count": 6,
   "metadata": {},
   "outputs": [
    {
     "name": "stderr",
     "output_type": "stream",
     "text": [
      "Resolution of GF(2)[64gp158]: \n",
      "          Differential reloaded\n",
      "          > rk P_02 =   4\n",
      "          Differential reloaded\n",
      "          > rk P_03 =   4\n",
      "          Differential reloaded\n",
      "          > rk P_04 =   6\n",
      "          Differential reloaded\n",
      "          > rk P_05 =   9\n",
      "          Differential reloaded\n",
      "          > rk P_06 =   9\n",
      "H^*(SmallGroup(64,158); GF(2)): \n",
      "          Import monomials\n",
      "Checking compatibility of SmallGroups library and stored cohomology ring\n"
     ]
    }
   ],
   "source": [
    "H64gp158 = CohomologyRing(64, 158, options='info') # This is from the local sources"
   ]
  },
  {
   "cell_type": "markdown",
   "metadata": {},
   "source": [
    "The ring is loaded from disk and already is completely known:"
   ]
  },
  {
   "cell_type": "code",
   "execution_count": 7,
   "metadata": {},
   "outputs": [
    {
     "data": {
      "text/html": [
       "<html><script type=\"math/tex; mode=display\">\\newcommand{\\Bold}[1]{\\mathbf{#1}}H^\\ast(SmallGroup(64,158); \\mathbb F_2)</script></html>"
      ],
      "text/plain": [
       "H^*(SmallGroup(64,158); GF(2))"
      ]
     },
     "execution_count": 7,
     "metadata": {},
     "output_type": "execute_result"
    },
    {
     "name": "stdout",
     "output_type": "stream",
     "text": [
      "\n",
      "Cohomology ring of Small Group number 158 of order 64 with coefficients in GF(2)\n",
      "\n",
      "Computation complete\n",
      "Minimal list of generators:\n",
      "[c_4_4: 4-Cocycle in H^*(SmallGroup(64,158); GF(2)),\n",
      " c_4_5: 4-Cocycle in H^*(SmallGroup(64,158); GF(2)),\n",
      " a_1_0: 1-Cocycle in H^*(SmallGroup(64,158); GF(2)),\n",
      " a_1_1: 1-Cocycle in H^*(SmallGroup(64,158); GF(2)),\n",
      " a_1_2: 1-Cocycle in H^*(SmallGroup(64,158); GF(2)),\n",
      " a_3_2: 3-Cocycle in H^*(SmallGroup(64,158); GF(2)),\n",
      " a_3_3: 3-Cocycle in H^*(SmallGroup(64,158); GF(2))]\n",
      "Minimal list of algebraic relations:\n",
      "[a_1_1^2+a_1_0*a_1_1+a_1_0^2,\n",
      " a_1_0*a_1_2,\n",
      " a_1_0^3,\n",
      " a_1_2^3,\n",
      " a_1_0*a_3_2,\n",
      " a_1_2*a_3_3,\n",
      " a_1_2^2*a_3_2+a_1_0^2*a_3_3,\n",
      " a_3_2*a_3_3,\n",
      " a_3_2^2+a_1_0^2*a_1_1*a_3_3+c_4_4*a_1_2^2,\n",
      " a_3_3^2+c_4_5*a_1_0^2+c_4_4*a_1_0^2]\n",
      "            \n"
     ]
    }
   ],
   "source": [
    "H64gp158\n",
    "print H64gp158"
   ]
  },
  {
   "cell_type": "markdown",
   "metadata": {},
   "source": [
    "We download an example of order 128, showing that some groups are known under a custom name:"
   ]
  },
  {
   "cell_type": "code",
   "execution_count": 8,
   "metadata": {},
   "outputs": [
    {
     "name": "stderr",
     "output_type": "stream",
     "text": [
      "Accessing web\n",
      "Press Ctrl-c to interrupt web access.\n",
      "Downloading and extracting archive file\n",
      "Trying to read downloaded data\n",
      "Resolution of GF(2)[128gp934]: \n",
      "          Differential reloaded\n",
      "          > rk P_02 =   6\n",
      "          Differential reloaded\n",
      "          > rk P_03 =  10\n",
      "          Differential reloaded\n",
      "          > rk P_04 =  15\n",
      "          Differential reloaded\n",
      "          > rk P_05 =  22\n",
      "          Differential reloaded\n",
      "          > rk P_06 =  30\n",
      "          Differential reloaded\n",
      "          > rk P_07 =  38\n",
      "          Differential reloaded\n",
      "          > rk P_08 =  50\n",
      "          Differential reloaded\n",
      "          > rk P_09 =  66\n",
      "          Differential reloaded\n",
      "          > rk P_10 =  84\n",
      "          Differential reloaded\n",
      "          > rk P_11 = 104\n",
      "          Differential reloaded\n",
      "          > rk P_12 = 128\n",
      "          Differential reloaded\n",
      "          > rk P_13 = 157\n",
      "          Differential reloaded\n",
      "          > rk P_14 = 188\n",
      "          Differential reloaded\n",
      "          > rk P_15 = 220\n",
      "          Differential reloaded\n",
      "          > rk P_16 = 259\n",
      "          Differential reloaded\n",
      "          > rk P_17 = 305\n",
      "          Differential reloaded\n",
      "          > rk P_18 = 354\n",
      "          Differential reloaded\n",
      "          > rk P_19 = 406\n",
      "          Differential reloaded\n",
      "          > rk P_20 = 465\n",
      "H^*(Syl2(J2); GF(2)): \n",
      "          Import monomials\n",
      "Checking compatibility of SmallGroups library and stored cohomology ring\n"
     ]
    }
   ],
   "source": [
    "H128gp934 = CohomologyRing(128, 934) # this is from a remote source, provided internet works..."
   ]
  },
  {
   "cell_type": "code",
   "execution_count": 9,
   "metadata": {},
   "outputs": [
    {
     "data": {
      "text/html": [
       "<html><script type=\"math/tex; mode=display\">\\newcommand{\\Bold}[1]{\\mathbf{#1}}H^\\ast(Syl2(J2); \\mathbb F_2)</script></html>"
      ],
      "text/plain": [
       "H^*(Syl2(J2); GF(2))"
      ]
     },
     "execution_count": 9,
     "metadata": {},
     "output_type": "execute_result"
    },
    {
     "name": "stdout",
     "output_type": "stream",
     "text": [
      "\n",
      "Cohomology ring of Sylow 2-subgroup of Hall-Janko Group J_2 with coefficients in GF(2)\n",
      "\n",
      "Computation complete\n",
      "Minimal list of generators:\n",
      "[a_2_4: 2-Cocycle in H^*(Syl2(J2); GF(2)),\n",
      " a_2_5: 2-Cocycle in H^*(Syl2(J2); GF(2)),\n",
      " b_4_14: 4-Cocycle in H^*(Syl2(J2); GF(2)),\n",
      " c_8_49: 8-Cocycle in H^*(Syl2(J2); GF(2)),\n",
      " b_10_83: 10-Cocycle in H^*(Syl2(J2); GF(2)),\n",
      " b_1_0: 1-Cocycle in H^*(Syl2(J2); GF(2)),\n",
      " b_1_1: 1-Cocycle in H^*(Syl2(J2); GF(2)),\n",
      " b_1_2: 1-Cocycle in H^*(Syl2(J2); GF(2)),\n",
      " b_3_8: 3-Cocycle in H^*(Syl2(J2); GF(2)),\n",
      " b_3_9: 3-Cocycle in H^*(Syl2(J2); GF(2)),\n",
      " b_5_20: 5-Cocycle in H^*(Syl2(J2); GF(2)),\n",
      " b_5_21: 5-Cocycle in H^*(Syl2(J2); GF(2))]\n",
      "Minimal list of algebraic relations:\n",
      "[b_1_0*b_1_1,\n",
      " b_1_0*b_1_2,\n",
      " a_2_4*b_1_1,\n",
      " a_2_5*b_1_2,\n",
      " a_2_5*b_1_1+a_2_4*b_1_2,\n",
      " a_2_5^2+a_2_4*a_2_5+a_2_4^2,\n",
      " b_1_0*b_3_8+a_2_4^2,\n",
      " b_1_0*b_3_9+a_2_5^2,\n",
      " a_2_4*b_3_8,\n",
      " a_2_5*b_3_9,\n",
      " a_2_5*b_3_8+a_2_4*b_3_9,\n",
      " b_4_14*b_1_0+a_2_4*b_1_0^3+a_2_4*a_2_5*b_1_0,\n",
      " b_3_9^2+b_1_2*b_5_20+b_1_1*b_1_2^2*b_3_8+b_1_1^2*b_1_2*b_3_9+b_1_1^3*b_3_8+b_4_14*b_1_2^2+b_4_14*b_1_1^2+a_2_5*b_4_14+a_2_4*a_2_5*b_1_0^2+a_2_4^2*a_2_5,\n",
      " b_1_0*b_5_20+a_2_4*b_1_0^4+a_2_4^2*b_1_0^2,\n",
      " b_1_2*b_5_21+b_1_2^3*b_3_9+b_1_2^3*b_3_8+b_1_1*b_5_20+b_1_1*b_1_2^2*b_3_9+b_1_1*b_1_2^2*b_3_8+b_1_1^2*b_1_2*b_3_9,\n",
      " b_1_0*b_5_21+a_2_4*a_2_5*b_1_0^2+a_2_4^2*b_1_0^2+a_2_4^2*a_2_5,\n",
      " b_3_8^2+b_1_1*b_5_21+b_1_1*b_1_2^2*b_3_9+b_1_1*b_1_2^2*b_3_8+b_1_1^2*b_1_2*b_3_9+b_4_14*b_1_2^2+a_2_4*b_4_14+a_2_4^2*b_1_0^2+a_2_4^2*a_2_5,\n",
      " a_2_5*b_5_20+a_2_4*b_4_14*b_1_2+a_2_4*a_2_5*b_1_0^3+a_2_4^2*a_2_5*b_1_0,\n",
      " a_2_5*b_5_21+a_2_4*b_5_20+a_2_4*b_4_14*b_1_2+a_2_4^2*b_1_0^3,\n",
      " a_2_4*b_5_21+a_2_4*b_4_14*b_1_2+a_2_4^2*a_2_5*b_1_0,\n",
      " b_5_20^2+b_1_2^2*b_3_8*b_5_20+b_1_1*b_1_2*b_3_8*b_5_20+b_1_1*b_1_2^3*b_3_8*b_3_9+b_1_1*b_1_2^4*b_5_20+b_1_1^2*b_1_2^2*b_3_8*b_3_9+b_1_1^2*b_1_2^3*b_5_20+b_1_1^2*b_1_2^5*b_3_9+b_1_1^2*b_1_2^5*b_3_8+b_1_1^3*b_1_2^4*b_3_9+b_1_1^4*b_1_2*b_5_20+b_1_1^4*b_1_2^3*b_3_9+b_1_1^4*b_1_2^3*b_3_8+b_1_1^5*b_1_2^2*b_3_8+b_4_14*b_1_2*b_5_20+b_4_14*b_1_2^3*b_3_8+b_4_14*b_1_2^6+b_4_14*b_1_1*b_1_2^2*b_3_9+b_4_14*b_1_1*b_1_2^2*b_3_8+b_4_14*b_1_1^3*b_1_2^3+b_4_14^2*b_1_2^2+a_2_5*b_4_14^2+a_2_4^2*b_1_0^6+a_2_4^2*a_2_5*b_1_0^4+c_8_49*b_1_2^2,\n",
      " b_5_20*b_5_21+b_1_2^2*b_3_9*b_5_20+b_1_2^2*b_3_8*b_5_20+b_1_1*b_1_2*b_3_9*b_5_20+b_1_1^2*b_3_9*b_5_20+b_1_1^2*b_3_8*b_5_20+b_1_1^2*b_1_2^2*b_3_8*b_3_9+b_1_1^2*b_1_2^3*b_5_20+b_1_1^3*b_1_2*b_3_8*b_3_9+b_1_1^3*b_1_2^2*b_5_20+b_1_1^3*b_1_2^4*b_3_9+b_1_1^3*b_1_2^4*b_3_8+b_1_1^4*b_1_2^3*b_3_9+b_1_1^5*b_5_20+b_1_1^5*b_1_2^2*b_3_9+b_1_1^5*b_1_2^2*b_3_8+b_1_1^6*b_1_2*b_3_8+b_4_14*b_1_1*b_5_20+b_4_14*b_1_1*b_1_2^2*b_3_8+b_4_14*b_1_1*b_1_2^5+b_4_14*b_1_1^2*b_1_2*b_3_9+b_4_14*b_1_1^2*b_1_2*b_3_8+b_4_14*b_1_1^4*b_1_2^2+b_4_14^2*b_1_1*b_1_2+a_2_5*b_4_14^2+a_2_4*b_4_14^2+c_8_49*b_1_1*b_1_2,\n",
      " b_5_21^2+b_1_2^5*b_5_20+b_1_1*b_1_2^6*b_3_8+b_1_1^2*b_3_8*b_5_21+b_1_1^2*b_3_8*b_5_20+b_1_1^2*b_1_2^2*b_3_8*b_3_9+b_1_1^2*b_1_2^5*b_3_9+b_1_1^2*b_1_2^5*b_3_8+b_1_1^3*b_1_2^2*b_5_20+b_1_1^3*b_1_2^4*b_3_9+b_1_1^4*b_1_2^3*b_3_8+b_1_1^5*b_5_21+b_1_1^5*b_5_20+b_1_1^7*b_3_9+b_4_14*b_1_1*b_5_21+b_4_14*b_1_1*b_1_2^2*b_3_9+b_4_14*b_1_1*b_1_2^2*b_3_8+b_4_14*b_1_1^2*b_1_2*b_3_9+b_4_14*b_1_1^2*b_1_2^4+b_4_14*b_1_1^3*b_3_8+b_4_14*b_1_1^3*b_1_2^3+b_4_14*b_1_1^5*b_1_2+b_4_14*b_1_1^6+b_4_14^2*b_1_1^2+a_2_4*b_4_14^2+c_8_49*b_1_1^2,\n",
      " b_3_8*b_3_9*b_5_20+b_1_2^3*b_3_9*b_5_20+b_1_2^6*b_5_20+b_1_1*b_1_2^2*b_3_8*b_5_20+b_1_1*b_1_2^4*b_3_8*b_3_9+b_1_1*b_1_2^5*b_5_20+b_1_1*b_1_2^7*b_3_9+b_1_1*b_1_2^7*b_3_8+b_1_1^2*b_1_2^3*b_3_8*b_3_9+b_1_1^2*b_1_2^4*b_5_20+b_1_1^2*b_1_2^6*b_3_9+b_1_1^3*b_3_9*b_5_20+b_1_1^3*b_1_2^5*b_3_9+b_1_1^3*b_1_2^5*b_3_8+b_1_1^4*b_1_2*b_3_8*b_3_9+b_1_1^5*b_1_2^3*b_3_9+b_1_1^6*b_5_20+b_1_1^6*b_1_2^2*b_3_8+b_1_1^7*b_1_2*b_3_9+b_10_83*b_1_2+b_4_14*b_1_2*b_3_8*b_3_9+b_4_14*b_1_2^2*b_5_20+b_4_14*b_1_2^4*b_3_8+b_4_14*b_1_2^7+b_4_14*b_1_1*b_1_2^3*b_3_9+b_4_14*b_1_1*b_1_2^6+b_4_14*b_1_1^2*b_5_20+b_4_14*b_1_1^2*b_1_2^2*b_3_8+b_4_14*b_1_1^3*b_1_2*b_3_9+b_4_14*b_1_1^3*b_1_2*b_3_8+b_4_14*b_1_1^3*b_1_2^4+b_4_14*b_1_1^5*b_1_2^2+b_4_14^2*b_1_1^2*b_1_2+a_2_4*b_4_14*b_5_20+c_8_49*b_1_1^2*b_1_2+a_2_4*c_8_49*b_1_2,\n",
      " b_10_83*b_1_0+a_2_4*a_2_5*b_1_0^7+c_8_49*b_1_0^3+a_2_4*c_8_49*b_1_0,\n",
      " b_3_8*b_3_9*b_5_21+b_1_2^3*b_3_8*b_5_20+b_1_1*b_1_2^2*b_3_9*b_5_20+b_1_1*b_1_2^2*b_3_8*b_5_20+b_1_1*b_1_2^5*b_5_20+b_1_1^2*b_1_2*b_3_9*b_5_20+b_1_1^2*b_1_2^3*b_3_8*b_3_9+b_1_1^2*b_1_2^4*b_5_20+b_1_1^2*b_1_2^6*b_3_9+b_1_1^2*b_1_2^6*b_3_8+b_1_1^3*b_3_9*b_5_21+b_1_1^3*b_3_9*b_5_20+b_1_1^3*b_1_2^5*b_3_9+b_1_1^3*b_1_2^5*b_3_8+b_1_1^4*b_1_2^2*b_5_20+b_1_1^5*b_3_8*b_3_9+b_1_1^5*b_1_2*b_5_20+b_1_1^5*b_1_2^3*b_3_9+b_1_1^6*b_5_20+b_1_1^6*b_1_2^2*b_3_9+b_1_1^8*b_3_8+b_10_83*b_1_1+b_4_14*b_1_2^4*b_3_9+b_4_14*b_1_2^4*b_3_8+b_4_14*b_1_1*b_3_8*b_3_9+b_4_14*b_1_1*b_1_2*b_5_20+b_4_14*b_1_1*b_1_2^3*b_3_9+b_4_14*b_1_1^2*b_5_21+b_4_14*b_1_1^2*b_1_2^2*b_3_8+b_4_14*b_1_1^3*b_1_2*b_3_9+b_4_14*b_1_1^3*b_1_2*b_3_8+b_4_14*b_1_1^6*b_1_2+b_4_14*b_1_1^7+b_4_14^2*b_1_1^3+a_2_4*b_4_14*b_5_20+c_8_49*b_1_1^3,\n",
      " a_2_5*b_10_83+a_2_4^2*a_2_5*b_1_0^6+a_2_5*c_8_49*b_1_0^2+a_2_4*a_2_5*c_8_49,\n",
      " a_2_4*b_10_83+a_2_4^2*a_2_5*b_1_0^6+a_2_4*c_8_49*b_1_0^2+a_2_4^2*c_8_49,\n",
      " b_1_2^5*b_3_9*b_5_20+b_1_2^5*b_3_8*b_5_20+b_1_2^8*b_5_20+b_1_1*b_1_2^7*b_5_20+b_1_1*b_1_2^9*b_3_9+b_1_1*b_1_2^9*b_3_8+b_1_1^2*b_1_2^3*b_3_8*b_5_20+b_1_1^2*b_1_2^6*b_5_20+b_1_1^2*b_1_2^8*b_3_9+b_1_1^3*b_1_2^2*b_3_9*b_5_20+b_1_1^3*b_1_2^5*b_5_20+b_1_1^3*b_1_2^7*b_3_9+b_1_1^4*b_1_2*b_3_9*b_5_20+b_1_1^4*b_1_2^3*b_3_8*b_3_9+b_1_1^4*b_1_2^6*b_3_9+b_1_1^5*b_3_9*b_5_20+b_1_1^5*b_1_2^3*b_5_20+b_1_1^5*b_1_2^5*b_3_9+b_1_1^5*b_1_2^5*b_3_8+b_1_1^6*b_1_2*b_3_8*b_3_9+b_1_1^6*b_1_2^2*b_5_20+b_1_1^6*b_1_2^4*b_3_9+b_1_1^8*b_5_21+b_1_1^8*b_1_2^2*b_3_9+b_1_1^9*b_1_2*b_3_8+b_1_1^10*b_3_8+b_10_83*b_3_8+b_10_83*b_1_2^3+b_4_14*b_1_2*b_3_9*b_5_20+b_4_14*b_1_2*b_3_8*b_5_20+b_4_14*b_1_2^3*b_3_8*b_3_9+b_4_14*b_1_2^4*b_5_20+b_4_14*b_1_2^9+b_4_14*b_1_1*b_3_8*b_5_21+b_4_14*b_1_1*b_1_2^3*b_5_20+b_4_14*b_1_1*b_1_2^5*b_3_8+b_4_14*b_1_1^2*b_1_2*b_3_8*b_3_9+b_4_14*b_1_1^3*b_3_8*b_3_9+b_4_14*b_1_1^4*b_1_2^2*b_3_8+b_4_14*b_1_1^4*b_1_2^5+b_4_14*b_1_1^5*b_1_2*b_3_9+b_4_14*b_1_1^5*b_1_2*b_3_8+b_4_14*b_1_1^6*b_3_9+b_4_14*b_1_1^6*b_3_8+b_4_14*b_1_1^6*b_1_2^3+b_4_14*b_1_1^8*b_1_2+b_4_14*b_1_1^9+b_4_14^2*b_1_2^2*b_3_9+b_4_14^2*b_1_2^5+b_4_14^2*b_1_1*b_1_2^4+b_4_14^2*b_1_1^2*b_3_9+b_4_14^2*b_1_1^2*b_3_8+b_4_14^2*b_1_1^2*b_1_2^3+b_4_14^2*b_1_1^3*b_1_2^2+c_8_49*b_1_1^2*b_3_9+c_8_49*b_1_1^2*b_3_8+c_8_49*b_1_1^2*b_1_2^3+a_2_4^2*c_8_49*b_1_0,\n",
      " b_1_2^5*b_3_9*b_5_20+b_1_2^5*b_3_8*b_5_20+b_1_1*b_1_2^7*b_5_20+b_1_1^2*b_1_2^3*b_3_9*b_5_20+b_1_1^2*b_1_2^3*b_3_8*b_5_20+b_1_1^2*b_1_2^5*b_3_8*b_3_9+b_1_1^2*b_1_2^8*b_3_8+b_1_1^3*b_1_2^4*b_3_8*b_3_9+b_1_1^4*b_1_2^4*b_5_20+b_1_1^4*b_1_2^6*b_3_9+b_1_1^4*b_1_2^6*b_3_8+b_1_1^6*b_1_2^4*b_3_9+b_1_1^7*b_3_8*b_3_9+b_1_1^7*b_1_2*b_5_20+b_1_1^7*b_1_2^3*b_3_9+b_1_1^8*b_5_20+b_1_1^8*b_1_2^2*b_3_9+b_1_1^8*b_1_2^2*b_3_8+b_1_1^9*b_1_2*b_3_9+b_1_1^10*b_3_9+b_10_83*b_3_9+b_10_83*b_1_1*b_1_2^2+b_10_83*b_1_1^2*b_1_2+b_4_14*b_1_2*b_3_9*b_5_20+b_4_14*b_1_2*b_3_8*b_5_20+b_4_14*b_1_2^3*b_3_8*b_3_9+b_4_14*b_1_2^4*b_5_20+b_4_14*b_1_2^6*b_3_9+b_4_14*b_1_2^9+b_4_14*b_1_1*b_3_9*b_5_21+b_4_14*b_1_1*b_3_8*b_5_21+b_4_14*b_1_1*b_1_2^3*b_5_20+b_4_14*b_1_1*b_1_2^5*b_3_9+b_4_14*b_1_1*b_1_2^5*b_3_8+b_4_14*b_1_1^2*b_1_2*b_3_8*b_3_9+b_4_14*b_1_1^2*b_1_2^2*b_5_20+b_4_14*b_1_1^3*b_1_2*b_5_20+b_4_14*b_1_1^3*b_1_2^3*b_3_8+b_4_14*b_1_1^4*b_5_21+b_4_14*b_1_1^4*b_1_2^2*b_3_9+b_4_14*b_1_1^4*b_1_2^2*b_3_8+b_4_14*b_1_1^4*b_1_2^5+b_4_14*b_1_1^5*b_1_2*b_3_8+b_4_14*b_1_1^5*b_1_2^4+b_4_14*b_1_1^6*b_3_9+b_4_14*b_1_1^6*b_1_2^3+b_4_14*b_1_1^7*b_1_2^2+b_4_14*b_1_1^8*b_1_2+b_4_14*b_1_1^9+b_4_14^2*b_1_1*b_1_2^4+b_4_14^2*b_1_1^2*b_3_9+b_4_14^2*b_1_1^2*b_3_8+b_4_14^2*b_1_1^2*b_1_2^3+b_4_14^2*b_1_1^3*b_1_2^2+b_4_14^2*b_1_1^5+a_2_4*b_4_14^2*b_3_9+c_8_49*b_1_2^2*b_3_8+c_8_49*b_1_2^5+c_8_49*b_1_1^2*b_3_9+c_8_49*b_1_1^2*b_1_2^3+c_8_49*b_1_1^4*b_1_2+c_8_49*b_1_1^5+a_2_4*c_8_49*b_3_9+a_2_4*a_2_5*c_8_49*b_1_0+a_2_4^2*c_8_49*b_1_0,\n",
      " b_1_1^3*b_1_2^4*b_3_8*b_5_20+b_1_1^3*b_1_2^6*b_3_8*b_3_9+b_1_1^3*b_1_2^7*b_5_20+b_1_1^4*b_1_2^3*b_3_9*b_5_20+b_1_1^4*b_1_2^3*b_3_8*b_5_20+b_1_1^4*b_1_2^6*b_5_20+b_1_1^4*b_1_2^8*b_3_9+b_1_1^5*b_1_2^7*b_3_8+b_1_1^6*b_1_2*b_3_9*b_5_20+b_1_1^6*b_1_2^4*b_5_20+b_1_1^6*b_1_2^6*b_3_8+b_1_1^7*b_3_8*b_5_21+b_1_1^7*b_1_2^2*b_3_8*b_3_9+b_1_1^7*b_1_2^3*b_5_20+b_1_1^8*b_1_2*b_3_8*b_3_9+b_1_1^8*b_1_2^2*b_5_20+b_1_1^8*b_1_2^4*b_3_9+b_1_1^9*b_1_2*b_5_20+b_1_1^9*b_1_2^3*b_3_9+b_1_1^10*b_5_21+b_1_1^10*b_1_2^2*b_3_9+b_1_1^10*b_1_2^2*b_3_8+b_1_1^11*b_1_2*b_3_9+b_1_1^11*b_1_2*b_3_8+b_10_83*b_5_21+b_10_83*b_1_2^2*b_3_9+b_10_83*b_1_2^2*b_3_8+b_10_83*b_1_1*b_1_2*b_3_9+b_10_83*b_1_1^2*b_1_2^3+b_10_83*b_1_1^3*b_1_2^2+b_10_83*b_1_1^4*b_1_2+b_4_14*b_1_1*b_1_2^2*b_3_9*b_5_20+b_4_14*b_1_1*b_1_2^2*b_3_8*b_5_20+b_4_14*b_1_1*b_1_2^7*b_3_9+b_4_14*b_1_1*b_1_2^10+b_4_14*b_1_1^2*b_1_2*b_3_9*b_5_20+b_4_14*b_1_1^2*b_1_2^3*b_3_8*b_3_9+b_4_14*b_1_1^2*b_1_2^4*b_5_20+b_4_14*b_1_1^2*b_1_2^6*b_3_9+b_4_14*b_1_1^3*b_3_9*b_5_21+b_4_14*b_1_1^3*b_3_8*b_5_21+b_4_14*b_1_1^3*b_3_8*b_5_20+b_4_14*b_1_1^3*b_1_2^5*b_3_9+b_4_14*b_1_1^3*b_1_2^5*b_3_8+b_4_14*b_1_1^4*b_1_2^2*b_5_20+b_4_14*b_1_1^4*b_1_2^4*b_3_9+b_4_14*b_1_1^4*b_1_2^4*b_3_8+b_4_14*b_1_1^4*b_1_2^7+b_4_14*b_1_1^5*b_3_8*b_3_9+b_4_14*b_1_1^5*b_1_2^3*b_3_9+b_4_14*b_1_1^5*b_1_2^6+b_4_14*b_1_1^6*b_5_20+b_4_14*b_1_1^6*b_1_2^2*b_3_9+b_4_14*b_1_1^6*b_1_2^5+b_4_14*b_1_1^7*b_1_2*b_3_9+b_4_14*b_1_1^7*b_1_2*b_3_8+b_4_14*b_1_1^7*b_1_2^4+b_4_14*b_1_1^8*b_3_9+b_4_14*b_1_1^8*b_3_8+b_4_14*b_1_1^8*b_1_2^3+b_4_14*b_1_1^10*b_1_2+b_4_14^2*b_1_1*b_3_8*b_3_9+b_4_14^2*b_1_1*b_1_2*b_5_20+b_4_14^2*b_1_1*b_1_2^3*b_3_9+b_4_14^2*b_1_1*b_1_2^3*b_3_8+b_4_14^2*b_1_1*b_1_2^6+b_4_14^2*b_1_1^2*b_1_2^2*b_3_8+b_4_14^2*b_1_1^3*b_1_2^4+b_4_14^2*b_1_1^4*b_3_8+b_4_14^2*b_1_1^4*b_1_2^3+b_4_14^2*b_1_1^5*b_1_2^2+b_4_14^2*b_1_1^6*b_1_2+b_4_14^2*b_1_1^7+b_4_14^3*b_1_1*b_1_2^2+b_4_14^3*b_1_1^3+a_2_4*b_4_14^3*b_1_2+c_8_49*b_1_1*b_3_8*b_3_9+c_8_49*b_1_1*b_1_2^3*b_3_9+c_8_49*b_1_1*b_1_2^6+c_8_49*b_1_1^2*b_5_21+c_8_49*b_1_1^2*b_1_2^2*b_3_9+c_8_49*b_1_1^2*b_1_2^2*b_3_8+c_8_49*b_1_1^3*b_1_2*b_3_9+c_8_49*b_1_1^3*b_1_2^4+c_8_49*b_1_1^4*b_1_2^3+c_8_49*b_1_1^5*b_1_2^2+c_8_49*b_1_1^6*b_1_2+b_4_14*c_8_49*b_1_1*b_1_2^2+b_4_14*c_8_49*b_1_1^3+a_2_4*a_2_5*c_8_49*b_1_0^3+a_2_4^2*c_8_49*b_1_0^3,\n",
      " b_1_1^2*b_1_2^5*b_3_8*b_5_20+b_1_1^2*b_1_2^7*b_3_8*b_3_9+b_1_1^3*b_1_2^4*b_3_9*b_5_20+b_1_1^3*b_1_2^6*b_3_8*b_3_9+b_1_1^3*b_1_2^9*b_3_8+b_1_1^4*b_1_2^3*b_3_8*b_5_20+b_1_1^4*b_1_2^5*b_3_8*b_3_9+b_1_1^5*b_1_2^4*b_3_8*b_3_9+b_1_1^5*b_1_2^7*b_3_9+b_1_1^6*b_1_2^3*b_3_8*b_3_9+b_1_1^6*b_1_2^4*b_5_20+b_1_1^7*b_3_9*b_5_20+b_1_1^7*b_3_8*b_5_21+b_1_1^7*b_3_8*b_5_20+b_1_1^7*b_1_2^2*b_3_8*b_3_9+b_1_1^7*b_1_2^3*b_5_20+b_1_1^7*b_1_2^5*b_3_8+b_1_1^8*b_1_2*b_3_8*b_3_9+b_1_1^8*b_1_2^4*b_3_8+b_1_1^9*b_3_8*b_3_9+b_1_1^9*b_1_2*b_5_20+b_1_1^9*b_1_2^3*b_3_9+b_1_1^9*b_1_2^3*b_3_8+b_1_1^11*b_1_2*b_3_9+b_1_1^12*b_3_9+b_1_1^12*b_3_8+b_10_83*b_5_21+b_10_83*b_5_20+b_10_83*b_1_2^2*b_3_9+b_10_83*b_1_1*b_1_2^4+b_10_83*b_1_1^2*b_3_9+b_10_83*b_1_1^2*b_3_8+b_10_83*b_1_1^2*b_1_2^3+b_10_83*b_1_1^3*b_1_2^2+b_4_14*b_1_2^3*b_3_9*b_5_20+b_4_14*b_1_2^3*b_3_8*b_5_20+b_4_14*b_1_2^8*b_3_9+b_4_14*b_1_2^11+b_4_14*b_1_1*b_1_2^2*b_3_8*b_5_20+b_4_14*b_1_1*b_1_2^4*b_3_8*b_3_9+b_4_14*b_1_1*b_1_2^5*b_5_20+b_4_14*b_1_1*b_1_2^10+b_4_14*b_1_1^2*b_1_2*b_3_9*b_5_20+b_4_14*b_1_1^2*b_1_2*b_3_8*b_5_20+b_4_14*b_1_1^2*b_1_2^3*b_3_8*b_3_9+b_4_14*b_1_1^2*b_1_2^6*b_3_9+b_4_14*b_1_1^2*b_1_2^6*b_3_8+b_4_14*b_1_1^3*b_3_9*b_5_20+b_4_14*b_1_1^3*b_3_8*b_5_21+b_4_14*b_1_1^3*b_1_2^5*b_3_9+b_4_14*b_1_1^3*b_1_2^5*b_3_8+b_4_14*b_1_1^3*b_1_2^8+b_4_14*b_1_1^4*b_1_2^4*b_3_9+b_4_14*b_1_1^4*b_1_2^4*b_3_8+b_4_14*b_1_1^5*b_1_2*b_5_20+b_4_14*b_1_1^6*b_5_21+b_4_14*b_1_1^6*b_5_20+b_4_14*b_1_1^6*b_1_2^2*b_3_9+b_4_14*b_1_1^6*b_1_2^5+b_4_14*b_1_1^7*b_1_2*b_3_9+b_4_14*b_1_1^7*b_1_2*b_3_8+b_4_14*b_1_1^8*b_3_9+b_4_14*b_1_1^8*b_1_2^3+b_4_14*b_1_1^10*b_1_2+b_4_14^2*b_1_2*b_3_8*b_3_9+b_4_14^2*b_1_2^2*b_5_20+b_4_14^2*b_1_2^4*b_3_9+b_4_14^2*b_1_2^4*b_3_8+b_4_14^2*b_1_2^7+b_4_14^2*b_1_1*b_3_8*b_3_9+b_4_14^2*b_1_1*b_1_2*b_5_20+b_4_14^2*b_1_1*b_1_2^3*b_3_9+b_4_14^2*b_1_1*b_1_2^6+b_4_14^2*b_1_1^2*b_1_2^2*b_3_9+b_4_14^2*b_1_1^2*b_1_2^2*b_3_8+b_4_14^2*b_1_1^3*b_1_2*b_3_8+b_4_14^2*b_1_1^4*b_3_8+b_4_14^2*b_1_1^5*b_1_2^2+b_4_14^2*b_1_1^6*b_1_2+b_4_14^3*b_1_2^3+b_4_14^3*b_1_1*b_1_2^2+b_4_14^3*b_1_1^2*b_1_2+b_4_14^3*b_1_1^3+a_2_4*b_4_14^2*b_5_20+a_2_4^2*a_2_5*b_1_0^9+c_8_49*b_1_2*b_3_8*b_3_9+c_8_49*b_1_2^4*b_3_9+c_8_49*b_1_2^7+c_8_49*b_1_1*b_3_8*b_3_9+c_8_49*b_1_1*b_1_2^3*b_3_9+c_8_49*b_1_1*b_1_2^6+c_8_49*b_1_1^2*b_5_21+c_8_49*b_1_1^2*b_5_20+c_8_49*b_1_1^2*b_1_2^2*b_3_9+c_8_49*b_1_1^2*b_1_2^2*b_3_8+c_8_49*b_1_1^4*b_3_8+c_8_49*b_1_1^7+b_4_14*c_8_49*b_1_2^3+b_4_14*c_8_49*b_1_1*b_1_2^2+b_4_14*c_8_49*b_1_1^2*b_1_2+b_4_14*c_8_49*b_1_1^3+a_2_4*c_8_49*b_5_20+a_2_4*c_8_49*b_1_0^5+a_2_4*b_4_14*c_8_49*b_1_2+a_2_4*a_2_5*c_8_49*b_1_0^3,\n",
      " b_10_83*b_1_2^2*b_3_9*b_5_20+b_10_83*b_1_2^5*b_5_20+b_10_83*b_1_1*b_1_2*b_3_8*b_5_20+b_10_83*b_1_1*b_1_2^4*b_5_20+b_10_83*b_1_1*b_1_2^6*b_3_9+b_10_83*b_1_1*b_1_2^6*b_3_8+b_10_83*b_1_1^2*b_3_8*b_5_20+b_10_83*b_1_1^2*b_1_2^3*b_5_20+b_10_83*b_1_1^2*b_1_2^5*b_3_9+b_10_83*b_1_1^2*b_1_2^5*b_3_8+b_10_83*b_1_1^3*b_1_2^4*b_3_8+b_10_83*b_1_1^4*b_1_2*b_5_20+b_10_83*b_1_1^4*b_1_2^3*b_3_9+b_10_83*b_1_1^4*b_1_2^3*b_3_8+b_10_83*b_1_1^4*b_1_2^6+b_10_83*b_1_1^5*b_5_20+b_10_83*b_1_1^5*b_1_2^2*b_3_8+b_10_83*b_1_1^5*b_1_2^5+b_10_83*b_1_1^6*b_1_2*b_3_8+b_10_83*b_1_1^6*b_1_2^4+b_10_83*b_1_1^7*b_3_8+b_10_83*b_1_1^10+b_10_83^2+b_4_14*b_1_2^10*b_3_8*b_3_9+b_4_14*b_1_1*b_1_2^12*b_3_8+b_4_14*b_1_1^2*b_1_2^8*b_3_8*b_3_9+b_4_14*b_1_1^2*b_1_2^11*b_3_9+b_4_14*b_1_1^3*b_1_2^10*b_3_8+b_4_14*b_1_1^3*b_1_2^13+b_4_14*b_1_1^4*b_1_2^6*b_3_8*b_3_9+b_4_14*b_1_1^5*b_1_2^3*b_3_8*b_5_20+b_4_14*b_1_1^6*b_1_2^2*b_3_9*b_5_20+b_4_14*b_1_1^6*b_1_2^2*b_3_8*b_5_20+b_4_14*b_1_1^6*b_1_2^5*b_5_20+b_4_14*b_1_1^6*b_1_2^7*b_3_9+b_4_14*b_1_1^6*b_1_2^7*b_3_8+b_4_14*b_1_1^7*b_1_2^3*b_3_8*b_3_9+b_4_14*b_1_1^7*b_1_2^6*b_3_9+b_4_14*b_1_1^8*b_3_9*b_5_21+b_4_14*b_1_1^8*b_3_9*b_5_20+b_4_14*b_1_1^8*b_3_8*b_5_20+b_4_14*b_1_1^8*b_1_2^2*b_3_8*b_3_9+b_4_14*b_1_1^8*b_1_2^3*b_5_20+b_4_14*b_1_1^8*b_1_2^5*b_3_9+b_4_14*b_1_1^9*b_1_2*b_3_8*b_3_9+b_4_14*b_1_1^10*b_1_2^6+b_4_14*b_1_1^11*b_5_21+b_4_14*b_1_1^11*b_1_2^2*b_3_9+b_4_14*b_1_1^11*b_1_2^2*b_3_8+b_4_14*b_1_1^11*b_1_2^5+b_4_14*b_1_1^12*b_1_2*b_3_9+b_4_14*b_1_1^12*b_1_2^4+b_4_14*b_1_1^13*b_3_9+b_4_14*b_1_1^13*b_3_8+b_4_14*b_1_1^15*b_1_2+b_4_14*b_10_83*b_1_2^3*b_3_9+b_4_14*b_10_83*b_1_2^3*b_3_8+b_4_14*b_10_83*b_1_2^6+b_4_14*b_10_83*b_1_1*b_1_2^5+b_4_14*b_10_83*b_1_1^2*b_1_2*b_3_9+b_4_14*b_10_83*b_1_1^2*b_1_2^4+b_4_14*b_10_83*b_1_1^3*b_3_8+b_4_14*b_10_83*b_1_1^3*b_1_2^3+b_4_14*b_10_83*b_1_1^5*b_1_2+b_4_14^2*b_1_2^4*b_3_9*b_5_20+b_4_14^2*b_1_2^9*b_3_9+b_4_14^2*b_1_2^12+b_4_14^2*b_1_1*b_1_2^3*b_3_9*b_5_20+b_4_14^2*b_1_1*b_1_2^3*b_3_8*b_5_20+b_4_14^2*b_1_1*b_1_2^5*b_3_8*b_3_9+b_4_14^2*b_1_1*b_1_2^6*b_5_20+b_4_14^2*b_1_1*b_1_2^8*b_3_9+b_4_14^2*b_1_1^2*b_1_2^2*b_3_9*b_5_20+b_4_14^2*b_1_1^2*b_1_2^4*b_3_8*b_3_9+b_4_14^2*b_1_1^2*b_1_2^5*b_5_20+b_4_14^2*b_1_1^2*b_1_2^7*b_3_9+b_4_14^2*b_1_1^2*b_1_2^7*b_3_8+b_4_14^2*b_1_1^3*b_1_2*b_3_9*b_5_20+b_4_14^2*b_1_1^3*b_1_2*b_3_8*b_5_20+b_4_14^2*b_1_1^3*b_1_2^6*b_3_9+b_4_14^2*b_1_1^3*b_1_2^6*b_3_8+b_4_14^2*b_1_1^4*b_3_9*b_5_20+b_4_14^2*b_1_1^4*b_1_2^2*b_3_8*b_3_9+b_4_14^2*b_1_1^5*b_1_2*b_3_8*b_3_9+b_4_14^2*b_1_1^5*b_1_2^2*b_5_20+b_4_14^2*b_1_1^5*b_1_2^4*b_3_8+b_4_14^2*b_1_1^5*b_1_2^7+b_4_14^2*b_1_1^6*b_3_8*b_3_9+b_4_14^2*b_1_1^6*b_1_2*b_5_20+b_4_14^2*b_1_1^6*b_1_2^3*b_3_9+b_4_14^2*b_1_1^6*b_1_2^3*b_3_8+b_4_14^2*b_1_1^7*b_1_2^2*b_3_9+b_4_14^2*b_1_1^7*b_1_2^2*b_3_8+b_4_14^2*b_1_1^7*b_1_2^5+b_4_14^2*b_1_1^8*b_1_2^4+b_4_14^2*b_1_1^9*b_3_8+b_4_14^2*b_1_1^9*b_1_2^3+b_4_14^2*b_1_1^11*b_1_2+b_4_14^2*b_1_1^12+b_4_14^3*b_1_2^3*b_5_20+b_4_14^3*b_1_2^5*b_3_8+b_4_14^3*b_1_2^8+b_4_14^3*b_1_1*b_1_2^4*b_3_8+b_4_14^3*b_1_1^2*b_1_2^6+b_4_14^3*b_1_1^3*b_1_2^2*b_3_8+b_4_14^3*b_1_1^3*b_1_2^5+b_4_14^3*b_1_1^4*b_1_2*b_3_8+b_4_14^3*b_1_1^4*b_1_2^4+b_4_14^3*b_1_1^5*b_3_9+b_4_14^3*b_1_1^5*b_3_8+b_4_14^3*b_1_1^5*b_1_2^3+b_4_14^3*b_1_1^7*b_1_2+b_4_14^4*b_1_1^4+c_8_49*b_1_2^4*b_3_8*b_5_20+c_8_49*b_1_2^6*b_3_8*b_3_9+c_8_49*b_1_1*b_1_2^5*b_3_8*b_3_9+c_8_49*b_1_1*b_1_2^8*b_3_8+c_8_49*b_1_1^2*b_1_2^2*b_3_9*b_5_20+c_8_49*b_1_1^2*b_1_2^2*b_3_8*b_5_20+c_8_49*b_1_1^2*b_1_2^4*b_3_8*b_3_9+c_8_49*b_1_1^2*b_1_2^7*b_3_9+c_8_49*b_1_1^3*b_1_2^3*b_3_8*b_3_9+c_8_49*b_1_1^3*b_1_2^6*b_3_9+c_8_49*b_1_1^3*b_1_2^6*b_3_8+c_8_49*b_1_1^3*b_1_2^9+c_8_49*b_1_1^4*b_3_8*b_5_21+c_8_49*b_1_1^4*b_3_8*b_5_20+c_8_49*b_1_1^4*b_1_2^8+c_8_49*b_1_1^5*b_1_2*b_3_8*b_3_9+c_8_49*b_1_1^5*b_1_2^2*b_5_20+c_8_49*b_1_1^5*b_1_2^4*b_3_9+c_8_49*b_1_1^5*b_1_2^4*b_3_8+c_8_49*b_1_1^5*b_1_2^7+c_8_49*b_1_1^6*b_1_2*b_5_20+c_8_49*b_1_1^6*b_1_2^6+c_8_49*b_1_1^7*b_5_21+c_8_49*b_1_1^7*b_1_2^2*b_3_9+c_8_49*b_1_1^7*b_1_2^2*b_3_8+c_8_49*b_1_1^7*b_1_2^5+c_8_49*b_1_1^8*b_1_2*b_3_8+c_8_49*b_1_1^9*b_3_9+c_8_49*b_1_1^10*b_1_2^2+c_8_49*b_1_1^12+b_4_14*c_8_49*b_1_2^3*b_5_20+b_4_14*c_8_49*b_1_2^5*b_3_9+b_4_14*c_8_49*b_1_2^5*b_3_8+b_4_14*c_8_49*b_1_2^8+b_4_14*c_8_49*b_1_1*b_1_2^4*b_3_9+b_4_14*c_8_49*b_1_1*b_1_2^4*b_3_8+b_4_14*c_8_49*b_1_1*b_1_2^7+b_4_14*c_8_49*b_1_1^2*b_1_2*b_5_20+b_4_14*c_8_49*b_1_1^2*b_1_2^3*b_3_9+b_4_14*c_8_49*b_1_1^2*b_1_2^3*b_3_8+b_4_14*c_8_49*b_1_1^3*b_5_21+b_4_14*c_8_49*b_1_1^3*b_1_2^2*b_3_9+b_4_14*c_8_49*b_1_1^3*b_1_2^2*b_3_8+b_4_14*c_8_49*b_1_1^4*b_1_2*b_3_9+b_4_14*c_8_49*b_1_1^5*b_3_9+b_4_14*c_8_49*b_1_1^5*b_3_8+b_4_14*c_8_49*b_1_1^6*b_1_2^2+b_4_14^2*c_8_49*b_1_2^4+c_8_49^2*b_1_1^2*b_1_2^2+c_8_49^2*b_1_1^4+c_8_49^2*b_1_0^4+a_2_4^2*c_8_49^2]\n",
      "            \n"
     ]
    }
   ],
   "source": [
    "H128gp934\n",
    "print H128gp934"
   ]
  },
  {
   "cell_type": "markdown",
   "metadata": {},
   "source": [
    "Modular cohomology rings can be quite complicated. Our \"worst\" example: $H^*(Sz(8),\\mathbb F_2)$, whose *minimal* ring representation is formed by 109 generators up to degree 29, and 4790 relations up to degree 58.\n",
    "\n",
    "##### Computation from scratch\n",
    "\n",
    "If the ring can not be found in the sources or if the user explicitly requests a computation from scratch, only the basic setup of the ring is computed. However, the ring structure is only computed upon request, as it may take very long in some examples:"
   ]
  },
  {
   "cell_type": "code",
   "execution_count": 10,
   "metadata": {},
   "outputs": [],
   "source": [
    "CohomologyRing.global_options('warn')  # stop logging\n",
    "HE27 = CohomologyRing(27,3)"
   ]
  },
  {
   "cell_type": "code",
   "execution_count": 11,
   "metadata": {},
   "outputs": [
    {
     "data": {
      "text/html": [
       "<html><script type=\"math/tex; mode=display\">\\newcommand{\\Bold}[1]{\\mathbf{#1}}H^\\ast(E27; \\mathbb F_3)</script></html>"
      ],
      "text/plain": [
       "H^*(E27; GF(3))"
      ]
     },
     "execution_count": 11,
     "metadata": {},
     "output_type": "execute_result"
    },
    {
     "name": "stdout",
     "output_type": "stream",
     "text": [
      "\n",
      "Cohomology ring of Extraspecial 3-group of order 27 and exponent 3 with coefficients in GF(3)\n",
      "\n",
      "Computed up to degree 0\n",
      "Minimal list of generators:\n",
      "[]\n",
      "Minimal list of algebraic relations:\n",
      "[]\n",
      "            \n"
     ]
    }
   ],
   "source": [
    "HE27        # show a brief description\n",
    "print HE27  # show the ring structure obtained so far"
   ]
  },
  {
   "cell_type": "markdown",
   "metadata": {},
   "source": [
    "Let's compute the ring structure. The ring structure will be discovered in increasing degree, based on an incremental computation of a minimal projective resolution, and eventually a completeness criterion tells that the computation can be stopped:"
   ]
  },
  {
   "cell_type": "code",
   "execution_count": 12,
   "metadata": {},
   "outputs": [],
   "source": [
    "HE27.make()"
   ]
  },
  {
   "cell_type": "markdown",
   "metadata": {},
   "source": [
    "Behind the scenes, a minimal projective resolution is computed using software of David Green. It is based on some kind of *signed standard bases*.\n",
    "\n",
    "S.K. formulated a non-commutative version of Jean-Charles Faugère's $\\mathrm F_5$ algorithm. The $\\mathrm F_5$ signature contains more information than the Green signature. It should both be faster and yield more detailed information. **TODO:** Implement it!"
   ]
  },
  {
   "cell_type": "code",
   "execution_count": 13,
   "metadata": {},
   "outputs": [
    {
     "name": "stdout",
     "output_type": "stream",
     "text": [
      "\n",
      "Cohomology ring of Extraspecial 3-group of order 27 and exponent 3 with coefficients in GF(3)\n",
      "\n",
      "Computation complete\n",
      "Minimal list of generators:\n",
      "[b_2_0: 2-Cocycle in H^*(E27; GF(3)),\n",
      " b_2_1: 2-Cocycle in H^*(E27; GF(3)),\n",
      " b_2_2: 2-Cocycle in H^*(E27; GF(3)),\n",
      " b_2_3: 2-Cocycle in H^*(E27; GF(3)),\n",
      " c_6_8: 6-Cocycle in H^*(E27; GF(3)),\n",
      " a_1_0: 1-Cocycle in H^*(E27; GF(3)),\n",
      " a_1_1: 1-Cocycle in H^*(E27; GF(3)),\n",
      " a_3_4: 3-Cocycle in H^*(E27; GF(3)),\n",
      " a_3_5: 3-Cocycle in H^*(E27; GF(3))]\n",
      "Minimal list of algebraic relations:\n",
      "[a_1_0*a_1_1,\n",
      " b_2_1*a_1_0-b_2_0*a_1_1,\n",
      " b_2_2*a_1_1+b_2_1*a_1_1-b_2_0*a_1_1,\n",
      " b_2_2*a_1_0-b_2_1*a_1_1+b_2_0*a_1_1,\n",
      " b_2_3*a_1_0-b_2_0*a_1_1,\n",
      " -b_2_1^2+b_2_0*b_2_2+b_2_0*b_2_1,\n",
      " -b_2_2^2+b_2_1*b_2_3+b_2_1*b_2_2-b_2_1^2,\n",
      " -b_2_1*b_2_2-b_2_1^2+b_2_0*b_2_3,\n",
      " -b_2_2^2+b_2_1*b_2_2+a_1_1*a_3_4,\n",
      " -b_2_1*b_2_2-b_2_1^2+b_2_0*b_2_1+a_1_0*a_3_4,\n",
      " -b_2_2*b_2_3+b_2_2^2+a_1_1*a_3_5,\n",
      " -b_2_2^2-b_2_1^2+b_2_0*b_2_1+a_1_0*a_3_5,\n",
      " b_2_3*a_3_4-b_2_1*a_3_4,\n",
      " -b_2_2*a_3_4+b_2_1*a_3_5+b_2_1*a_3_4+b_2_0*b_2_1*a_1_1-b_2_0^2*a_1_1,\n",
      " -b_2_1*a_3_4+b_2_0*a_3_5-b_2_0*a_3_4-b_2_0*b_2_1*a_1_1+b_2_0^2*a_1_1,\n",
      " b_2_2*a_3_5+b_2_0*b_2_1*a_1_1-b_2_0^2*a_1_1,\n",
      " a_3_4*a_3_5+b_2_0*a_1_1*a_3_5+b_2_0*a_1_0*a_3_5-b_2_0*a_1_0*a_3_4]\n",
      "            \n"
     ]
    }
   ],
   "source": [
    "print HE27"
   ]
  },
  {
   "cell_type": "markdown",
   "metadata": {},
   "source": [
    "As can be seen, the ring can be presented in degree $6$. However, the completeness of the ring structure could only been proved after computing till degree 7:"
   ]
  },
  {
   "cell_type": "code",
   "execution_count": 15,
   "metadata": {},
   "outputs": [
    {
     "data": {
      "text/html": [
       "<html><script type=\"math/tex; mode=display\">\\newcommand{\\Bold}[1]{\\mathbf{#1}}6</script></html>"
      ],
      "text/plain": [
       "6"
      ]
     },
     "execution_count": 15,
     "metadata": {},
     "output_type": "execute_result"
    },
    {
     "data": {
      "text/html": [
       "<html><script type=\"math/tex; mode=display\">\\newcommand{\\Bold}[1]{\\mathbf{#1}}7</script></html>"
      ],
      "text/plain": [
       "7"
      ]
     },
     "execution_count": 15,
     "metadata": {},
     "output_type": "execute_result"
    }
   ],
   "source": [
    "HE27.last_interesting_degree()\n",
    "HE27.knownDeg"
   ]
  },
  {
   "cell_type": "markdown",
   "metadata": {},
   "source": [
    "##### Non-primepower groups\n",
    "\n",
    "For non-primepower groups, we compute the cohomology ring as a sub-ring of the cohomology ring of the Sylow $p$-subgroup determined by \"stability conditions\" associated with the double cosets of a subgroup (Cartan-Eilenberg)."
   ]
  },
  {
   "cell_type": "code",
   "execution_count": 16,
   "metadata": {},
   "outputs": [],
   "source": [
    "A8 = libgap.AlternatingGroup(8)\n",
    "SylA8 = A8.SylowSubgroup(2).MinimalGeneratingSet().Group()\n",
    "HA8 = CohomologyRing(A8, prime=2, GroupName=\"A_8\")"
   ]
  },
  {
   "cell_type": "markdown",
   "metadata": {},
   "source": [
    "It is possible to set up the stability conditions by providing a tower of subgroups starting with the Sylow $p$-subgroups.\n",
    "\n",
    "**TODO** Make it possible to compute the cohomology of a fusion system!"
   ]
  },
  {
   "cell_type": "code",
   "execution_count": 17,
   "metadata": {},
   "outputs": [],
   "source": [
    "HA8_direct = CohomologyRing.from_subgroup_tower(SylA8, A8, GroupName=\"A8\", GroupDescr='AlternatingGroup(8)')"
   ]
  },
  {
   "cell_type": "markdown",
   "metadata": {},
   "source": [
    "How do the two computations differ? Actually the first (default) computation involves the computation of *yet another* group, namely of the normaliser of the centre of the Sylow 2-subgroup."
   ]
  },
  {
   "cell_type": "code",
   "execution_count": 18,
   "metadata": {},
   "outputs": [
    {
     "data": {
      "text/html": [
       "<html><script type=\"math/tex; mode=display\">\\newcommand{\\Bold}[1]{\\mathbf{#1}}H^\\ast(SmallGroup(192,1493); \\mathbb F_2)</script></html>"
      ],
      "text/plain": [
       "H^*(SmallGroup(192,1493); GF(2))"
      ]
     },
     "execution_count": 18,
     "metadata": {},
     "output_type": "execute_result"
    }
   ],
   "source": [
    "HA8.subgroup_cohomology()"
   ]
  },
  {
   "cell_type": "code",
   "execution_count": 19,
   "metadata": {},
   "outputs": [
    {
     "data": {
      "text/html": [
       "<html><script type=\"math/tex; mode=display\">\\newcommand{\\Bold}[1]{\\mathbf{#1}}\\mathrm{False}</script></html>"
      ],
      "text/plain": [
       "False"
      ]
     },
     "execution_count": 19,
     "metadata": {},
     "output_type": "execute_result"
    }
   ],
   "source": [
    "HA8.subgroup_cohomology() is HA8.sylow_cohomology()"
   ]
  },
  {
   "cell_type": "code",
   "execution_count": 20,
   "metadata": {},
   "outputs": [
    {
     "data": {
      "text/html": [
       "<html><script type=\"math/tex; mode=display\">\\newcommand{\\Bold}[1]{\\mathbf{#1}}\\verb|[|\\phantom{\\verb!x!}\\verb|192,|\\phantom{\\verb!x!}\\verb|1493|\\phantom{\\verb!x!}\\verb|]|</script></html>"
      ],
      "text/plain": [
       "[ 192, 1493 ]"
      ]
     },
     "execution_count": 20,
     "metadata": {},
     "output_type": "execute_result"
    }
   ],
   "source": [
    "HA8.group().Normalizer(HA8.sylow_subgroup().Centre()).IdGroup()"
   ]
  },
  {
   "cell_type": "markdown",
   "metadata": {},
   "source": [
    "The point is that the total number of stability conditions to be satisfied is significantly less when an intermediate subgroup is used:"
   ]
  },
  {
   "cell_type": "code",
   "execution_count": 21,
   "metadata": {},
   "outputs": [
    {
     "data": {
      "text/html": [
       "<html><script type=\"math/tex; mode=display\">\\newcommand{\\Bold}[1]{\\mathbf{#1}}5</script></html>"
      ],
      "text/plain": [
       "5"
      ]
     },
     "execution_count": 21,
     "metadata": {},
     "output_type": "execute_result"
    }
   ],
   "source": [
    "len(HA8._PtoPcapCPdirect) + len(HA8.subgroup_cohomology()._PtoPcapCPdirect)"
   ]
  },
  {
   "cell_type": "code",
   "execution_count": 22,
   "metadata": {},
   "outputs": [
    {
     "data": {
      "text/html": [
       "<html><script type=\"math/tex; mode=display\">\\newcommand{\\Bold}[1]{\\mathbf{#1}}18</script></html>"
      ],
      "text/plain": [
       "18"
      ]
     },
     "execution_count": 22,
     "metadata": {},
     "output_type": "execute_result"
    }
   ],
   "source": [
    "len(HA8_direct._PtoPcapCPdirect)"
   ]
  },
  {
   "cell_type": "markdown",
   "metadata": {},
   "source": [
    "Let's compute the ring structure in both cases. The \"direct\" use of the stable element method is slower, because more stability conditions are involved.\n",
    "\n",
    "Again, the computation explores the ring structure in increasing degree. However, no resolution is computed. Instead, we use Singular to represent cohomology rings of subgroups and induced maps."
   ]
  },
  {
   "cell_type": "code",
   "execution_count": 23,
   "metadata": {},
   "outputs": [
    {
     "name": "stdout",
     "output_type": "stream",
     "text": [
      "CPU times: user 8.81 s, sys: 1.76 s, total: 10.6 s\n",
      "Wall time: 16.1 s\n"
     ]
    }
   ],
   "source": [
    "%time HA8.make()"
   ]
  },
  {
   "cell_type": "code",
   "execution_count": 24,
   "metadata": {},
   "outputs": [
    {
     "name": "stdout",
     "output_type": "stream",
     "text": [
      "CPU times: user 11.8 s, sys: 2.35 s, total: 14.1 s\n",
      "Wall time: 19.6 s\n"
     ]
    }
   ],
   "source": [
    "%time HA8_direct.make()"
   ]
  },
  {
   "cell_type": "markdown",
   "metadata": {},
   "source": [
    "In order to compute the mod-2 cohomology of the third Conway group (joint work with David Green and Graham Ellis, 2011), we needed to use a tower of four intermediate subgroups. This cuts down the number of stability conditions from 484,680 to 11.\n",
    "\n",
    "We computed two *different* ring presentations of the cohomology ring of $\\mathbb A_8$, but in fact we will demonstrate below that the two rings are isomorphic."
   ]
  },
  {
   "cell_type": "code",
   "execution_count": 25,
   "metadata": {},
   "outputs": [
    {
     "name": "stdout",
     "output_type": "stream",
     "text": [
      "\n",
      "Cohomology ring of A_8 with coefficients in GF(2)\n",
      "\n",
      "Computation complete\n",
      "Minimal list of generators:\n",
      "[b_2_0: 2-Cocycle in H^*(A_8; GF(2)),\n",
      " c_4_1: 4-Cocycle in H^*(A_8; GF(2)),\n",
      " b_6_1: 6-Cocycle in H^*(A_8; GF(2)),\n",
      " b_6_2: 6-Cocycle in H^*(A_8; GF(2)),\n",
      " b_3_0: 3-Cocycle in H^*(A_8; GF(2)),\n",
      " b_3_1: 3-Cocycle in H^*(A_8; GF(2)),\n",
      " b_5_2: 5-Cocycle in H^*(A_8; GF(2)),\n",
      " b_7_5: 7-Cocycle in H^*(A_8; GF(2)),\n",
      " b_7_6: 7-Cocycle in H^*(A_8; GF(2))]\n",
      "Minimal list of algebraic relations:\n",
      "[b_3_0*b_3_1,\n",
      " b_3_0*b_5_2,\n",
      " b_2_0*b_7_5,\n",
      " b_2_0*b_7_6,\n",
      " b_6_1*b_3_0,\n",
      " b_6_2*b_3_0,\n",
      " b_3_0*b_7_5,\n",
      " b_3_0*b_7_6,\n",
      " b_3_1*b_7_5,\n",
      " b_3_1*b_7_6,\n",
      " b_5_2^2+b_2_0*b_3_1*b_5_2+b_2_0^2*b_6_2+c_4_1*b_3_1^2,\n",
      " b_6_1*b_6_2+b_6_1^2+b_2_0^2*b_3_1*b_5_2+b_2_0^3*b_6_2+c_4_1*b_3_1*b_5_2+b_2_0*c_4_1*b_3_1^2+b_2_0*c_4_1*b_6_2,\n",
      " b_5_2*b_7_5,\n",
      " b_5_2*b_7_6,\n",
      " b_6_1*b_7_6+b_6_1*b_7_5,\n",
      " b_6_2*b_7_5+b_6_1*b_7_5,\n",
      " b_7_5*b_7_6+b_7_5^2]\n",
      "            \n"
     ]
    }
   ],
   "source": [
    "print HA8"
   ]
  },
  {
   "cell_type": "code",
   "execution_count": 26,
   "metadata": {},
   "outputs": [
    {
     "name": "stdout",
     "output_type": "stream",
     "text": [
      "\n",
      "Cohomology ring of AlternatingGroup(8) with coefficients in GF(2)\n",
      "\n",
      "Computation complete\n",
      "Minimal list of generators:\n",
      "[b_2_0: 2-Cocycle in H^*(A8; GF(2)),\n",
      " c_4_1: 4-Cocycle in H^*(A8; GF(2)),\n",
      " b_6_3: 6-Cocycle in H^*(A8; GF(2)),\n",
      " b_6_5: 6-Cocycle in H^*(A8; GF(2)),\n",
      " b_3_0: 3-Cocycle in H^*(A8; GF(2)),\n",
      " b_3_1: 3-Cocycle in H^*(A8; GF(2)),\n",
      " b_5_1: 5-Cocycle in H^*(A8; GF(2)),\n",
      " b_7_5: 7-Cocycle in H^*(A8; GF(2)),\n",
      " b_7_6: 7-Cocycle in H^*(A8; GF(2))]\n",
      "Minimal list of algebraic relations:\n",
      "[b_3_0*b_3_1,\n",
      " b_3_1*b_5_1,\n",
      " b_2_0*b_7_5,\n",
      " b_2_0*b_7_6,\n",
      " b_6_3*b_3_1+b_2_0*c_4_1*b_3_1,\n",
      " b_6_5*b_3_1,\n",
      " b_3_0*b_7_5,\n",
      " b_3_0*b_7_6,\n",
      " b_3_1*b_7_5,\n",
      " b_3_1*b_7_6,\n",
      " b_5_1^2+b_2_0*b_3_0*b_5_1+b_2_0^2*b_6_5+c_4_1*b_3_0^2,\n",
      " b_3_0^4+b_6_5*b_3_0^2+b_6_3*b_6_5+b_6_3^2+b_2_0^2*b_3_0*b_5_1+b_2_0^3*b_6_5+c_4_1*b_3_0*b_5_1+b_2_0*c_4_1*b_3_0^2+b_2_0^2*c_4_1^2,\n",
      " b_5_1*b_7_5,\n",
      " b_5_1*b_7_6,\n",
      " b_6_3*b_7_6+b_6_3*b_7_5,\n",
      " b_6_5*b_7_5+b_6_3*b_7_5,\n",
      " b_7_5*b_7_6+b_7_5^2]\n",
      "            \n"
     ]
    }
   ],
   "source": [
    "print HA8_direct"
   ]
  },
  {
   "cell_type": "markdown",
   "metadata": {},
   "source": [
    "## 3. Invariants\n",
    "\n",
    "`p_group_cohomology` can compute various invariants, such as Poincaré series or depth:"
   ]
  },
  {
   "cell_type": "code",
   "execution_count": 27,
   "metadata": {},
   "outputs": [
    {
     "data": {
      "text/html": [
       "<html><script type=\"math/tex; mode=display\">\\newcommand{\\Bold}[1]{\\mathbf{#1}}\\frac{t^{10} - t^{9} + 2t^{8} - t^{6} + t^{5} + t^{2} + 1}{t^{13} - 3t^{12} + 4t^{11} - 4t^{10} + 3t^{9} - t^{8} - t^{5} + 3t^{4} - 4t^{3} + 4t^{2} - 3t + 1}</script></html>"
      ],
      "text/plain": [
       "(t^10 - t^9 + 2*t^8 - t^6 + t^5 + t^2 + 1)/(t^13 - 3*t^12 + 4*t^11 - 4*t^10 + 3*t^9 - t^8 - t^5 + 3*t^4 - 4*t^3 + 4*t^2 - 3*t + 1)"
      ]
     },
     "execution_count": 27,
     "metadata": {},
     "output_type": "execute_result"
    },
    {
     "data": {
      "text/html": [
       "<html><script type=\"math/tex; mode=display\">\\newcommand{\\Bold}[1]{\\mathbf{#1}}2</script></html>"
      ],
      "text/plain": [
       "2"
      ]
     },
     "execution_count": 27,
     "metadata": {},
     "output_type": "execute_result"
    }
   ],
   "source": [
    "H128gp934.poincare_series()\n",
    "H128gp934.depth()"
   ]
  },
  {
   "cell_type": "markdown",
   "metadata": {},
   "source": [
    "$a$-invariants and \"filter degree type\" are defined in terms of the local cohomology of a cohomology ring $R$, and can be computed using \"filter regular parameters\".\n",
    "\n",
    "**Def** $a^i_{\\mathfrak m}(R) := \\max\\{m\\mid H^{i,m}_{\\mathfrak m}(R)\\not=0\\}$, where $\\mathfrak m\\subset R$ is the irrelevant ideal of $R$.\n",
    "\n",
    "Using methods of D. Benson (improved by D. Green and S.K.), one can compute elements of the cohomology ring that are guaranteed to form a filter regular sequence (idea: Elements that simultaneously restrict to powers of Dickson elements in the cohomology of maximal elementary abelian subgroups)."
   ]
  },
  {
   "cell_type": "code",
   "execution_count": 28,
   "metadata": {},
   "outputs": [
    {
     "name": "stdout",
     "output_type": "stream",
     "text": [
      "['c_8_49', 'b_1_2^4+b_1_1*b_3_8+b_1_1^2*b_1_2^2+b_1_1^4+b_1_0^4+b_4_14', 'b_1_1*b_1_2^2*b_3_8+b_1_1^2*b_1_2*b_3_8+b_1_1^2*b_1_2^4+b_1_1^3*b_3_8+b_1_1^4*b_1_2^2+b_4_14*b_1_2^2+b_4_14*b_1_1*b_1_2+b_4_14*b_1_1^2', 'b_1_2']\n"
     ]
    },
    {
     "data": {
      "text/html": [
       "<html><script type=\"math/tex; mode=display\">\\newcommand{\\Bold}[1]{\\mathbf{#1}}\\left[-\\infty, -\\infty, -3, -5, -4\\right]</script></html>"
      ],
      "text/plain": [
       "[-Infinity, -Infinity, -3, -5, -4]"
      ]
     },
     "execution_count": 28,
     "metadata": {},
     "output_type": "execute_result"
    },
    {
     "data": {
      "text/html": [
       "<html><script type=\"math/tex; mode=display\">\\newcommand{\\Bold}[1]{\\mathbf{#1}}\\left[-1, -2, -3, -4, -4\\right]</script></html>"
      ],
      "text/plain": [
       "[-1, -2, -3, -4, -4]"
      ]
     },
     "execution_count": 28,
     "metadata": {},
     "output_type": "execute_result"
    }
   ],
   "source": [
    "print H128gp934.filter_regular_parameters()\n",
    "H128gp934.a_invariants()\n",
    "H128gp934.filter_degree_type()"
   ]
  },
  {
   "cell_type": "markdown",
   "metadata": {},
   "source": [
    "The strong form of *Benson's regularity conjecture* states that the filter degree type of $H^*(G;\\mathbb F_p)$ is always of that form. The conjecture holds,\n",
    " - if the Krull dimension exceeds the depths of the cohomology ring be not more that two (D. Benson, 2004), or\n",
    " - if $|G|<256$ (D. Green, 2008), or\n",
    " - if $G = SmallGroup(256,299)$ (S.K., 2019); here, $\\dim(H^*)-\\mathrm{depth}(H^*)=4$.\n",
    " \n",
    "Poincaré series is useful to compute $a$-invariants and filter degree type. However, in some of our examples, no software available in SageMath could compute the Poincaré series, and thus we eventually provided a new implementation in the SageMath library.\n",
    "\n",
    "#### Completeness criteria\n",
    "\n",
    "$H^*(G;\\mathbb F_p)$ is approximated in increasing degree $d$. Typically, one constructs elements of the ring approximation over which the *full* cohomology ring is guaranteed to be finite. For some of the criteria, these elements have to be algebraically independent or form a filter regular sequence. Then, some algebraic properties need to be verified, and then completeness is guaranteed if $d$ is large enough wrt. the deree sum of the parameters.\n",
    "\n",
    "The following criteria are used to prove that the degree-$d$ approximation actually is isomorphic to the cohomology ring:\n",
    " - Benson's criterion with improvements of D. Green and S.K., using the filter degree type of the ring approximation and the degree of filter regular parameters over field extensions.\n",
    " - Symonds' criterion, which relies on P. Symonds' proof of the weak form of Benson's regularity conjecture. This very often is the best criterion.\n",
    " - If $G$ is not a prime power group:\n",
    "   - Show that there will be no generators in higher degrees (using Nakayama lemma).\n",
    "   - Use Poincaré series to prove that all relations have been found (S.K. based on an idea of P. Symonds')."
   ]
  },
  {
   "cell_type": "markdown",
   "metadata": {},
   "source": [
    "## 4. Induced homomorphisms, essential ideals, bar codes\n",
    "\n",
    "#### Essential ideal\n",
    "`p_group_cohomology` can compute the essential ideal of a cohomology ring. This is computationally difficult, since it relies on Gröbner basis computations in elimination order. The following is one of only two known examples in which the square of the essential ideal does not vanish."
   ]
  },
  {
   "cell_type": "code",
   "execution_count": 29,
   "metadata": {},
   "outputs": [
    {
     "name": "stdout",
     "output_type": "stream",
     "text": [
      "a_1_0^4,\n",
      "a_1_0^3*a_1_1,\n",
      "a_1_0^3*a_1_2,\n",
      "a_1_0^3*a_1_3,\n",
      "a_1_0^2*a_1_1^2,\n",
      "a_1_0^2*a_1_1*a_1_2,\n",
      "a_1_0^2*a_1_1*a_1_3,\n",
      "a_1_0^2*a_1_2*a_1_3,\n",
      "a_4_8*a_1_1^2+a_4_8*a_1_0*a_1_1,\n",
      "a_4_8*a_1_1*a_1_2+a_4_8*a_1_0*a_1_3+a_4_8*a_1_0*a_1_1,\n",
      "a_4_8*a_1_1*a_1_3+a_4_8*a_1_0*a_1_3+a_4_8*a_1_0^2,\n",
      "a_4_8*a_1_0^3,\n",
      "a_4_8*a_1_0^2*a_1_1,\n",
      "a_4_8*a_1_0^2*a_1_2,\n",
      "a_4_8*a_1_0^2*a_1_3,\n",
      "a_4_8*a_1_0*a_1_2*a_1_3,\n",
      "a_6_8*a_1_0^2,\n",
      "a_6_8*a_1_0*a_1_1,\n",
      "a_6_8*a_1_0*a_1_2,\n",
      "a_6_8*a_1_0*a_1_3,\n",
      "a_6_8*a_1_1^2,\n",
      "a_6_8*a_1_1*a_1_2,\n",
      "a_6_8*a_1_1*a_1_3,\n",
      "a_6_8*a_1_2*a_1_3,\n",
      "a_4_8*a_6_12+a_4_8*a_6_11+a_4_8*a_6_9+a_4_8*a_6_8,\n",
      "a_4_8*a_6_13+a_4_8*a_6_11+a_4_8*a_6_10+a_4_8*a_6_8,\n",
      "a_4_8*a_6_8*a_1_0,\n",
      "a_4_8*a_6_8*a_1_1,\n",
      "a_4_8*a_6_8*a_1_2,\n",
      "a_4_8*a_6_8*a_1_3,\n",
      "a_4_8*a_6_9*a_1_1,\n",
      "a_4_8*a_6_9*a_1_2,\n",
      "a_4_8*a_6_9*a_1_3,\n",
      "a_4_8*a_6_11*a_1_3\n"
     ]
    }
   ],
   "source": [
    "H64gp245 = CohomologyRing(64, 245)\n",
    "I = H64gp245.essential_ideal()\n",
    "print I"
   ]
  },
  {
   "cell_type": "code",
   "execution_count": 30,
   "metadata": {},
   "outputs": [
    {
     "name": "stdout",
     "output_type": "stream",
     "text": [
      "a_4_8*a_6_8*a_1_0^3*a_1_3\n"
     ]
    }
   ],
   "source": [
    "print (I*I).NF('std(0)').interred()"
   ]
  },
  {
   "cell_type": "markdown",
   "metadata": {},
   "source": [
    "#### Induced homomorphisms\n",
    "We create one of the essential classes and the resctriction map to one of the maximal subgroups"
   ]
  },
  {
   "cell_type": "code",
   "execution_count": 31,
   "metadata": {},
   "outputs": [
    {
     "data": {
      "text/html": [
       "<html><script type=\"math/tex; mode=display\">\\newcommand{\\Bold}[1]{\\mathbf{#1}}(a_{1,0})^{4}</script></html>"
      ],
      "text/plain": [
       "(a_1_0)**4: 4-Cocycle in H^*(Syl2(U3(4)); GF(2))"
      ]
     },
     "execution_count": 31,
     "metadata": {},
     "output_type": "execute_result"
    },
    {
     "name": "stdout",
     "output_type": "stream",
     "text": [
      "4-Cocycle in H^*(Syl2(U3(4)); GF(2)),\n",
      "represented by\n",
      "[1 0 0 0 0 0 0 0 0 0 0 0]\n"
     ]
    }
   ],
   "source": [
    "c = H64gp245.15^4\n",
    "c\n",
    "print c"
   ]
  },
  {
   "cell_type": "code",
   "execution_count": 32,
   "metadata": {},
   "outputs": [
    {
     "data": {
      "text/html": [
       "<html><script type=\"math/tex; mode=display\">\\newcommand{\\Bold}[1]{\\mathbf{#1}}\\verb|[|\\phantom{\\verb!x!}\\verb|32,|\\phantom{\\verb!x!}\\verb|32|\\phantom{\\verb!x!}\\verb|]|</script></html>"
      ],
      "text/plain": [
       "[ 32, 32 ]"
      ]
     },
     "execution_count": 32,
     "metadata": {},
     "output_type": "execute_result"
    }
   ],
   "source": [
    "G = H64gp245.group()\n",
    "S0 = G.MaximalSubgroups()[5]\n",
    "S0.IdGroup()"
   ]
  },
  {
   "cell_type": "markdown",
   "metadata": {},
   "source": [
    "When creating an induced homomorphism, the generators of the groups must much those that are used in the cohomology ring. So, we need to choose different generators for the maximal subgroup:"
   ]
  },
  {
   "cell_type": "code",
   "execution_count": 33,
   "metadata": {},
   "outputs": [
    {
     "name": "stdout",
     "output_type": "stream",
     "text": [
      "phi^*\n",
      "defined by\n",
      "[1 0 0 0 0 0 0 0 0 0 0 0 0 0 0 0 0 0 0 0 0 0 0 0 0 0 0 0 0 0 0 0 0 0 0 0 0 0 0 0 0 0 0 0 0 0 0 0 0 0 0 0 0 0 0 0 0 0 0 0 0 0 0 0]\n"
     ]
    }
   ],
   "source": [
    "iso = libgap.SmallGroup(32,32).IsomorphismGroups(S0)\n",
    "S = libgap.Group([iso.Image(x) for x in iso.Source().GeneratorsOfGroup()])\n",
    "phi = S.GroupHomomorphismByImagesNC(G, S.GeneratorsOfGroup(), S.GeneratorsOfGroup())\n",
    "phi.SetName('phi')\n",
    "phi_star = H64gp245.hom(phi, CohomologyRing(32,32))\n",
    "print phi_star"
   ]
  },
  {
   "cell_type": "markdown",
   "metadata": {},
   "source": [
    "\"As usual\", the image is only explicitly computed when requested:"
   ]
  },
  {
   "cell_type": "code",
   "execution_count": 34,
   "metadata": {},
   "outputs": [
    {
     "data": {
      "text/html": [
       "<html><script type=\"math/tex; mode=display\">\\newcommand{\\Bold}[1]{\\mathbf{#1}}phi^ ((a_{1,0})^{4})</script></html>"
      ],
      "text/plain": [
       "phi^*((a_1_0)**4): 4-Cocycle in H^*(SmallGroup(32,32); GF(2))"
      ]
     },
     "execution_count": 34,
     "metadata": {},
     "output_type": "execute_result"
    },
    {
     "data": {
      "text/html": [
       "<html><script type=\"math/tex; mode=display\">\\newcommand{\\Bold}[1]{\\mathbf{#1}}0</script></html>"
      ],
      "text/plain": [
       "'0'"
      ]
     },
     "execution_count": 34,
     "metadata": {},
     "output_type": "execute_result"
    }
   ],
   "source": [
    "c_ = phi_star(c);\n",
    "c_          # TODO: Fix a small bug in the LaTeX representation!\n",
    "c_.as_polynomial()"
   ]
  },
  {
   "cell_type": "markdown",
   "metadata": {},
   "source": [
    "Not all elements are mapped to zero:"
   ]
  },
  {
   "cell_type": "code",
   "execution_count": 41,
   "metadata": {},
   "outputs": [
    {
     "data": {
      "text/html": [
       "<html><script type=\"math/tex; mode=display\">\\newcommand{\\Bold}[1]{\\mathbf{#1}}c_{4,5} a_{1,1} a_{1,2}+c_{4,5} a_{1,0}^{2}+c_{4,4} a_{1,1} a_{1,2}</script></html>"
      ],
      "text/plain": [
       "c_4_5*a_1_1*a_1_2+c_4_5*a_1_0^2+c_4_4*a_1_1*a_1_2: 6-Cocycle in H^*(SmallGroup(32,32); GF(2))"
      ]
     },
     "execution_count": 41,
     "metadata": {},
     "output_type": "execute_result"
    }
   ],
   "source": [
    "phi_star.codomain().element_as_polynomial(phi_star(H64gp245.7))"
   ]
  },
  {
   "cell_type": "markdown",
   "metadata": {},
   "source": [
    "We can compute pre-images and kernels of induced homomorphisms (caveat: The result is given in Singular; better user interface?):"
   ]
  },
  {
   "cell_type": "code",
   "execution_count": 42,
   "metadata": {},
   "outputs": [
    {
     "data": {
      "text/html": [
       "<html><script type=\"math/tex; mode=display\">\\newcommand{\\Bold}[1]{\\mathbf{#1}}a_{1,0}</script></html>"
      ],
      "text/plain": [
       "a_1_0: 1-Cocycle in H^*(SmallGroup(32,32); GF(2))"
      ]
     },
     "execution_count": 42,
     "metadata": {},
     "output_type": "execute_result"
    },
    {
     "name": "stdout",
     "output_type": "stream",
     "text": [
      "a_1_3+a_1_2\n",
      "\n",
      "a_1_2+a_1_1,\n",
      "a_1_1^2+a_1_0*a_1_3+a_1_0*a_1_1,\n",
      "a_1_0^2*a_1_1,\n",
      "a_1_0*a_1_1*a_1_3+a_1_0^3,\n",
      "a_1_0^4,\n",
      "a_1_0^3*a_1_3,\n",
      "a_4_9*a_1_1+a_4_8*a_1_3,\n",
      "a_4_9*a_1_3+a_4_8*a_1_0,\n",
      "a_4_8*a_1_0*a_1_1,\n",
      "a_4_8*a_1_0*a_1_3,\n",
      "a_4_8*a_1_1*a_1_3+a_4_8*a_1_0^2,\n",
      "a_4_8*a_1_0^3,\n",
      "a_6_9*a_1_3+a_6_9*a_1_1+a_6_8*a_1_0,\n",
      "a_6_10*a_1_3+a_6_9*a_1_1+a_6_8*a_1_3+a_6_8*a_1_1,\n",
      "a_6_11*a_1_3+a_6_9*a_1_1+a_6_8*a_1_3+a_6_8*a_1_1+a_6_8*a_1_0,\n",
      "a_6_12*a_1_3+a_6_8*a_1_1,\n",
      "a_6_8*a_1_0^2,\n",
      "a_6_8*a_1_0*a_1_1,\n",
      "a_6_8*a_1_0*a_1_3,\n",
      "a_6_8*a_1_1*a_1_3,\n",
      "a_4_8*a_6_10,\n",
      "a_4_8*a_6_11+a_4_8*a_6_9+a_4_8*a_6_8,\n",
      "a_4_8*a_6_12,\n",
      "a_4_8*a_6_13+a_4_8*a_6_9,\n",
      "a_4_8*a_6_14+a_4_8*a_6_9+a_4_8*a_6_8,\n",
      "a_4_8*a_6_15,\n",
      "a_4_8*a_6_8*a_1_0,\n",
      "a_4_8*a_6_8*a_1_1,\n",
      "a_4_8*a_6_8*a_1_3,\n",
      "a_4_8*a_6_9*a_1_1\n"
     ]
    }
   ],
   "source": [
    "phi_star.codomain().3\n",
    "print phi_star.preimage(phi_star.codomain().3)\n",
    "print\n",
    "print phi_star.kernel()"
   ]
  },
  {
   "cell_type": "markdown",
   "metadata": {},
   "source": [
    "Verify the given preimage of `a_1_0`:"
   ]
  },
  {
   "cell_type": "code",
   "execution_count": 43,
   "metadata": {},
   "outputs": [
    {
     "data": {
      "text/html": [
       "<html><script type=\"math/tex; mode=display\">\\newcommand{\\Bold}[1]{\\mathbf{#1}}a_{1,3}+a_{1,2}</script></html>"
      ],
      "text/plain": [
       "a_1_3+a_1_2: 1-Cocycle in H^*(Syl2(U3(4)); GF(2))"
      ]
     },
     "execution_count": 43,
     "metadata": {},
     "output_type": "execute_result"
    },
    {
     "data": {
      "text/html": [
       "<html><script type=\"math/tex; mode=display\">\\newcommand{\\Bold}[1]{\\mathbf{#1}}a_{1,0}</script></html>"
      ],
      "text/plain": [
       "a_1_0: 1-Cocycle in H^*(SmallGroup(32,32); GF(2))"
      ]
     },
     "execution_count": 43,
     "metadata": {},
     "output_type": "execute_result"
    }
   ],
   "source": [
    "pre_im = H64gp245('a_1_3+a_1_2'); pre_im\n",
    "phi_star.codomain().element_as_polynomial(phi_star(pre_im))"
   ]
  },
  {
   "cell_type": "markdown",
   "metadata": {},
   "source": [
    "#### Bar codes (G. Ellis, S.K., 2010)\n",
    "Given a normal series, the inclusion of subgroups and the quotient maps give rise to a sequence of group homomorphisms and thus a sequence of induced homomorphisms. Therefore, the notion of *persistant cohomology* applies: One may ask how many cohomology classes are not mapped to zero when applying the maps.\n",
    "\n",
    "It turns out that some groups of the same order whose cohomology rings have the same generator degrees and the same Poincaré series may still be distinguished using the bar codes associated with the upper central series:"
   ]
  },
  {
   "cell_type": "code",
   "execution_count": 44,
   "metadata": {},
   "outputs": [],
   "source": [
    "H64gp158 = CohomologyRing(64,158)\n",
    "H64gp160 = CohomologyRing(64,160)"
   ]
  },
  {
   "cell_type": "code",
   "execution_count": 45,
   "metadata": {},
   "outputs": [
    {
     "data": {
      "text/html": [
       "<html><script type=\"math/tex; mode=display\">\\newcommand{\\Bold}[1]{\\mathbf{#1}}\\mathrm{True}</script></html>"
      ],
      "text/plain": [
       "True"
      ]
     },
     "execution_count": 45,
     "metadata": {},
     "output_type": "execute_result"
    },
    {
     "data": {
      "text/html": [
       "<html><script type=\"math/tex; mode=display\">\\newcommand{\\Bold}[1]{\\mathbf{#1}}\\mathrm{False}</script></html>"
      ],
      "text/plain": [
       "False"
      ]
     },
     "execution_count": 45,
     "metadata": {},
     "output_type": "execute_result"
    }
   ],
   "source": [
    "H64gp158.poincare_series() == H64gp160.poincare_series()\n",
    "B158 = H64gp158.bar_code('UpperCentralSeries')\n",
    "B160 = H64gp160.bar_code('UpperCentralSeries')\n",
    "B158 == B160\n"
   ]
  },
  {
   "cell_type": "markdown",
   "metadata": {},
   "source": [
    "In fact, the difference can easily be seen in degree 3: The composition of two induced homomorphisms is always zero in one example, but not in the other example."
   ]
  },
  {
   "cell_type": "code",
   "execution_count": 46,
   "metadata": {},
   "outputs": [
    {
     "data": {
      "image/png": "[encoded data removed]",
      "text/plain": [
       "Graphics object consisting of 22 graphics primitives"
      ]
     },
     "execution_count": 46,
     "metadata": {},
     "output_type": "execute_result"
    },
    {
     "data": {
      "image/png": "[encoded data removed]",
      "text/plain": [
       "Graphics object consisting of 21 graphics primitives"
      ]
     },
     "execution_count": 46,
     "metadata": {},
     "output_type": "execute_result"
    }
   ],
   "source": [
    "plot(B158[3])\n",
    "plot(B160[3])"
   ]
  },
  {
   "cell_type": "markdown",
   "metadata": {},
   "source": [
    "## 5. Detecting isomorphic rings\n",
    "\n",
    "Bettina Eick, S.K. (2016) classify the modular cohomology rings of all $p$-groups of order $<100$ up to graded isomorphism.\n",
    "\n",
    "The idea is to try all mappings of the generators that may possibly extend to an isomorphism, and user invariants to detect assignments that can *not* possibly extend to an isomorphism.\n",
    "\n",
    "To give two quick examples, we show that our two ring presentations of $H^*(A_8,\\mathbb F_2)$ are isomorphic, and we show that the examples with different bar codes are in fact not isomorphic."
   ]
  },
  {
   "cell_type": "code",
   "execution_count": 47,
   "metadata": {},
   "outputs": [
    {
     "name": "stdout",
     "output_type": "stream",
     "text": [
      "('1*b_2_0', '1*c_4_1', '1*b_3_0^2+1*b_6_3+1*b_2_0*c_4_1', '1*b_6_5', '1*b_3_1', '1*b_3_0', '1*b_5_1', '1*b_7_5', '1*b_7_6')\n"
     ]
    }
   ],
   "source": [
    "print HA8.is_isomorphic(HA8_direct)"
   ]
  },
  {
   "cell_type": "code",
   "execution_count": 48,
   "metadata": {},
   "outputs": [
    {
     "data": {
      "text/html": [
       "<html><script type=\"math/tex; mode=display\">\\newcommand{\\Bold}[1]{\\mathbf{#1}}\\mathrm{False}</script></html>"
      ],
      "text/plain": [
       "False"
      ]
     },
     "execution_count": 48,
     "metadata": {},
     "output_type": "execute_result"
    }
   ],
   "source": [
    "H64gp158.is_isomorphic(H64gp160)"
   ]
  },
  {
   "cell_type": "markdown",
   "metadata": {},
   "source": [
    "**Question**\n",
    "Is there an example of two prime power groups of the same order with isomorphic modular cohomology rings that can be distinguished by bar codes?"
   ]
  },
  {
   "cell_type": "code",
   "execution_count": null,
   "metadata": {},
   "outputs": [],
   "source": []
  },
  {
   "cell_type": "code",
   "execution_count": null,
   "metadata": {},
   "outputs": [],
   "source": []
  },
  {
   "cell_type": "markdown",
   "metadata": {},
   "source": [
    "## Is there still time???\n",
    "### Massey powers\n",
    "\n",
    "Let $c$ be an element of mod-$p$ cohomology, and $i\\in\\mathbb N$. If the $p^i$-fold Massey product of $c$ exists, then it is possible to represent it by a well defined cohomology class --- the $i$-th *restricted Massey power* of $c$. A theorem of David Kraines (1965) says that if $p$ is odd then the first restricted Massey power of $c$ is equal to $-\\beta P^1(c)$, where $\\beta$ is the Bockstein operator associated with the exact coefficient sequence $0\\to\\mathbb Z_p\\to\\mathbb Z_{p^2} \\to \\mathbb Z_p\\to 0$, and $P^1$ is the Steenrod $p$-th power.\n",
    "\n",
    "Let's compute the first restricted Massey power for generators of the nil radical $H^*(E27;\\mathbb F_3)$:"
   ]
  },
  {
   "cell_type": "code",
   "execution_count": 49,
   "metadata": {},
   "outputs": [
    {
     "data": {
      "text/html": [
       "<html><script type=\"math/tex; mode=display\">\\newcommand{\\Bold}[1]{\\mathbf{#1}}\\left[a_{1,0}, a_{1,1}, a_{3,4}, a_{3,5}\\right]</script></html>"
      ],
      "text/plain": [
       "[a_1_0: 1-Cocycle in H^*(E27; GF(3)),\n",
       " a_1_1: 1-Cocycle in H^*(E27; GF(3)),\n",
       " a_3_4: 3-Cocycle in H^*(E27; GF(3)),\n",
       " a_3_5: 3-Cocycle in H^*(E27; GF(3))]"
      ]
     },
     "execution_count": 49,
     "metadata": {},
     "output_type": "execute_result"
    },
    {
     "data": {
      "text/html": [
       "<html><script type=\"math/tex; mode=display\">\\newcommand{\\Bold}[1]{\\mathbf{#1}}\\left[-b_{2,0}, -b_{2,3}, b_{2,0}^{2} a_{1,1} a_{3,5}+b_{2,0}^{2} a_{1,0} a_{3,4}+b_{2,0} c_{6,8}, -b_{2,0}^{3} b_{2,2}-b_{2,0}^{2} a_{1,1} a_{3,5}-b_{2,0}^{2} a_{1,0} a_{3,5}+b_{2,3} c_{6,8}+b_{2,0} c_{6,8}\\right]</script></html>"
      ],
      "text/plain": [
       "[-b_2_0: 2-Cocycle in H^*(E27; GF(3)),\n",
       " -b_2_3: 2-Cocycle in H^*(E27; GF(3)),\n",
       " b_2_0^2*a_1_1*a_3_5+b_2_0^2*a_1_0*a_3_4+b_2_0*c_6_8: 8-Cocycle in H^*(E27; GF(3)),\n",
       " -b_2_0^3*b_2_2-b_2_0^2*a_1_1*a_3_5-b_2_0^2*a_1_0*a_3_5+b_2_3*c_6_8+b_2_0*c_6_8: 8-Cocycle in H^*(E27; GF(3))]"
      ]
     },
     "execution_count": 49,
     "metadata": {},
     "output_type": "execute_result"
    }
   ],
   "source": [
    "N = [HE27(str(x)) for x in HE27.nil_radical()]   # the nil radical\n",
    "N\n",
    "MP = [HE27.element_as_polynomial(c.massey_power(1)) for c in N]\n",
    "MP"
   ]
  },
  {
   "cell_type": "markdown",
   "metadata": {},
   "source": [
    "Let's focus on $a_{3,4}$:"
   ]
  },
  {
   "cell_type": "code",
   "execution_count": 50,
   "metadata": {},
   "outputs": [],
   "source": [
    "c  = N[2]\n",
    "cP = MP[2]"
   ]
  },
  {
   "cell_type": "markdown",
   "metadata": {},
   "source": [
    "There are four conjugacy classes of maximal elementary abelian subgroups of $E27$, all of order $9$.\n",
    "And since it is known that they detect cohomology of $E27$, we compute these restrictions for $c$:"
   ]
  },
  {
   "cell_type": "code",
   "execution_count": 51,
   "metadata": {},
   "outputs": [],
   "source": [
    "r1 = HE27.restriction_maps()[2][1]\n",
    "r2 = HE27.restriction_maps()[3][1]\n",
    "r3 = HE27.restriction_maps()[4][1]\n",
    "r4 = HE27.restriction_maps()[5][1]\n",
    "U = r1.codomain()"
   ]
  },
  {
   "cell_type": "code",
   "execution_count": 52,
   "metadata": {},
   "outputs": [
    {
     "data": {
      "text/html": [
       "<html><script type=\"math/tex; mode=display\">\\newcommand{\\Bold}[1]{\\mathbf{#1}}0</script></html>"
      ],
      "text/plain": [
       "0: 3-Cocycle in H^*(SmallGroup(9,2); GF(3))"
      ]
     },
     "execution_count": 52,
     "metadata": {},
     "output_type": "execute_result"
    },
    {
     "data": {
      "text/html": [
       "<html><script type=\"math/tex; mode=display\">\\newcommand{\\Bold}[1]{\\mathbf{#1}}-c_{2,2} a_{1,0}+c_{2,1} a_{1,1}</script></html>"
      ],
      "text/plain": [
       "-c_2_2*a_1_0+c_2_1*a_1_1: 3-Cocycle in H^*(SmallGroup(9,2); GF(3))"
      ]
     },
     "execution_count": 52,
     "metadata": {},
     "output_type": "execute_result"
    },
    {
     "data": {
      "text/html": [
       "<html><script type=\"math/tex; mode=display\">\\newcommand{\\Bold}[1]{\\mathbf{#1}}-c_{2,2} a_{1,0}+c_{2,1} a_{1,1}</script></html>"
      ],
      "text/plain": [
       "-c_2_2*a_1_0+c_2_1*a_1_1: 3-Cocycle in H^*(SmallGroup(9,2); GF(3))"
      ]
     },
     "execution_count": 52,
     "metadata": {},
     "output_type": "execute_result"
    },
    {
     "data": {
      "text/html": [
       "<html><script type=\"math/tex; mode=display\">\\newcommand{\\Bold}[1]{\\mathbf{#1}}c_{2,2} a_{1,1}-c_{2,2} a_{1,0}+c_{2,1} a_{1,1}</script></html>"
      ],
      "text/plain": [
       "c_2_2*a_1_1-c_2_2*a_1_0+c_2_1*a_1_1: 3-Cocycle in H^*(SmallGroup(9,2); GF(3))"
      ]
     },
     "execution_count": 52,
     "metadata": {},
     "output_type": "execute_result"
    }
   ],
   "source": [
    "U.element_as_polynomial(r1(c))\n",
    "U.element_as_polynomial(r2(c))\n",
    "U.element_as_polynomial(r3(c))\n",
    "U.element_as_polynomial(r4(c))"
   ]
  },
  {
   "cell_type": "markdown",
   "metadata": {},
   "source": [
    "It is easy to compute the Bockstein and the Steenrod powers for the cohomology of elementary abelian groups. Since Bockstein and Steenrod powers commute with restriction maps, the formula of Kraines implies that $cP$ should be the *unique* element that restricts to \n",
    " - $0$\n",
    " - $c_{2,1}c_{2,2}^3 - c_{2,1}^3c_{2,2}$\n",
    " - $c_{2,1}c_{2,2}^3 - c_{2,1}^3c_{2,2}$\n",
    " - $-c_{2,2}^4 - c_{2,1}c_{2,2}^3 + c_{2,1}^3c_{2,2}$.\n",
    " \n",
    "It does:"
   ]
  },
  {
   "cell_type": "code",
   "execution_count": 53,
   "metadata": {},
   "outputs": [
    {
     "data": {
      "text/html": [
       "<html><script type=\"math/tex; mode=display\">\\newcommand{\\Bold}[1]{\\mathbf{#1}}0</script></html>"
      ],
      "text/plain": [
       "0: 8-Cocycle in H^*(SmallGroup(9,2); GF(3))"
      ]
     },
     "execution_count": 53,
     "metadata": {},
     "output_type": "execute_result"
    },
    {
     "data": {
      "text/html": [
       "<html><script type=\"math/tex; mode=display\">\\newcommand{\\Bold}[1]{\\mathbf{#1}}c_{2,1} c_{2,2}^{3}-c_{2,1}^{3} c_{2,2}</script></html>"
      ],
      "text/plain": [
       "c_2_1*c_2_2^3-c_2_1^3*c_2_2: 8-Cocycle in H^*(SmallGroup(9,2); GF(3))"
      ]
     },
     "execution_count": 53,
     "metadata": {},
     "output_type": "execute_result"
    },
    {
     "data": {
      "text/html": [
       "<html><script type=\"math/tex; mode=display\">\\newcommand{\\Bold}[1]{\\mathbf{#1}}c_{2,1} c_{2,2}^{3}-c_{2,1}^{3} c_{2,2}</script></html>"
      ],
      "text/plain": [
       "c_2_1*c_2_2^3-c_2_1^3*c_2_2: 8-Cocycle in H^*(SmallGroup(9,2); GF(3))"
      ]
     },
     "execution_count": 53,
     "metadata": {},
     "output_type": "execute_result"
    },
    {
     "data": {
      "text/html": [
       "<html><script type=\"math/tex; mode=display\">\\newcommand{\\Bold}[1]{\\mathbf{#1}}-c_{2,2}^{4}+c_{2,1} c_{2,2}^{3}-c_{2,1}^{3} c_{2,2}</script></html>"
      ],
      "text/plain": [
       "-c_2_2^4+c_2_1*c_2_2^3-c_2_1^3*c_2_2: 8-Cocycle in H^*(SmallGroup(9,2); GF(3))"
      ]
     },
     "execution_count": 53,
     "metadata": {},
     "output_type": "execute_result"
    }
   ],
   "source": [
    "U.element_as_polynomial(r1(cP))\n",
    "U.element_as_polynomial(r2(cP))\n",
    "U.element_as_polynomial(r3(cP))\n",
    "U.element_as_polynomial(r4(cP))"
   ]
  },
  {
   "cell_type": "code",
   "execution_count": null,
   "metadata": {},
   "outputs": [],
   "source": []
  },
  {
   "cell_type": "code",
   "execution_count": null,
   "metadata": {},
   "outputs": [],
   "source": []
  },
  {
   "cell_type": "code",
   "execution_count": null,
   "metadata": {},
   "outputs": [],
   "source": []
  },
  {
   "cell_type": "code",
   "execution_count": null,
   "metadata": {},
   "outputs": [],
   "source": []
  }
 ],
 "metadata": {
  "kernelspec": {
   "display_name": "SageMath 8.9.beta2",
   "language": "sage",
   "name": "sagemath"
  },
  "language_info": {
   "codemirror_mode": {
    "name": "ipython",
    "version": 2
   },
   "file_extension": ".py",
   "mimetype": "text/x-python",
   "name": "python",
   "nbconvert_exporter": "python",
   "pygments_lexer": "ipython2",
   "version": "2.7.15"
  }
 },
 "nbformat": 4,
 "nbformat_minor": 2
}
