{
 "cells": [
  {
   "cell_type": "code",
   "execution_count": 1,
   "metadata": {
    "collapsed": false
   },
   "outputs": [],
   "source": [
    "class Lie_algebra:\n",
    "    def __init__(self, ring, dimension):\n",
    "        \"\"\"\n",
    "        Constructor of a Lie algebra\n",
    "        \n",
    "        Parameters :\n",
    "           ring : The ring of all the coefficients for the bracket.\n",
    "           dimension : The dimension of the algebra. (integer)\n",
    "        \n",
    "        Examples:\n",
    "           sage: l = Lie_algebra( SR, 5 ); l\n",
    "           Lie Algebra of dimension 5\n",
    "           \n",
    "        \"\"\"\n",
    "        self._ring = ring\n",
    "        self._n = dimension #The dimension\n",
    "        self._e = []  #The canonical basis\n",
    "        self._zero = vector(self._ring, [0 for i in range(self._n)])\n",
    "        for i in range(dimension):\n",
    "            l = [ 0 for k in range(dimension)]\n",
    "            l[i] = 1\n",
    "            self._e.append( vector(self._ring,l) )\n",
    "        self._bracket_basis = {}\n",
    "        for j in range(0,dimension):\n",
    "            for i in range(0,j):\n",
    "                self._bracket_basis[ (i,j) ] = [\n",
    "                    0 for k in range(dimension)\n",
    "                ]  # [ C_[i,j}^k ]_{0 <= k <= dimension-1}\n",
    "        self._metric_matrix = [\n",
    "            [ 0 for j in range(self._n) ]\n",
    "            for i in range( self._n)\n",
    "        ]\n",
    "    def set_metric(self, metric_matrix, check_validity=True):\n",
    "        \"\"\"\n",
    "            Set the metric Matrix.\n",
    "            \n",
    "            If check_validity is set to True, the this function will\n",
    "            raise an error if the metric matrix is not symmetric or\n",
    "            is degenerate.\n",
    "            \n",
    "            Parameters :\n",
    "                metric_matrix : A matrix\n",
    "                check_validity : A boolean\n",
    "            \n",
    "            EXAMPLES:\n",
    "            \n",
    "            \n",
    "                sage: h = Lie_algebra(SR,3); h\n",
    "                sage: M = Matrix([[1,3,2],[1,4,3],[2,1,1]])\n",
    "                sage: M = M - M.transpose()\n",
    "                sage: h.set_metric( M, check_validity=False )\n",
    "                sage: h.set_metric( M )\n",
    "                Traceback (most recent call last):\n",
    "                ...\n",
    "                ValueError: The metric matrix is not symmetric.\n",
    "        \"\"\"\n",
    "        if check_validity:\n",
    "            if not metric_matrix.is_symmetric():\n",
    "                raise ValueError( \"The metric matrix is not symmetric.\" )\n",
    "            if metric_matrix.det() == 0:\n",
    "                raise ValueError( \"The metric matrix is degenerate.\" )\n",
    "        self._metric_matrix = map(lambda x: list(x),  metric_matrix)\n",
    "    def set_metric_coefficient(self, i, j, coefficient):\n",
    "        \"\"\"\n",
    "        \"\"\"\n",
    "        self._metric_matrix[i][j] = coefficient\n",
    "    def metric(self):\n",
    "        return Matrix(self._ring, self._metric_matrix)\n",
    "    def dimension(self):\n",
    "        \"\"\"\n",
    "        Return the dimension of the Lie algebra.\n",
    "        \n",
    "        Examples:\n",
    "            sage: l = Lie_algebra( SR, 5 );\n",
    "            sage: l.dimension()\n",
    "            5\n",
    "            \n",
    "        \"\"\"\n",
    "        return self._n\n",
    "    def __repr__(self):\n",
    "        return \"Lie Algebra of dimension \" + str(self._n)\n",
    "    def e(self, j):\n",
    "        if not( 0 <= j and j < self._n ):\n",
    "            raise ValueError(\n",
    "                \"The canonical basis are idexed from 0 to \" + \n",
    "                str(self._n) + \" excluded.\"\n",
    "            )            \n",
    "        return self._e[j]\n",
    "    def canonical_basis( self ):\n",
    "        return self._e\n",
    "    def set_braket( self, i, j, vect ):\n",
    "        if( j<i ):\n",
    "            vect = - vect\n",
    "            (i,j) = (j, i)\n",
    "        self._bracket_basis[ (i,j) ] = list( vect )\n",
    "    def bracket(self, vect1, vect2):\n",
    "        \"\"\"\n",
    "        Examples:\n",
    "            sage: l = Lie_algebra( SR, 5 )\n",
    "            sage: e0, e1, e2, e3, e4 = l.canonical_basis()\n",
    "            sage: l.set_braket(1,2, 3*e1+ 4*e4 )\n",
    "            sage: l.set_braket(3,2, e0+ e2 )\n",
    "            sage: l.bracket( e1+e3 , e2 )\n",
    "            (1, 3, 1, 0, 4)\n",
    "            \n",
    "        \"\"\"\n",
    "        res = self._zero\n",
    "        for j in range(self._n):\n",
    "            for i in range(j):\n",
    "                res = res + (\n",
    "                    ( vect1[i]*vect2[j]  -  vect1[j]*vect2[i] ) * \n",
    "                    vector(self._ring, self._bracket_basis[ (i,j) ] )\n",
    "                )\n",
    "        return res\n",
    "    def jacobi(self, u, v, w):\n",
    "        \"\"\"\n",
    "        Examples:\n",
    "            sage: g = Lie_algebra(SR,3)\n",
    "            sage: e = g.canonical_basis()\n",
    "            sage: g.set_braket(0, 1, e[2])\n",
    "            sage: g.set_braket(1, 2, e[0])\n",
    "            sage: g.set_braket(2, 0, e[1])\n",
    "            sage: g.jacobi( e[0], e[1], e[2] )\n",
    "            0\n",
    "        \"\"\"\n",
    "        return self.bracket(\n",
    "            u, self.bracket( v, w )\n",
    "        ) + self.bracket(\n",
    "            v, self.bracket( w, u )\n",
    "        ) + self.bracket(\n",
    "            w, self.bracket( u, v )\n",
    "        )\n",
    "    def test_lie_algebra(self):\n",
    "        \"\"\"\n",
    "        Return the list of all triplet\n",
    "        (i < j < k) that doesn't vanish with the Jacobi identity.\n",
    "        \n",
    "        Examples:\n",
    "            sage: g = Lie_algebra(SR,3)\n",
    "            sage: e = g.canonical_basis()\n",
    "            sage: g.set_braket(0, 1, e[2])\n",
    "            sage: g.set_braket(1, 2, e[0])\n",
    "            sage: g.set_braket(2, 0, e[1])\n",
    "            sage: g.is_lie_algebra()\n",
    "            {}\n",
    "            \n",
    "            sage: var('a, b')\n",
    "            sage: g = Lie_algebra(SR,3)\n",
    "            sage: e = g.canonical_basis()\n",
    "            sage: g.set_braket(0, 1, a*e[2]+b*e[1])\n",
    "            sage: g.set_braket(1, 2, b*e[0]+a*e[2])\n",
    "            sage: g.set_braket(2, 0, e[1])\n",
    "            sage: g.is_lie_algebra()\n",
    "            {(0, 1, 2):(b^2, a, a*b)}            \n",
    "        \"\"\"\n",
    "        res = {}\n",
    "        for i in range(self._n):\n",
    "            for j in range(i+1, self._n):\n",
    "                for k in range(j+1,self._n):\n",
    "                    jacobi = simplify(\n",
    "                        self.jacobi(self.e(i), self.e(j), self.e(k))\n",
    "                    )\n",
    "                    if jacobi != self._zero:\n",
    "                        res[(i,j,k)] = jacobi\n",
    "        return res\n",
    "    def is_lie_algebra(self):\n",
    "        \"\"\"\n",
    "        Return true if it is a Lie Algebra and False if not.\n",
    "        \"\"\"\n",
    "        return not( self.test_lie_algebra() )\n",
    "    def adjoint(self, vect):\n",
    "        \"\"\"\n",
    "        Return the adjoint matrix of 'vect'.\n",
    "        \n",
    "        Examples:\n",
    "            sage: var('a, b')\n",
    "            sage: h = Lie_algebra(SR,3)\n",
    "            sage: eh = h.canonical_basis()\n",
    "            sage: h.set_braket(0, 1, a*eh[2]+b*eh[1])\n",
    "            sage: h.set_braket(1, 2, b*eh[0]+a*eh[2])\n",
    "            sage: h.set_braket(2, 0, eh[1])\n",
    "            sage: h.adjoint(eh[0])\n",
    "            [ 0  0  0]\n",
    "            [ 0  b -1]\n",
    "            [ 0  a  0]\n",
    "            \n",
    "        \"\"\"\n",
    "        res = []\n",
    "        for i in range(self._n):\n",
    "            res.append( self.bracket(vect,self.e(i)) )\n",
    "        return Matrix( self._ring, res ).transpose()\n",
    "    \n",
    "    def modular_form( self ):\n",
    "        \"\"\"\n",
    "        Examples:\n",
    "            sage: var('a, b')\n",
    "            sage: h = Lie_algebra(SR,3)\n",
    "            sage: eh = h.canonical_basis()\n",
    "            sage: h.set_braket(0, 1, a*eh[2]+b*eh[1])\n",
    "            sage: h.set_braket(1, 2, b*eh[0]+a*eh[2])\n",
    "            sage: h.set_braket(2, 0, eh[1])\n",
    "            sage: h.modular_form()\n",
    "            (b, a, 0)\n",
    "        \"\"\"\n",
    "        res = []\n",
    "        for i in range(self._n):\n",
    "            res.append( self.adjoint(self.e(i)).trace() )\n",
    "        return vector( self._ring, res )\n",
    "    def killing(self, vect1, vect2):\n",
    "        \"\"\"\n",
    "            Examples:\n",
    "                sage: var('a, b')\n",
    "                sage: h = Lie_algebra(SR,3)\n",
    "                sage: eh = h.canonical_basis()\n",
    "                sage: h.set_braket(0, 1, a*eh[2]+b*eh[1])\n",
    "                sage: h.set_braket(1, 2, b*eh[0]+a*eh[2])\n",
    "                sage: h.set_braket(2, 0, eh[1])\n",
    "                sage: h.killing( eh[0], eh[0] )\n",
    "                b^2 - 2*a\n",
    "                \n",
    "        \"\"\"\n",
    "        return (self.adjoint(vect1)*self.adjoint(vect2)).trace()\n",
    "    def killing_matrix(self):\n",
    "        \"\"\"\n",
    "        Examples:\n",
    "            sage: var('a, b')\n",
    "            sage: h = Lie_algebra(SR,3)\n",
    "            sage: eh = h.canonical_basis()\n",
    "            sage: h.set_braket(0, 1, a*eh[2]+b*eh[1])\n",
    "            sage: h.set_braket(1, 2, b*eh[0]+a*eh[2])\n",
    "            sage: h.set_braket(2, 0, eh[1])\n",
    "            sage: h.killing_matrix().is_symmetric()\n",
    "            True\n",
    "            \n",
    "        \"\"\"\n",
    "        return Matrix(\n",
    "            self._ring, self._n,\n",
    "            lambda i, j: self.killing(self.e(i), self.e(j)) \n",
    "        )\n",
    "    def scalar_product( self, vect1, vect2 ):\n",
    "        \"\"\"\n",
    "        EXAMPLES:\n",
    "            sage: h = Lie_algebra(SR,3)\n",
    "            sage: h.set_metric( matrix.identity(SR,3) )\n",
    "            sage: h.scalar_product( vector(SR, [1,2,3]), vector(SR, [4,5,6] ))\n",
    "            32\n",
    "        \"\"\"\n",
    "        return vect1 * Matrix(self._ring, self._metric_matrix)* vect2\n",
    "    def levi_civita_product(self, vect1, vect2):\n",
    "        \"\"\"\n",
    "        Compute the levi-civita product of two vectors.\n",
    "\n",
    "        EXAMPLES:\n",
    "            sage: h = Lie_algebra(SR,4)\n",
    "            sage: e0, e1, e2, e3 = h.canonical_basis()\n",
    "            sage: h.set_braket( 0, 1, e1 )\n",
    "            sage: h.set_braket( 0, 2, e2 + e1 )\n",
    "            sage: h.set_metric(\n",
    "            ....:     Matrix(\n",
    "            ....:         SR, \n",
    "            ....:         [[0, 1, 0 , 0],[1, 0, 0, 0],[0, 0, 1, 0],[0, 0, 0, 1]] \n",
    "            ....:     )\n",
    "            ....: )\n",
    "            sage: all( [\n",
    "            ....:     (\n",
    "            ....:         h.levi_civita_product( h.e(i), h.e(j) ) - \n",
    "            ....:         h.levi_civita_product( h.e(j), h.e(i)) \n",
    "            ....:     ) == h.bracket( h.e(i), h.e(j) )\n",
    "            ....:     for i in range(h.dimension())\n",
    "            ....:     for j in range(i+1)\n",
    "            ....: ] )\n",
    "            True\n",
    "        \"\"\"\n",
    "        def levi( u, v, w):\n",
    "            return (1/2)*(\n",
    "                self.scalar_product(\n",
    "                    self.bracket(u,v), w\n",
    "                ) + self.scalar_product(\n",
    "                    self.bracket(w, u), v\n",
    "                ) + self.scalar_product(\n",
    "                    self.bracket(w,v), u\n",
    "                )\n",
    "            )\n",
    "                \n",
    "        return (\n",
    "            Matrix(\n",
    "                self._ring,\n",
    "                self._metric_matrix\n",
    "            )^(-1) * vector(\n",
    "                [\n",
    "                    levi(vect1, vect2, self.e(i))\n",
    "                    for i in range(self._n)\n",
    "                ]\n",
    "            )\n",
    "        ) \n",
    "    def left_levi(self, vect):\n",
    "        \"\"\"\n",
    "        Return the matrix of the left multiplication for Levi-Civita product\n",
    "        of vect.\n",
    "        \n",
    "        EXAMPLES:\n",
    "            sage: h = Lie_algebra(SR,4)\n",
    "            sage: e0, e1, e2, e3 = h.canonical_basis()\n",
    "            sage: h.set_braket( 0, 1, e1 )\n",
    "            sage: h.set_braket( 0, 2, e2 + e1 )\n",
    "            sage: h.set_metric(\n",
    "            ....:     Matrix(\n",
    "            ....:         SR, \n",
    "            ....:         [[0, 1, 0 , 0],[1, 0, 0, 0],[0, 0, 1, 0],[0, 0, 0, 1]] \n",
    "            ....:     )\n",
    "            ....: )\n",
    "            sage: all( [\n",
    "            ....:     h.left_levi(h.e(i)) - h.right_levi(h.e(i)) == h.adjoint(h.e(i))\n",
    "            ....:     for i in range(h.dimension())\n",
    "            ....: ] )\n",
    "            True        \n",
    "            \n",
    "        \"\"\"\n",
    "        res = []\n",
    "        for i in range(self._n):\n",
    "            res.append( self.levi_civita_product(vect,self.e(i)) )\n",
    "        return Matrix( self._ring, res ).transpose()    \n",
    "\n",
    "    def right_levi(self, vect):\n",
    "        \"\"\"\n",
    "        Return the matrix of the right multiplication for Levi-Civita product\n",
    "        of vect.\n",
    "        \n",
    "        EXAMPLES:\n",
    "            sage: h = Lie_algebra(SR,4)\n",
    "            sage: e0, e1, e2, e3 = h.canonical_basis()\n",
    "            sage: h.set_braket( 0, 1, e1 )\n",
    "            sage: h.set_braket( 0, 2, e2 + e1 )\n",
    "            sage: h.set_metric(\n",
    "            ....:     Matrix(\n",
    "            ....:         SR, \n",
    "            ....:         [[0, 1, 0 , 0],[1, 0, 0, 0],[0, 0, 1, 0],[0, 0, 0, 1]] \n",
    "            ....:     )\n",
    "            ....: )\n",
    "            sage: all( [\n",
    "            ....:     h.left_levi(h.e(i)) - h.right_levi(h.e(i)) == h.adjoint(h.e(i))\n",
    "            ....:     for i in range(h.dimension())\n",
    "            ....: ] )\n",
    "            True\n",
    "        \"\"\"\n",
    "        res = []\n",
    "        for i in range(self._n):\n",
    "            res.append( self.levi_civita_product(self.e(i), vect) )\n",
    "        return Matrix( self._ring, res ).transpose()    \n",
    "    def curvature( self, vect1, vect2):\n",
    "        \"\"\"\n",
    "        Compute the curvature of vact1 and vect2.\n",
    "        \n",
    "        Examples:\n",
    "        \n",
    "            sage: h = Lie_algebra(SR,4)\n",
    "            sage: e0, e1, e2, e3 = h.canonical_basis()\n",
    "            sage: h.set_braket( 0, 1, e1 )\n",
    "            sage: h.set_braket( 0, 2, e2 + e1 )\n",
    "            sage: h.set_metric(\n",
    "            ....:     Matrix(\n",
    "            ....:         SR, \n",
    "            ....:         [[0, 1, 0 , 0],[1, 0, 0, 0],[0, 0, 1, 0],[0, 0, 0, 1]] \n",
    "            ....:     )\n",
    "            ....: )        \n",
    "            sage: all( [\n",
    "            sage:     h.curvature( h.e(i), h.e(j) ) == matrix.zero(h.dimension())\n",
    "            sage:     for i in range(h.dimension())\n",
    "            sage:     for j in range(i+1)\n",
    "            sage: ] )\n",
    "            True\n",
    "        \"\"\"\n",
    "        return (\n",
    "            self.left_levi(vect1) * self.left_levi(vect2) -\n",
    "            self.left_levi(vect2) * self.left_levi(vect1) -\n",
    "            self.left_levi( self.bracket( vect1, vect2) )\n",
    "        )\n",
    "    def ricci_curvature(self, vect1, vect2):\n",
    "        \"\"\"\n",
    "        Return the RIcci Curvature of two vectors.\n",
    "        \n",
    "        Examples:\n",
    "            sage: h = Lie_algebra(SR,4)\n",
    "            sage: e0, e1, e2, e3 = h.canonical_basis()\n",
    "            sage: h.set_braket( 0, 1, e1 )\n",
    "            sage: h.set_braket( 0, 2, e2 + e1 )\n",
    "            sage: h.set_metric(\n",
    "            ....:     Matrix(\n",
    "            ....:         SR, \n",
    "            ....:         [[0, 1, 0 , 0],[1, 0, 0, 0],[0, 0, 1, 0],[0, 0, 0, 1]] \n",
    "            ....:     )\n",
    "            ....: )\n",
    "            sage: all( [\n",
    "            ....:     h.ricci_curvature( h.e(i), h.e(j) ) == 0\n",
    "            ....:    for i in range(h.dimension())\n",
    "            ....:    for j in range(i+1)\n",
    "            ....: ] )\n",
    "            True\n",
    "        \"\"\"\n",
    "        return (\n",
    "            - (self.right_levi(vect1)*self.right_levi(vect2)).trace() +\n",
    "            self.right_levi( self.levi_civita_product(vect1,vect2)  ).trace() \n",
    "        )\n",
    "    def ricci_matrix( self ):\n",
    "        \"\"\"\n",
    "        Examples:\n",
    "            sage: h = Lie_algebra(SR,4)\n",
    "            sage: e0, e1, e2, e3 = h.canonical_basis()\n",
    "            sage: h.set_braket( 0, 1, e1 )\n",
    "            sage: h.set_braket( 0, 2, e2 + e1 )\n",
    "            sage: h.set_metric(\n",
    "            ....:     Matrix(\n",
    "            ....:         SR, \n",
    "            ....:         [[0, 1, 0 , 0],[1, 0, 0, 0],[0, 0, 1, 0],[0, 0, 0, 1]] \n",
    "            ....:     )\n",
    "            ....: )\n",
    "            sage: h.ricci_matrix() \n",
    "            [0 0 0 0]\n",
    "            [0 0 0 0]\n",
    "            [0 0 0 0]\n",
    "            [0 0 0 0]\n",
    "        \"\"\"\n",
    "        return Matrix( \n",
    "            self._ring, self._n, \n",
    "            lambda i, j: self.ricci_curvature( self.e(i), self.e(j) )\n",
    "        )\n",
    "    def ricci_operator( self ):\n",
    "        \"\"\"\n",
    "        Return the Ricci operator.\n",
    "        \n",
    "        Examples:\n",
    "            sage: h = Lie_algebra(SR,4)\n",
    "            sage: e0, e1, e2, e3 = h.canonical_basis()\n",
    "            sage: h.set_braket( 0, 1, e1 )\n",
    "            sage: h.set_braket( 0, 2, e2 + e1 )\n",
    "            sage: h.set_metric(\n",
    "            ....:     Matrix(\n",
    "            ....:         SR, \n",
    "            ....:         [[0, 1, 0 , 0],[1, 0, 0, 0],[0, 0, 1, 0],[0, 0, 0, 1]] \n",
    "            ....:     )\n",
    "            ....: )\n",
    "            sage: h.ricci_operator() \n",
    "            [0 0 0 0]\n",
    "            [0 0 0 0]\n",
    "            [0 0 0 0]\n",
    "            [0 0 0 0]\n",
    "        \"\"\"\n",
    "        return (\n",
    "            Matrix( self._ring, self._metric_matrix)^(-1) * \n",
    "            self.ricci_matrix()\n",
    "        )\n",
    "    def scalar_curvature(self):\n",
    "        \"\"\"\n",
    "        Return the scalar curvature.\n",
    "        \n",
    "        Examples:\n",
    "            sage: h = Lie_algebra(SR,4)\n",
    "            sage: e0, e1, e2, e3 = h.canonical_basis()\n",
    "            sage: h.set_braket( 0, 1, e1 )\n",
    "            sage: h.set_braket( 0, 2, e2 + e1 )\n",
    "            sage: h.set_metric(\n",
    "            ....:     Matrix(\n",
    "            ....:         SR, \n",
    "            ....:         [[0, 1, 0 , 0],[1, 0, 0, 0],[0, 0, 1, 0],[0, 0, 0, 1]] \n",
    "            ....:     )\n",
    "            ....: )\n",
    "            sage: h.scalar_curvature()\n",
    "            0\n",
    "        \"\"\"\n",
    "        return self.ricci_operator().trace()"
   ]
  },
  {
   "cell_type": "code",
   "execution_count": null,
   "metadata": {
    "collapsed": true
   },
   "outputs": [],
   "source": [
    "        print( \"vect1 : \" + str(vect1) )\n",
    "        print( \"vect2 : \" + str(vect2) )\n",
    "        print( \"bracket : \" + self.bracket(vect1,vect2)  )\n",
    "        print( \"right levi vect1: \" + str(elf.right_levi(vect1)) )\n",
    "        print( \"right levi vect2: \" + str(elf.right_levi(vect2)) )\n",
    "        print( \"\" )"
   ]
  },
  {
   "cell_type": "code",
   "execution_count": null,
   "metadata": {
    "collapsed": true
   },
   "outputs": [],
   "source": [
    "Matrix?"
   ]
  },
  {
   "cell_type": "code",
   "execution_count": null,
   "metadata": {
    "collapsed": false
   },
   "outputs": [],
   "source": [
    "l = Lie_algebra( SR, 5 ); l"
   ]
  },
  {
   "cell_type": "code",
   "execution_count": null,
   "metadata": {
    "collapsed": false
   },
   "outputs": [],
   "source": [
    "e0, e1, e2, e3, e4 = l.canonical_basis()"
   ]
  },
  {
   "cell_type": "code",
   "execution_count": null,
   "metadata": {
    "collapsed": false
   },
   "outputs": [],
   "source": [
    "l.set_braket(1,2, 3*e1+ 4*e4 )"
   ]
  },
  {
   "cell_type": "code",
   "execution_count": null,
   "metadata": {
    "collapsed": true
   },
   "outputs": [],
   "source": [
    "l.set_braket(3,2, e0+ e2 )"
   ]
  },
  {
   "cell_type": "code",
   "execution_count": null,
   "metadata": {
    "collapsed": false
   },
   "outputs": [],
   "source": [
    "l._bracket_basis"
   ]
  },
  {
   "cell_type": "code",
   "execution_count": null,
   "metadata": {
    "collapsed": false
   },
   "outputs": [],
   "source": [
    "l.bracket( e1+e3 , e2 )"
   ]
  },
  {
   "cell_type": "code",
   "execution_count": null,
   "metadata": {
    "collapsed": false
   },
   "outputs": [],
   "source": [
    "l"
   ]
  },
  {
   "cell_type": "code",
   "execution_count": null,
   "metadata": {
    "collapsed": false
   },
   "outputs": [],
   "source": [
    "l.dimension()"
   ]
  },
  {
   "cell_type": "code",
   "execution_count": null,
   "metadata": {
    "collapsed": false
   },
   "outputs": [],
   "source": [
    "g = Lie_algebra(SR,3)"
   ]
  },
  {
   "cell_type": "code",
   "execution_count": null,
   "metadata": {
    "collapsed": false
   },
   "outputs": [],
   "source": [
    "e = g.canonical_basis()"
   ]
  },
  {
   "cell_type": "code",
   "execution_count": null,
   "metadata": {
    "collapsed": false
   },
   "outputs": [],
   "source": [
    "g.set_braket(0, 1, e[2])\n",
    "g.set_braket(1, 2, e[0])\n",
    "g.set_braket(2, 0, e[1])"
   ]
  },
  {
   "cell_type": "code",
   "execution_count": null,
   "metadata": {
    "collapsed": false
   },
   "outputs": [],
   "source": [
    "g._bracket_basis"
   ]
  },
  {
   "cell_type": "code",
   "execution_count": null,
   "metadata": {
    "collapsed": false
   },
   "outputs": [],
   "source": [
    "g.jacobi( e[0], e[1], e[2] )"
   ]
  },
  {
   "cell_type": "code",
   "execution_count": null,
   "metadata": {
    "collapsed": false
   },
   "outputs": [],
   "source": [
    "g.is_lie_algebra()\n"
   ]
  },
  {
   "cell_type": "code",
   "execution_count": null,
   "metadata": {
    "collapsed": false
   },
   "outputs": [],
   "source": [
    "var('a, b')\n",
    "h = Lie_algebra(SR,3)\n",
    "eh = h.canonical_basis()\n",
    "h.set_braket(0, 1, a*eh[2]+b*eh[1])\n",
    "h.set_braket(1, 2, b*eh[0]+a*eh[2])\n",
    "h.set_braket(2, 0, eh[1])\n",
    "h.test_lie_algebra()"
   ]
  },
  {
   "cell_type": "code",
   "execution_count": null,
   "metadata": {
    "collapsed": false
   },
   "outputs": [],
   "source": [
    "h.adjoint(eh[2])"
   ]
  },
  {
   "cell_type": "code",
   "execution_count": null,
   "metadata": {
    "collapsed": false
   },
   "outputs": [],
   "source": [
    "h.modular_form()"
   ]
  },
  {
   "cell_type": "code",
   "execution_count": null,
   "metadata": {
    "collapsed": false
   },
   "outputs": [],
   "source": [
    "h._bracket_basis"
   ]
  },
  {
   "cell_type": "code",
   "execution_count": null,
   "metadata": {
    "collapsed": false
   },
   "outputs": [],
   "source": [
    "h.killing( eh[0], eh[0] )"
   ]
  },
  {
   "cell_type": "code",
   "execution_count": null,
   "metadata": {
    "collapsed": false
   },
   "outputs": [],
   "source": [
    "h.adjoint(eh[0])^2"
   ]
  },
  {
   "cell_type": "code",
   "execution_count": null,
   "metadata": {
    "collapsed": false
   },
   "outputs": [],
   "source": [
    "M = h.killing_matrix()"
   ]
  },
  {
   "cell_type": "code",
   "execution_count": null,
   "metadata": {
    "collapsed": false
   },
   "outputs": [],
   "source": [
    "M.is_symmetric()"
   ]
  },
  {
   "cell_type": "code",
   "execution_count": null,
   "metadata": {
    "collapsed": false
   },
   "outputs": [],
   "source": [
    "map( lambda x: list(x),  matrix.identity(4))"
   ]
  },
  {
   "cell_type": "code",
   "execution_count": null,
   "metadata": {
    "collapsed": false
   },
   "outputs": [],
   "source": [
    "h = Lie_algebra(SR,3); h"
   ]
  },
  {
   "cell_type": "code",
   "execution_count": null,
   "metadata": {
    "collapsed": false
   },
   "outputs": [],
   "source": [
    "h = Lie_algebra(SR,3); h\n",
    "M = Matrix([[1,3,2],[1,4,3],[2,1,1]])\n",
    "M = M - M.transpose()\n",
    "h.set_metric( M )"
   ]
  },
  {
   "cell_type": "code",
   "execution_count": null,
   "metadata": {
    "collapsed": false
   },
   "outputs": [],
   "source": [
    "h._metric_matrix"
   ]
  },
  {
   "cell_type": "code",
   "execution_count": null,
   "metadata": {
    "collapsed": true
   },
   "outputs": [],
   "source": [
    "h.set_metric_coefficient(0,1, 42)"
   ]
  },
  {
   "cell_type": "code",
   "execution_count": null,
   "metadata": {
    "collapsed": false
   },
   "outputs": [],
   "source": [
    "h.metric()"
   ]
  },
  {
   "cell_type": "code",
   "execution_count": null,
   "metadata": {
    "collapsed": false
   },
   "outputs": [],
   "source": []
  },
  {
   "cell_type": "code",
   "execution_count": null,
   "metadata": {
    "collapsed": false
   },
   "outputs": [],
   "source": [
    "h = Lie_algebra(SR,3)\n",
    "h.set_metric( matrix.identity(SR,3) )\n",
    "h.scalar_product( vector(SR, [1,2,3]), vector(SR, [4,5,6] ))"
   ]
  },
  {
   "cell_type": "code",
   "execution_count": null,
   "metadata": {
    "collapsed": false
   },
   "outputs": [],
   "source": [
    "h = Lie_algebra(SR,4)\n",
    "e0, e1, e2, e3 = h.canonical_basis()\n",
    "h.set_braket( 0, 1, e1 )\n",
    "h.set_braket( 0, 2, e2 + e1 )\n",
    "h.set_metric(\n",
    "    Matrix(\n",
    "        SR, \n",
    "        [[0, 1, 0 , 0],[1, 0, 0, 0],[0, 0, 1, 0],[0, 0, 0, 1]] \n",
    "    )\n",
    ")\n",
    "\n",
    "all( [\n",
    "    (\n",
    "        h.levi_civita_product( h.e(i), h.e(j) ) - \n",
    "        h.levi_civita_product( h.e(j), h.e(i)) \n",
    "    ) == h.bracket( h.e(i), h.e(j) )\n",
    "    for i in range(h.dimension())\n",
    "    for j in range(i+1)\n",
    "] )\n"
   ]
  },
  {
   "cell_type": "code",
   "execution_count": null,
   "metadata": {
    "collapsed": true
   },
   "outputs": [],
   "source": [
    "h = Lie_algebra(SR,4)\n",
    "e0, e1, e2, e3 = h.canonical_basis()\n",
    "h.set_braket( 0, 1, e1 )\n",
    "h.set_braket( 0, 2, e2 + e1 )\n",
    "h.set_metric(\n",
    "    Matrix(\n",
    "        SR, \n",
    "        [[0, 1, 0 , 0],[1, 0, 0, 0],[0, 0, 1, 0],[0, 0, 0, 1]] \n",
    "    )\n",
    ")\n",
    "\n"
   ]
  },
  {
   "cell_type": "code",
   "execution_count": null,
   "metadata": {
    "collapsed": false
   },
   "outputs": [],
   "source": [
    "h = Lie_algebra(SR,4)\n",
    "e0, e1, e2, e3 = h.canonical_basis()\n",
    "h.set_braket( 0, 1, e1 )\n",
    "h.set_braket( 0, 2, e2 + e1 )\n",
    "h.set_metric(\n",
    "    Matrix(\n",
    "        SR, \n",
    "        [[0, 1, 0 , 0],[1, 0, 0, 0],[0, 0, 1, 0],[0, 0, 0, 1]] \n",
    "    )\n",
    ")\n",
    "\n",
    "all( [\n",
    "    h.curvature( h.e(i), h.e(j) ) == matrix.zero(h.dimension())\n",
    "    for i in range(h.dimension())\n",
    "    for j in range(i+1)\n",
    "] )\n",
    "\n"
   ]
  },
  {
   "cell_type": "code",
   "execution_count": null,
   "metadata": {
    "collapsed": false
   },
   "outputs": [],
   "source": [
    "h = Lie_algebra(SR,4)\n",
    "e0, e1, e2, e3 = h.canonical_basis()\n",
    "h.set_braket( 0, 1, e1 )\n",
    "h.set_braket( 0, 2, e2 + e1 )\n",
    "h.set_metric(\n",
    "    Matrix(\n",
    "        SR, \n",
    "        [[0, 1, 0 , 0],[1, 0, 0, 0],[0, 0, 1, 0],[0, 0, 0, 1]] \n",
    "    )\n",
    ")"
   ]
  },
  {
   "cell_type": "code",
   "execution_count": null,
   "metadata": {
    "collapsed": true
   },
   "outputs": [],
   "source": [
    "all( [\n",
    "    h.ricci_curvature( h.e(i), h.e(j) ) == 0\n",
    "    for i in range(h.dimension())\n",
    "    for j in range(i+1)\n",
    "] )"
   ]
  },
  {
   "cell_type": "code",
   "execution_count": null,
   "metadata": {
    "collapsed": false
   },
   "outputs": [],
   "source": [
    "h.ricci_curvature( e0, e0 )"
   ]
  },
  {
   "cell_type": "code",
   "execution_count": null,
   "metadata": {
    "collapsed": false
   },
   "outputs": [],
   "source": [
    "h.ricci_matrix()"
   ]
  },
  {
   "cell_type": "code",
   "execution_count": null,
   "metadata": {
    "collapsed": false
   },
   "outputs": [],
   "source": [
    "h.ricci_operator()"
   ]
  },
  {
   "cell_type": "code",
   "execution_count": null,
   "metadata": {
    "collapsed": false
   },
   "outputs": [],
   "source": [
    "h.scalar_curvature()"
   ]
  },
  {
   "cell_type": "markdown",
   "metadata": {},
   "source": [
    "# Exemple de l'article : "
   ]
  },
  {
   "cell_type": "code",
   "execution_count": 2,
   "metadata": {
    "collapsed": false
   },
   "outputs": [],
   "source": [
    "var('a')\n",
    "hflat = Lie_algebra(SR,6)\n",
    "e = hflat.canonical_basis()\n",
    "hflat.set_braket( 0, 2, e[3] )\n",
    "hflat.set_braket( 0, 3, -e[2] )\n",
    "hflat.set_braket( 0, 4, a*e[2]+e[5] )\n",
    "hflat.set_braket( 0, 5, a*e[3]-e[4] )\n",
    "hflat.set_braket( 2, 4, -a*e[1] )\n",
    "hflat.set_braket( 3, 5, -a*e[1] )\n",
    "hflat.set_braket( 4, 5, 2*a^2*e[1])\n",
    "hflat.set_metric(\n",
    "    Matrix(\n",
    "        SR,\n",
    "        [\n",
    "            [0, 1,   0,    0,     0,     0],\n",
    "            [1, 0,   0,    0,     0,     0],\n",
    "            [0, 0,   1,    0,     0,   2*a],\n",
    "            [0, 0,   0,    1,  -2*a,     0],\n",
    "            [0, 0,   0, -2*a, 1+a^2,     0],\n",
    "            [0, 0, 2*a,    0,     0, 1+a^2]\n",
    "        ]\n",
    "    )\n",
    ")"
   ]
  },
  {
   "cell_type": "code",
   "execution_count": 3,
   "metadata": {
    "collapsed": false
   },
   "outputs": [
    {
     "data": {
      "text/plain": [
       "[      0       1       0       0       0       0]\n",
       "[      1       0       0       0       0       0]\n",
       "[      0       0       1       0       0     2*a]\n",
       "[      0       0       0       1    -2*a       0]\n",
       "[      0       0       0    -2*a a^2 + 1       0]\n",
       "[      0       0     2*a       0       0 a^2 + 1]"
      ]
     },
     "execution_count": 3,
     "metadata": {},
     "output_type": "execute_result"
    }
   ],
   "source": [
    "hflat.metric()"
   ]
  },
  {
   "cell_type": "code",
   "execution_count": 4,
   "metadata": {
    "collapsed": false
   },
   "outputs": [
    {
     "data": {
      "text/plain": [
       "True"
      ]
     },
     "execution_count": 4,
     "metadata": {},
     "output_type": "execute_result"
    }
   ],
   "source": [
    "hflat.is_lie_algebra()"
   ]
  },
  {
   "cell_type": "code",
   "execution_count": null,
   "metadata": {
    "collapsed": false
   },
   "outputs": [],
   "source": [
    "hflat.levi_civita_product( e[1], e[0] )"
   ]
  },
  {
   "cell_type": "code",
   "execution_count": null,
   "metadata": {
    "collapsed": true
   },
   "outputs": [],
   "source": []
  },
  {
   "cell_type": "code",
   "execution_count": null,
   "metadata": {
    "collapsed": false
   },
   "outputs": [],
   "source": [
    "hflat.bracket( e[0], e[2] )"
   ]
  },
  {
   "cell_type": "code",
   "execution_count": 8,
   "metadata": {
    "collapsed": false
   },
   "outputs": [
    {
     "data": {
      "text/plain": [
       "(0, 0, 0, 1, 0, 0)"
      ]
     },
     "execution_count": 8,
     "metadata": {},
     "output_type": "execute_result"
    }
   ],
   "source": [
    "hflat.levi_civita_product( e[0], e[2] )"
   ]
  },
  {
   "cell_type": "code",
   "execution_count": 14,
   "metadata": {
    "collapsed": false
   },
   "outputs": [
    {
     "data": {
      "text/plain": [
       "[                                                         0                                                          0                                                          0                                                          0                                                          0                                                          0]\n",
       "[                                                         0                                                          0                                                          0                                                          0                                                          0                                                          0]\n",
       "[                                                         0                                                          0                                                          0                                                         -1 -2*a*(4*a^2/(3*a^2 - 1) - 1) + 2*(2*a^2 + 1)*a/(3*a^2 - 1)                                                          0]\n",
       "[                                                         0                                                          0                                                          1                                                          0                                                          0 -2*a*(4*a^2/(3*a^2 - 1) - 1) + 2*(2*a^2 + 1)*a/(3*a^2 - 1)]\n",
       "[                                                         0                                                          0                                                          0                                                          0                                                          0               -4*a^2/(3*a^2 - 1) + (2*a^2 + 1)/(3*a^2 - 1)]\n",
       "[                                                         0                                                          0                                                          0                                                          0                4*a^2/(3*a^2 - 1) - (2*a^2 + 1)/(3*a^2 - 1)                                                          0]"
      ]
     },
     "execution_count": 14,
     "metadata": {},
     "output_type": "execute_result"
    }
   ],
   "source": [
    "hflat.left_levi( e[0] )"
   ]
  },
  {
   "cell_type": "code",
   "execution_count": 20,
   "metadata": {
    "collapsed": false
   },
   "outputs": [],
   "source": [
    "erreur = {}\n",
    "for i in range(hflat.dimension()):\n",
    "    for j in range(i+1):\n",
    "        res = hflat.curvature(e[i], e[j])\n",
    "        if res != matrix.zero(SR, hflat.dimension()) :\n",
    "            erreur[(i,j)] = res"
   ]
  },
  {
   "cell_type": "code",
   "execution_count": 22,
   "metadata": {
    "collapsed": false
   },
   "outputs": [
    {
     "data": {
      "text/plain": [
       "[(5, 0), (4, 0)]"
      ]
     },
     "execution_count": 22,
     "metadata": {},
     "output_type": "execute_result"
    }
   ],
   "source": [
    "erreur.keys()"
   ]
  },
  {
   "cell_type": "code",
   "execution_count": 23,
   "metadata": {
    "collapsed": false
   },
   "outputs": [
    {
     "data": {
      "text/plain": [
       "[                                                                                                                    0                                                                                                                     0                                                                                                                     0                                                                                                                     0                                                                                                                     0                                                                                                                     0]\n",
       "[                                                                                                                    0                                                                                                                     0                                                                                                                     0                                                                                                                     0 a^2*(4*a^2/(3*a^2 - 1) - (2*a^2 + 1)/(3*a^2 - 1)) - 2*(a*(4*a^2/(3*a^2 - 1) - 1) - (2*a^2 + 1)*a/(3*a^2 - 1))*a - a^2                                                                                                                     0]\n",
       "[                                                                                                                    0                                                                                                                     0                                                                                                                     0                                                                                                                     0                                                                                                                     0                                                                                                                     0]\n",
       "[                                           -2*(a*(4*a^2/(3*a^2 - 1) - 1) - (2*a^2 + 1)*a/(3*a^2 - 1))*a^2/(3*a^2 - 1)                                                                                                                     0                                                                                                                     0                                                                                                                     0                                                                                                                     0                                                                                                                     0]\n",
       "[                                     -a^2*(4*a^2/(3*a^2 - 1) - (2*a^2 + 1)/(3*a^2 - 1))/(3*a^2 - 1) + a^2/(3*a^2 - 1)                                                                                                                     0                                                                                                                     0                                                                                                                     0                                                                                                                     0                                                                                                                     0]\n",
       "[                                                                                                                    0                                                                                                                     0                                                                                                                     0                                                                                                                     0                                                                                                                     0                                                                                                                     0]"
      ]
     },
     "execution_count": 23,
     "metadata": {},
     "output_type": "execute_result"
    }
   ],
   "source": [
    "erreur[(4,0)]"
   ]
  },
  {
   "cell_type": "code",
   "execution_count": null,
   "metadata": {
    "collapsed": true
   },
   "outputs": [],
   "source": []
  },
  {
   "cell_type": "code",
   "execution_count": 38,
   "metadata": {
    "collapsed": false
   },
   "outputs": [
    {
     "data": {
      "text/plain": [
       "(x, y)"
      ]
     },
     "execution_count": 38,
     "metadata": {},
     "output_type": "execute_result"
    }
   ],
   "source": [
    "var('x,y')"
   ]
  },
  {
   "cell_type": "code",
   "execution_count": 39,
   "metadata": {
    "collapsed": false
   },
   "outputs": [
    {
     "data": {
      "image/png": "[encoded data removed]",
      "text/plain": [
       "Graphics object consisting of 1 graphics primitive"
      ]
     },
     "execution_count": 39,
     "metadata": {},
     "output_type": "execute_result"
    }
   ],
   "source": [
    "implicit_plot(5*x^2 + 4*x*y+3*y^2==0, (x,-4,4), (y,-4,4))"
   ]
  },
  {
   "cell_type": "code",
   "execution_count": 40,
   "metadata": {
    "collapsed": true
   },
   "outputs": [],
   "source": [
    "implicit_plot?"
   ]
  },
  {
   "cell_type": "code",
   "execution_count": null,
   "metadata": {
    "collapsed": true
   },
   "outputs": [],
   "source": []
  }
 ],
 "metadata": {
  "kernelspec": {
   "display_name": "SageMath 7.4",
   "language": "",
   "name": "sagemath"
  },
  "language_info": {
   "codemirror_mode": {
    "name": "ipython",
    "version": 2
   },
   "file_extension": ".py",
   "mimetype": "text/x-python",
   "name": "python",
   "nbconvert_exporter": "python",
   "pygments_lexer": "ipython2",
   "version": "2.7.10"
  }
 },
 "nbformat": 4,
 "nbformat_minor": 0
}
