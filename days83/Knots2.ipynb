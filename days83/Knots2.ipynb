{
 "cells": [
  {
   "cell_type": "code",
   "execution_count": 1,
   "metadata": {
    "collapsed": true
   },
   "outputs": [],
   "source": [
    "K = Knot([[[1,-2,3,-1,2,-3]],[1,1,1]])"
   ]
  },
  {
   "cell_type": "code",
   "execution_count": 2,
   "metadata": {
    "collapsed": false
   },
   "outputs": [
    {
     "data": {
      "text/plain": [
       "Knot represented by 3 crossings"
      ]
     },
     "execution_count": 2,
     "metadata": {},
     "output_type": "execute_result"
    }
   ],
   "source": [
    "K"
   ]
  },
  {
   "cell_type": "code",
   "execution_count": 3,
   "metadata": {
    "collapsed": true
   },
   "outputs": [],
   "source": [
    "G = K.fundamental_group()"
   ]
  },
  {
   "cell_type": "code",
   "execution_count": 4,
   "metadata": {
    "collapsed": false
   },
   "outputs": [
    {
     "data": {
      "text/plain": [
       "Finitely presented group < x0, x1, x2 | x2*x1*x2^-1*x0^-1, x1*x0*x1^-1*x2^-1, x0*x2*x0^-1*x1^-1 >"
      ]
     },
     "execution_count": 4,
     "metadata": {},
     "output_type": "execute_result"
    }
   ],
   "source": [
    "G"
   ]
  },
  {
   "cell_type": "code",
   "execution_count": 5,
   "metadata": {
    "collapsed": true
   },
   "outputs": [],
   "source": [
    "S = SymmetricGroup(3)"
   ]
  },
  {
   "cell_type": "code",
   "execution_count": 6,
   "metadata": {
    "collapsed": false
   },
   "outputs": [
    {
     "data": {
      "text/plain": [
       "<fp group on the generators [ x0, x1, x2 ]>"
      ]
     },
     "execution_count": 6,
     "metadata": {},
     "output_type": "execute_result"
    }
   ],
   "source": [
    "Gg = G._gap_()\n",
    "Gg"
   ]
  },
  {
   "cell_type": "code",
   "execution_count": 7,
   "metadata": {
    "collapsed": false
   },
   "outputs": [
    {
     "data": {
      "text/plain": [
       "SymmetricGroup( [ 1 .. 3 ] )"
      ]
     },
     "execution_count": 7,
     "metadata": {},
     "output_type": "execute_result"
    }
   ],
   "source": [
    "Sg = S._gap_()\n",
    "Sg"
   ]
  },
  {
   "cell_type": "code",
   "execution_count": 8,
   "metadata": {
    "collapsed": false
   },
   "outputs": [
    {
     "data": {
      "text/plain": [
       "[ [ x0, x1, x2 ] -> [ (1,3), (2,3), (1,2) ] ]"
      ]
     },
     "execution_count": 8,
     "metadata": {},
     "output_type": "execute_result"
    }
   ],
   "source": [
    "Gg.GQuotients(Sg)"
   ]
  },
  {
   "cell_type": "code",
   "execution_count": 9,
   "metadata": {
    "collapsed": false
   },
   "outputs": [
    {
     "data": {
      "image/png": "[encoded data removed]",
      "text/plain": [
       "Graphics object consisting of 22 graphics primitives"
      ]
     },
     "execution_count": 9,
     "metadata": {},
     "output_type": "execute_result"
    }
   ],
   "source": [
    "B = BraidGroup(3)\n",
    "b = B([1,-2,1,-2])\n",
    "K4 = Knot(b)\n",
    "K4.plot()"
   ]
  },
  {
   "cell_type": "code",
   "execution_count": 10,
   "metadata": {
    "collapsed": true
   },
   "outputs": [],
   "source": [
    "G4 = K4.fundamental_group()\n",
    "G4g = G4._gap_()"
   ]
  },
  {
   "cell_type": "code",
   "execution_count": 11,
   "metadata": {
    "collapsed": false
   },
   "outputs": [
    {
     "data": {
      "text/plain": [
       "[  ]"
      ]
     },
     "execution_count": 11,
     "metadata": {},
     "output_type": "execute_result"
    }
   ],
   "source": [
    "G4g.GQuotients(Sg)"
   ]
  },
  {
   "cell_type": "code",
   "execution_count": 52,
   "metadata": {
    "collapsed": false
   },
   "outputs": [],
   "source": [
    "def colorings(K, n):\n",
    "    gauss_code = K.oriented_gauss_code()\n",
    "    crossing_list=gauss_code[0][0]\n",
    "    negative_indices = [i for i in range(len(crossing_list)) if crossing_list[i]<0]\n",
    "    gens = [crossing_list[negative_indices[i]:negative_indices[i+1]+1] for i in range(len(negative_indices)-1)]\n",
    "    gens.append(crossing_list[negative_indices[-1]:]+crossing_list[:negative_indices[0]+1])\n",
    "    m = len(gens)\n",
    "    M = matrix(IntegerModRing(n), m, m)\n",
    "    for cros in range(len(gauss_code[1])):\n",
    "        gi = [g for g in gens if cros+1 in g][0]\n",
    "        gj = [g for g in gens if -(cros+1)==g[-1]][0]\n",
    "        giind = gens.index(gi)\n",
    "        gjind = gens.index(gj)\n",
    "        gkind = gjind + 1\n",
    "        if gkind >= len(gens):\n",
    "            gkind = 0\n",
    "        M[cros,giind] = 2\n",
    "        M[cros, gjind] = -1\n",
    "        M[cros, gkind] = -1\n",
    "    solutions =  M.kernel().list()\n",
    "    return [s for s in solutions if len(set(s))>1]"
   ]
  },
  {
   "cell_type": "code",
   "execution_count": 53,
   "metadata": {
    "collapsed": false
   },
   "outputs": [
    {
     "data": {
      "text/plain": [
       "[(1, 0, 2), (2, 0, 1), (0, 1, 2), (2, 1, 0), (0, 2, 1), (1, 2, 0)]"
      ]
     },
     "execution_count": 53,
     "metadata": {},
     "output_type": "execute_result"
    }
   ],
   "source": [
    "colorings(K,3)"
   ]
  },
  {
   "cell_type": "code",
   "execution_count": 54,
   "metadata": {
    "collapsed": false
   },
   "outputs": [
    {
     "data": {
      "text/plain": [
       "[(1, 0, 2, 3),\n",
       " (2, 0, 4, 1),\n",
       " (3, 0, 1, 4),\n",
       " (4, 0, 3, 2),\n",
       " (0, 1, 4, 3),\n",
       " (2, 1, 3, 4),\n",
       " (3, 1, 0, 2),\n",
       " (4, 1, 2, 0),\n",
       " (0, 2, 3, 1),\n",
       " (1, 2, 0, 4),\n",
       " (3, 2, 4, 0),\n",
       " (4, 2, 1, 3),\n",
       " (0, 3, 2, 4),\n",
       " (1, 3, 4, 2),\n",
       " (2, 3, 1, 0),\n",
       " (4, 3, 0, 1),\n",
       " (0, 4, 1, 2),\n",
       " (1, 4, 3, 0),\n",
       " (2, 4, 0, 3),\n",
       " (3, 4, 2, 1)]"
      ]
     },
     "execution_count": 54,
     "metadata": {},
     "output_type": "execute_result"
    }
   ],
   "source": [
    "colorings(K4,5)"
   ]
  },
  {
   "cell_type": "code",
   "execution_count": 40,
   "metadata": {
    "collapsed": false
   },
   "outputs": [
    {
     "data": {
      "text/plain": [
       "{0}"
      ]
     },
     "execution_count": 40,
     "metadata": {},
     "output_type": "execute_result"
    }
   ],
   "source": [
    "set(_[0])"
   ]
  },
  {
   "cell_type": "code",
   "execution_count": null,
   "metadata": {
    "collapsed": true
   },
   "outputs": [],
   "source": []
  },
  {
   "cell_type": "code",
   "execution_count": 30,
   "metadata": {
    "collapsed": false
   },
   "outputs": [
    {
     "data": {
      "text/plain": [
       "0"
      ]
     },
     "execution_count": 30,
     "metadata": {},
     "output_type": "execute_result"
    }
   ],
   "source": [
    "colorings(K4,3)"
   ]
  },
  {
   "cell_type": "code",
   "execution_count": 31,
   "metadata": {
    "collapsed": false
   },
   "outputs": [
    {
     "data": {
      "text/plain": [
       "1"
      ]
     },
     "execution_count": 31,
     "metadata": {},
     "output_type": "execute_result"
    }
   ],
   "source": [
    "colorings(K4,5)"
   ]
  },
  {
   "cell_type": "code",
   "execution_count": null,
   "metadata": {
    "collapsed": true
   },
   "outputs": [],
   "source": []
  },
  {
   "cell_type": "code",
   "execution_count": null,
   "metadata": {
    "collapsed": true
   },
   "outputs": [],
   "source": []
  },
  {
   "cell_type": "code",
   "execution_count": null,
   "metadata": {
    "collapsed": true
   },
   "outputs": [],
   "source": []
  },
  {
   "cell_type": "code",
   "execution_count": 23,
   "metadata": {
    "collapsed": false
   },
   "outputs": [
    {
     "data": {
      "text/plain": [
       "[4 4 0 2]\n",
       "[4 0 2 4]\n",
       "[0 2 4 4]\n",
       "[2 4 4 0]"
      ]
     },
     "execution_count": 23,
     "metadata": {},
     "output_type": "execute_result"
    }
   ],
   "source": [
    "M = is_coloreable(K4,5)\n",
    "M"
   ]
  },
  {
   "cell_type": "code",
   "execution_count": 24,
   "metadata": {
    "collapsed": false
   },
   "outputs": [
    {
     "data": {
      "text/plain": [
       "0"
      ]
     },
     "execution_count": 24,
     "metadata": {},
     "output_type": "execute_result"
    }
   ],
   "source": [
    "M.delete_columns([0]).delete_rows([0]).determinant()"
   ]
  },
  {
   "cell_type": "code",
   "execution_count": 25,
   "metadata": {
    "collapsed": false
   },
   "outputs": [
    {
     "data": {
      "text/plain": [
       "2"
      ]
     },
     "execution_count": 25,
     "metadata": {},
     "output_type": "execute_result"
    }
   ],
   "source": [
    "M.nullity()"
   ]
  },
  {
   "cell_type": "code",
   "execution_count": 32,
   "metadata": {
    "collapsed": false
   },
   "outputs": [
    {
     "data": {
      "text/plain": [
       "[4 4 0 2]\n",
       "[4 0 2 4]\n",
       "[0 2 4 4]\n",
       "[2 4 4 0]"
      ]
     },
     "execution_count": 32,
     "metadata": {},
     "output_type": "execute_result"
    }
   ],
   "source": [
    "M"
   ]
  },
  {
   "cell_type": "code",
   "execution_count": 33,
   "metadata": {
    "collapsed": false
   },
   "outputs": [
    {
     "data": {
      "text/plain": [
       "Vector space of degree 4 and dimension 2 over Ring of integers modulo 5\n",
       "Basis matrix:\n",
       "[1 0 2 3]\n",
       "[0 1 4 3]"
      ]
     },
     "execution_count": 33,
     "metadata": {},
     "output_type": "execute_result"
    }
   ],
   "source": [
    "M.kernel()"
   ]
  },
  {
   "cell_type": "code",
   "execution_count": 34,
   "metadata": {
    "collapsed": false
   },
   "outputs": [
    {
     "data": {
      "text/plain": [
       "[(0, 0, 0, 0),\n",
       " (1, 0, 2, 3),\n",
       " (2, 0, 4, 1),\n",
       " (3, 0, 1, 4),\n",
       " (4, 0, 3, 2),\n",
       " (0, 1, 4, 3),\n",
       " (1, 1, 1, 1),\n",
       " (2, 1, 3, 4),\n",
       " (3, 1, 0, 2),\n",
       " (4, 1, 2, 0),\n",
       " (0, 2, 3, 1),\n",
       " (1, 2, 0, 4),\n",
       " (2, 2, 2, 2),\n",
       " (3, 2, 4, 0),\n",
       " (4, 2, 1, 3),\n",
       " (0, 3, 2, 4),\n",
       " (1, 3, 4, 2),\n",
       " (2, 3, 1, 0),\n",
       " (3, 3, 3, 3),\n",
       " (4, 3, 0, 1),\n",
       " (0, 4, 1, 2),\n",
       " (1, 4, 3, 0),\n",
       " (2, 4, 0, 3),\n",
       " (3, 4, 2, 1),\n",
       " (4, 4, 4, 4)]"
      ]
     },
     "execution_count": 34,
     "metadata": {},
     "output_type": "execute_result"
    }
   ],
   "source": [
    "_.list()"
   ]
  },
  {
   "cell_type": "code",
   "execution_count": 55,
   "metadata": {
    "collapsed": true
   },
   "outputs": [],
   "source": [
    "G = Graph()"
   ]
  },
  {
   "cell_type": "code",
   "execution_count": 56,
   "metadata": {
    "collapsed": true
   },
   "outputs": [],
   "source": [
    "G.characteristic_polynomial?"
   ]
  },
  {
   "cell_type": "code",
   "execution_count": null,
   "metadata": {
    "collapsed": true
   },
   "outputs": [],
   "source": []
  }
 ],
 "metadata": {
  "kernelspec": {
   "display_name": "SageMath 7.3",
   "language": "",
   "name": "sagemath"
  },
  "language_info": {
   "codemirror_mode": {
    "name": "ipython",
    "version": 2
   },
   "file_extension": ".py",
   "mimetype": "text/x-python",
   "name": "python",
   "nbconvert_exporter": "python",
   "pygments_lexer": "ipython2",
   "version": "2.7.10"
  }
 },
 "nbformat": 4,
 "nbformat_minor": 0
}
