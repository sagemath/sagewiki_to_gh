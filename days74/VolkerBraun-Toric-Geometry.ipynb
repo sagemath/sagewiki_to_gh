{
 "cells": [
  {
   "cell_type": "markdown",
   "metadata": {},
   "source": [
    "Toric Geometry in Sage\n",
    "======================\n",
    "\n",
    "Generalization of projective space, for example $\\mathbb{P}^2$"
   ]
  },
  {
   "cell_type": "code",
   "execution_count": 258,
   "metadata": {
    "collapsed": true
   },
   "outputs": [],
   "source": [
    "P2.<x,y,z> = toric_varieties.P2()"
   ]
  },
  {
   "cell_type": "code",
   "execution_count": 259,
   "metadata": {
    "collapsed": false,
    "scrolled": false
   },
   "outputs": [
    {
     "data": {
      "image/png": "[encoded data removed]",
      "text/plain": [
       "Graphics object consisting of 16 graphics primitives"
      ]
     },
     "execution_count": 259,
     "metadata": {},
     "output_type": "execute_result"
    }
   ],
   "source": [
    "Sigma = P2.fan()\n",
    "Sigma.plot()"
   ]
  },
  {
   "cell_type": "markdown",
   "metadata": {},
   "source": [
    "Homogeneous coordinate ring\n",
    "---------------------------\n",
    "\n",
    "There is a homogeneous coordinate associated to each ray (1-d cone) of the fan, in this order:"
   ]
  },
  {
   "cell_type": "code",
   "execution_count": 260,
   "metadata": {
    "collapsed": false
   },
   "outputs": [
    {
     "data": {
      "text/plain": [
       "Multivariate Polynomial Ring in x, y, z over Rational Field"
      ]
     },
     "execution_count": 260,
     "metadata": {},
     "output_type": "execute_result"
    }
   ],
   "source": [
    "P2.coordinate_ring()"
   ]
  },
  {
   "cell_type": "code",
   "execution_count": 261,
   "metadata": {
    "collapsed": false
   },
   "outputs": [
    {
     "data": {
      "text/plain": [
       "(1-d cone of Rational polyhedral fan in 2-d lattice N,\n",
       " 1-d cone of Rational polyhedral fan in 2-d lattice N,\n",
       " 1-d cone of Rational polyhedral fan in 2-d lattice N)"
      ]
     },
     "execution_count": 261,
     "metadata": {},
     "output_type": "execute_result"
    }
   ],
   "source": [
    "Sigma(1)"
   ]
  },
  {
   "cell_type": "markdown",
   "metadata": {},
   "source": [
    "Homogeneous rescalings are encoded in the linear relations between the rays"
   ]
  },
  {
   "cell_type": "code",
   "execution_count": 262,
   "metadata": {
    "collapsed": false
   },
   "outputs": [
    {
     "data": {
      "text/plain": [
       "N( 1,  0),\n",
       "N( 0,  1),\n",
       "N(-1, -1)\n",
       "in 2-d lattice N"
      ]
     },
     "execution_count": 262,
     "metadata": {},
     "output_type": "execute_result"
    }
   ],
   "source": [
    "Sigma.rays()"
   ]
  },
  {
   "cell_type": "code",
   "execution_count": null,
   "metadata": {
    "collapsed": false
   },
   "outputs": [],
   "source": [
    "u0, u1, u2 = Sigma.rays()\n",
    "u0 + u1 + u2"
   ]
  },
  {
   "cell_type": "markdown",
   "metadata": {},
   "source": [
    "This corresponds to the homogenous rescaling $[x:y:z] = [\\lambda x: \\lambda y:\\lambda z]$ "
   ]
  },
  {
   "cell_type": "code",
   "execution_count": 263,
   "metadata": {
    "collapsed": false
   },
   "outputs": [
    {
     "data": {
      "text/plain": [
       "[2 : 2 : 2]"
      ]
     },
     "execution_count": 263,
     "metadata": {},
     "output_type": "execute_result"
    }
   ],
   "source": [
    "P2(2,2,2)"
   ]
  },
  {
   "cell_type": "markdown",
   "metadata": {},
   "source": [
    "Points can be iterated over... lots of counting fun over finite fields can be had:"
   ]
  },
  {
   "cell_type": "code",
   "execution_count": 264,
   "metadata": {
    "collapsed": false
   },
   "outputs": [
    {
     "data": {
      "text/plain": [
       "[[0 : 1 : 1],\n",
       " [1 : 1 : 1],\n",
       " [-1 : 1 : 1],\n",
       " [1/2 : 1 : 1],\n",
       " [-1/2 : 1 : 1],\n",
       " [2 : 1 : 1],\n",
       " [-2 : 1 : 1],\n",
       " [1/3 : 1 : 1],\n",
       " [-1/3 : 1 : 1],\n",
       " [3 : 1 : 1]]"
      ]
     },
     "execution_count": 264,
     "metadata": {},
     "output_type": "execute_result"
    }
   ],
   "source": [
    "P2points = iter(P2.point_set())\n",
    "[P2points.next() for i in range(10)]"
   ]
  },
  {
   "cell_type": "code",
   "execution_count": 265,
   "metadata": {
    "collapsed": false
   },
   "outputs": [
    {
     "data": {
      "text/plain": [
       "31"
      ]
     },
     "execution_count": 265,
     "metadata": {},
     "output_type": "execute_result"
    }
   ],
   "source": [
    "P2.change_ring(GF(5)).count_points()"
   ]
  },
  {
   "cell_type": "code",
   "execution_count": 267,
   "metadata": {
    "collapsed": false
   },
   "outputs": [
    {
     "data": {
      "text/plain": [
       "([0 : 0 : 1],\n",
       " [1 : 0 : 0],\n",
       " [0 : 1 : 0],\n",
       " [0 : 1 : 1],\n",
       " [0 : 1 : 2],\n",
       " [0 : 1 : 4],\n",
       " [0 : 1 : 3],\n",
       " [1 : 0 : 1],\n",
       " [1 : 0 : 2],\n",
       " [1 : 0 : 4],\n",
       " [1 : 0 : 3],\n",
       " [1 : 1 : 0],\n",
       " [1 : 2 : 0],\n",
       " [1 : 4 : 0],\n",
       " [1 : 3 : 0],\n",
       " [1 : 1 : 1],\n",
       " [1 : 2 : 1],\n",
       " [1 : 4 : 1],\n",
       " [1 : 3 : 1],\n",
       " [1 : 1 : 2],\n",
       " [1 : 2 : 2],\n",
       " [1 : 4 : 2],\n",
       " [1 : 3 : 2],\n",
       " [1 : 1 : 4],\n",
       " [1 : 2 : 4],\n",
       " [1 : 4 : 4],\n",
       " [1 : 3 : 4],\n",
       " [1 : 1 : 3],\n",
       " [1 : 2 : 3],\n",
       " [1 : 4 : 3],\n",
       " [1 : 3 : 3])"
      ]
     },
     "execution_count": 267,
     "metadata": {},
     "output_type": "execute_result"
    }
   ],
   "source": [
    "P2.change_ring(GF(5)).point_set().list()"
   ]
  },
  {
   "cell_type": "code",
   "execution_count": null,
   "metadata": {
    "collapsed": true
   },
   "outputs": [],
   "source": []
  },
  {
   "cell_type": "code",
   "execution_count": null,
   "metadata": {
    "collapsed": false
   },
   "outputs": [],
   "source": [
    "Cone([(1,0), (0,1)])"
   ]
  },
  {
   "cell_type": "markdown",
   "metadata": {},
   "source": [
    "Coordinate patches"
   ]
  },
  {
   "cell_type": "code",
   "execution_count": 268,
   "metadata": {
    "collapsed": false
   },
   "outputs": [
    {
     "data": {
      "text/plain": [
       "N(1, 0),\n",
       "N(0, 1)\n",
       "in 2-d lattice N"
      ]
     },
     "execution_count": 268,
     "metadata": {},
     "output_type": "execute_result"
    }
   ],
   "source": [
    "patch = P2.affine_patch(0);  patch.fan().rays()"
   ]
  },
  {
   "cell_type": "code",
   "execution_count": 269,
   "metadata": {
    "collapsed": false
   },
   "outputs": [
    {
     "data": {
      "text/plain": [
       "Scheme morphism:\n",
       "  From: 2-d affine toric variety\n",
       "  To:   2-d CPR-Fano toric variety covered by 3 affine patches\n",
       "  Defn: Defined on coordinates by sending [x : y] to\n",
       "        [x : y : 1]"
      ]
     },
     "execution_count": 269,
     "metadata": {},
     "output_type": "execute_result"
    }
   ],
   "source": [
    "patch.embedding_morphism()"
   ]
  },
  {
   "cell_type": "markdown",
   "metadata": {},
   "source": [
    "Compactification\n",
    "----------------\n",
    "\n",
    "So far, we only talked about the open $\\mathbb{C}^n$; The higher-dimensional cones determine the compactification: Homogeneous coordinates can vanish simultaneously if and only if they span a cone of the fan. The forbidden set is"
   ]
  },
  {
   "cell_type": "code",
   "execution_count": 270,
   "metadata": {
    "collapsed": false
   },
   "outputs": [
    {
     "data": {
      "text/plain": [
       "Ideal (x*y*z) of Multivariate Polynomial Ring in x, y, z over Rational Field"
      ]
     },
     "execution_count": 270,
     "metadata": {},
     "output_type": "execute_result"
    }
   ],
   "source": [
    "P2.Stanley_Reisner_ideal()"
   ]
  },
  {
   "cell_type": "markdown",
   "metadata": {},
   "source": [
    "Singularities\n",
    "-------------\n",
    "\n",
    "Interesting varieties are usually not smooth:"
   ]
  },
  {
   "cell_type": "code",
   "execution_count": 271,
   "metadata": {
    "collapsed": false
   },
   "outputs": [
    {
     "data": {
      "text/plain": [
       "True"
      ]
     },
     "execution_count": 271,
     "metadata": {},
     "output_type": "execute_result"
    }
   ],
   "source": [
    "P2.is_smooth()"
   ]
  },
  {
   "cell_type": "code",
   "execution_count": 272,
   "metadata": {
    "collapsed": true
   },
   "outputs": [],
   "source": [
    "A2Z2.<x,y> = toric_varieties.A2_Z2()"
   ]
  },
  {
   "cell_type": "code",
   "execution_count": 273,
   "metadata": {
    "collapsed": false
   },
   "outputs": [
    {
     "data": {
      "image/png": "[encoded data removed]",
      "text/plain": [
       "Graphics object consisting of 9 graphics primitives"
      ]
     },
     "execution_count": 273,
     "metadata": {},
     "output_type": "execute_result"
    }
   ],
   "source": [
    "Sigma = A2Z2.fan()\n",
    "Sigma.plot()"
   ]
  },
  {
   "cell_type": "code",
   "execution_count": 274,
   "metadata": {
    "collapsed": false
   },
   "outputs": [
    {
     "data": {
      "text/plain": [
       "False"
      ]
     },
     "execution_count": 274,
     "metadata": {},
     "output_type": "execute_result"
    }
   ],
   "source": [
    "cone2 = Sigma(2)[0]\n",
    "cone2.is_smooth()"
   ]
  },
  {
   "cell_type": "code",
   "execution_count": 275,
   "metadata": {
    "collapsed": false
   },
   "outputs": [
    {
     "data": {
      "text/plain": [
       "False"
      ]
     },
     "execution_count": 275,
     "metadata": {},
     "output_type": "execute_result"
    }
   ],
   "source": [
    "A2Z2.is_smooth()"
   ]
  },
  {
   "cell_type": "markdown",
   "metadata": {},
   "source": [
    "I lied a bit in the definition of the homogenous rescalings; Really its rescaling by $Hom(A_1, \\mathbb{C}^\\times)$:"
   ]
  },
  {
   "cell_type": "code",
   "execution_count": 276,
   "metadata": {
    "collapsed": false
   },
   "outputs": [
    {
     "data": {
      "text/plain": [
       "C2"
      ]
     },
     "execution_count": 276,
     "metadata": {},
     "output_type": "execute_result"
    }
   ],
   "source": [
    "AA = A2Z2.Chow_group()\n",
    "AA.degree(1)"
   ]
  },
  {
   "cell_type": "code",
   "execution_count": 277,
   "metadata": {
    "collapsed": false
   },
   "outputs": [
    {
     "data": {
      "text/plain": [
       "((| 1 mod 2 | 0 ), (| 0 mod 2 | 1 ))"
      ]
     },
     "execution_count": 277,
     "metadata": {},
     "output_type": "execute_result"
    }
   ],
   "source": [
    "AA.gens()"
   ]
  },
  {
   "cell_type": "code",
   "execution_count": 278,
   "metadata": {
    "collapsed": false
   },
   "outputs": [
    {
     "data": {
      "text/plain": [
       "Free module of degree 4 and rank 3 over Integer Ring\n",
       "Echelon basis matrix:\n",
       "[0 1 1 0]\n",
       "[0 0 2 0]\n",
       "[0 0 0 1]"
      ]
     },
     "execution_count": 278,
     "metadata": {},
     "output_type": "execute_result"
    }
   ],
   "source": [
    "AA.relations()"
   ]
  },
  {
   "cell_type": "markdown",
   "metadata": {},
   "source": [
    "Singularity comes from the rays of the cone not spanning the lattice"
   ]
  },
  {
   "cell_type": "code",
   "execution_count": 279,
   "metadata": {
    "collapsed": false
   },
   "outputs": [
    {
     "data": {
      "text/plain": [
       "2"
      ]
     },
     "execution_count": 279,
     "metadata": {},
     "output_type": "execute_result"
    }
   ],
   "source": [
    "cone2.span().index_in_saturation()"
   ]
  },
  {
   "cell_type": "markdown",
   "metadata": {},
   "source": [
    "Resolution of singularities\n",
    "---------------------------\n",
    "\n",
    "Toric geometry is functor from fans & fan morphisms to toric varieties & toric morphisms"
   ]
  },
  {
   "cell_type": "code",
   "execution_count": 280,
   "metadata": {
    "collapsed": false
   },
   "outputs": [],
   "source": [
    "Sigma = Fan(cones=[[0, 1]], rays=[(1, 0), (0, 1)])\n",
    "SigmaPrime = Sigma.subdivide(new_rays=[(1,1)])"
   ]
  },
  {
   "cell_type": "code",
   "execution_count": 281,
   "metadata": {
    "collapsed": false
   },
   "outputs": [
    {
     "data": {
      "image/png": "[encoded data removed]",
      "text/plain": [
       "Graphics Array of size 1 x 2"
      ]
     },
     "execution_count": 281,
     "metadata": {},
     "output_type": "execute_result"
    }
   ],
   "source": [
    "graphics_array([SigmaPrime.plot(), Sigma.plot()])"
   ]
  },
  {
   "cell_type": "code",
   "execution_count": 282,
   "metadata": {
    "collapsed": false
   },
   "outputs": [
    {
     "data": {
      "text/plain": [
       "Fan morphism defined by the matrix\n",
       "[1 0]\n",
       "[0 1]\n",
       "Domain fan: Rational polyhedral fan in 2-d lattice N\n",
       "Codomain fan: Rational polyhedral fan in 2-d lattice N"
      ]
     },
     "execution_count": 282,
     "metadata": {},
     "output_type": "execute_result"
    }
   ],
   "source": [
    "fm = FanMorphism(\n",
    "    identity_matrix(2), \n",
    "    domain_fan=SigmaPrime, \n",
    "    codomain=Sigma\n",
    ");  fm"
   ]
  },
  {
   "cell_type": "code",
   "execution_count": 283,
   "metadata": {
    "collapsed": false
   },
   "outputs": [],
   "source": [
    "X = ToricVariety(Sigma)\n",
    "Xprime = ToricVariety(SigmaPrime)\n",
    "f = Xprime.hom(fm, X)"
   ]
  },
  {
   "cell_type": "code",
   "execution_count": 284,
   "metadata": {
    "collapsed": false
   },
   "outputs": [
    {
     "data": {
      "text/plain": [
       "Scheme morphism:\n",
       "  From: 2-d toric variety covered by 2 affine patches\n",
       "  To:   2-d affine toric variety\n",
       "  Defn: Defined by sending Rational polyhedral fan in 2-d lattice N to Rational polyhedral fan in 2-d lattice N."
      ]
     },
     "execution_count": 284,
     "metadata": {},
     "output_type": "execute_result"
    }
   ],
   "source": [
    "f"
   ]
  },
  {
   "cell_type": "code",
   "execution_count": 285,
   "metadata": {
    "collapsed": false
   },
   "outputs": [
    {
     "data": {
      "text/plain": [
       "Scheme morphism:\n",
       "  From: 2-d toric variety covered by 2 affine patches\n",
       "  To:   2-d affine toric variety\n",
       "  Defn: Defined on coordinates by sending [z0 : z1 : z2] to\n",
       "        [z0*z2 : z1*z2]"
      ]
     },
     "execution_count": 285,
     "metadata": {},
     "output_type": "execute_result"
    }
   ],
   "source": [
    "f.as_polynomial_map()"
   ]
  },
  {
   "cell_type": "markdown",
   "metadata": {},
   "source": [
    "Subdivision is not unique; Different subdivisions are different resolutions "
   ]
  },
  {
   "cell_type": "code",
   "execution_count": 286,
   "metadata": {
    "collapsed": false,
    "scrolled": false
   },
   "outputs": [
    {
     "data": {
      "text/html": [
       "\n",
       "<iframe srcdoc=\"\n",
       "<html>\n",
       "<head>\n",
       "  <style>\n",
       "    * {\n",
       "      margin: 0;\n",
       "      padding: 0;\n",
       "      overflow: hidden;\n",
       "    }\n",
       "    body, html {      \n",
       "      height: 100%;\n",
       "      width: 100%;\n",
       "    }\n",
       "  </style>\n",
       "  <script type=&quot;text/javascript&quot; src=&quot;/nbextensions/jsmol/JSmol.min.js&quot;></script>\n",
       "</head>\n",
       "<body>\n",
       "  <script type=&quot;text/javascript&quot;>\n",
       "    var script = [\n",
       "  'data &quot;model list&quot;',\n",
       "  '10',\n",
       "  'empty',\n",
       "  'Xx 0.0 0.0 3.0',\n",
       "  'Xx 0.0 2.33808535137 2.03153333748',\n",
       "  'Xx 2.33808535137 0.0 2.03153333748',\n",
       "  'Xx 1.90903869531 1.90903869531 1.60248668142',\n",
       "  'Xx 0.0 0.708510712536 1.4039441574',\n",
       "  'Xx 0.708510712536 0.0 1.4039441574',\n",
       "  'Xx 0.578496574337 1.28700728687 0.98045527298',\n",
       "  'Xx 0.578496574337 0.578496574337 1.2739300192',\n",
       "  'Xx 1.28700728687 0.578496574337 0.98045527298',\n",
       "  'Xx 5.5 5.5 5.5',\n",
       "  'end &quot;model list&quot;; show data',\n",
       "  'select *',\n",
       "  'wireframe off; spacefill off',\n",
       "  'set labelOffset 0 0',\n",
       "  'background [255,255,255]',\n",
       "  'spin OFF',\n",
       "  'moveto 0 -764 -346 -545 76.39',\n",
       "  'centerAt absolute {0 0 0}',\n",
       "  'zoom 100',\n",
       "  'frank OFF',\n",
       "  'set perspectivedepth ON',\n",
       "  'draw point_1 DIAMETER 10 {-2.69344798611 -1.34672399305 -0.306552013894}',\n",
       "  'color $point_1  [0,0,0]',\n",
       "  'draw point_2 DIAMETER 10 {-2.69344798611 0.0 -1.65327600695}',\n",
       "  'color $point_2  [0,0,0]',\n",
       "  'draw point_3 DIAMETER 10 {-2.69344798611 0.0 -0.306552013894}',\n",
       "  'color $point_3  [0,0,0]',\n",
       "  'draw point_4 DIAMETER 10 {-2.69344798611 0.0 1.04017197916}',\n",
       "  'color $point_4  [0,0,0]',\n",
       "  'draw point_5 DIAMETER 10 {-2.69344798611 1.34672399305 -0.306552013894}',\n",
       "  'color $point_5  [0,0,0]',\n",
       "  'draw point_6 DIAMETER 10 {-1.34672399305 -2.69344798611 -0.306552013894}',\n",
       "  'color $point_6  [0,0,0]',\n",
       "  'draw point_7 DIAMETER 10 {-1.34672399305 -1.34672399305 -1.65327600695}',\n",
       "  'color $point_7  [0,0,0]',\n",
       "  'draw point_8 DIAMETER 10 {-1.34672399305 -1.34672399305 -0.306552013894}',\n",
       "  'color $point_8  [0,0,0]',\n",
       "  'draw point_9 DIAMETER 10 {-1.34672399305 -1.34672399305 1.04017197916}',\n",
       "  'color $point_9  [0,0,0]',\n",
       "  'draw point_10 DIAMETER 10 {-1.34672399305 0.0 -3.0}',\n",
       "  'color $point_10  [0,0,0]',\n",
       "  'draw point_11 DIAMETER 10 {-1.34672399305 0.0 -1.65327600695}',\n",
       "  'color $point_11  [0,0,0]',\n",
       "  'draw point_12 DIAMETER 10 {-1.34672399305 0.0 -0.306552013894}',\n",
       "  'color $point_12  [0,0,0]',\n",
       "  'draw point_13 DIAMETER 10 {-1.34672399305 0.0 1.04017197916}',\n",
       "  'color $point_13  [0,0,0]',\n",
       "  'draw point_14 DIAMETER 10 {-1.34672399305 0.0 2.38689597221}',\n",
       "  'color $point_14  [0,0,0]',\n",
       "  'draw point_15 DIAMETER 10 {-1.34672399305 1.34672399305 -1.65327600695}',\n",
       "  'color $point_15  [0,0,0]',\n",
       "  'draw point_16 DIAMETER 10 {-1.34672399305 1.34672399305 -0.306552013894}',\n",
       "  'color $point_16  [0,0,0]',\n",
       "  'draw point_17 DIAMETER 10 {-1.34672399305 1.34672399305 1.04017197916}',\n",
       "  'color $point_17  [0,0,0]',\n",
       "  'draw point_18 DIAMETER 10 {-1.34672399305 2.69344798611 -0.306552013894}',\n",
       "  'color $point_18  [0,0,0]',\n",
       "  'draw point_19 DIAMETER 10 {0.0 -2.69344798611 -1.65327600695}',\n",
       "  'color $point_19  [0,0,0]',\n",
       "  'draw point_20 DIAMETER 10 {0.0 -2.69344798611 -0.306552013894}',\n",
       "  'color $point_20  [0,0,0]',\n",
       "  'draw point_21 DIAMETER 10 {0.0 -2.69344798611 1.04017197916}',\n",
       "  'color $point_21  [0,0,0]',\n",
       "  'draw point_22 DIAMETER 10 {0.0 -1.34672399305 -3.0}',\n",
       "  'color $point_22  [0,0,0]',\n",
       "  'draw point_23 DIAMETER 10 {0.0 -1.34672399305 -1.65327600695}',\n",
       "  'color $point_23  [0,0,0]',\n",
       "  'draw point_24 DIAMETER 10 {0.0 -1.34672399305 -0.306552013894}',\n",
       "  'color $point_24  [0,0,0]',\n",
       "  'draw point_25 DIAMETER 10 {0.0 -1.34672399305 1.04017197916}',\n",
       "  'color $point_25  [0,0,0]',\n",
       "  'draw point_26 DIAMETER 10 {0.0 -1.34672399305 2.38689597221}',\n",
       "  'color $point_26  [0,0,0]',\n",
       "  'draw point_27 DIAMETER 10 {0.0 0.0 -3.0}',\n",
       "  'color $point_27  [0,0,0]',\n",
       "  'draw point_28 DIAMETER 10 {0.0 0.0 -1.65327600695}',\n",
       "  'color $point_28  [0,0,0]',\n",
       "  'draw point_29 DIAMETER 10 {0.0 0.0 -0.306552013894}',\n",
       "  'color $point_29  [0,0,0]',\n",
       "  'draw point_30 DIAMETER 10 {0.0 0.0 1.04017197916}',\n",
       "  'color $point_30  [0,0,0]',\n",
       "  'draw point_31 DIAMETER 10 {0.0 0.0 2.38689597221}',\n",
       "  'color $point_31  [0,0,0]',\n",
       "  'draw point_32 DIAMETER 10 {0.0 1.34672399305 -3.0}',\n",
       "  'color $point_32  [0,0,0]',\n",
       "  'draw point_33 DIAMETER 10 {0.0 1.34672399305 -1.65327600695}',\n",
       "  'color $point_33  [0,0,0]',\n",
       "  'draw point_34 DIAMETER 10 {0.0 1.34672399305 -0.306552013894}',\n",
       "  'color $point_34  [0,0,0]',\n",
       "  'draw point_35 DIAMETER 10 {0.0 1.34672399305 1.04017197916}',\n",
       "  'color $point_35  [0,0,0]',\n",
       "  'draw point_36 DIAMETER 10 {0.0 1.34672399305 2.38689597221}',\n",
       "  'color $point_36  [0,0,0]',\n",
       "  'draw point_37 DIAMETER 10 {0.0 2.69344798611 -1.65327600695}',\n",
       "  'color $point_37  [0,0,0]',\n",
       "  'draw point_38 DIAMETER 10 {0.0 2.69344798611 -0.306552013894}',\n",
       "  'color $point_38  [0,0,0]',\n",
       "  'draw point_39 DIAMETER 10 {0.0 2.69344798611 1.04017197916}',\n",
       "  'color $point_39  [0,0,0]',\n",
       "  'draw point_40 DIAMETER 10 {1.34672399305 -2.69344798611 -0.306552013894}',\n",
       "  'color $point_40  [0,0,0]',\n",
       "  'draw point_41 DIAMETER 10 {1.34672399305 -1.34672399305 -1.65327600695}',\n",
       "  'color $point_41  [0,0,0]',\n",
       "  'draw point_42 DIAMETER 10 {1.34672399305 -1.34672399305 -0.306552013894}',\n",
       "  'color $point_42  [0,0,0]',\n",
       "  'draw point_43 DIAMETER 10 {1.34672399305 -1.34672399305 1.04017197916}',\n",
       "  'color $point_43  [0,0,0]',\n",
       "  'draw point_44 DIAMETER 10 {1.34672399305 0.0 -3.0}',\n",
       "  'color $point_44  [0,0,0]',\n",
       "  'draw point_45 DIAMETER 10 {1.34672399305 0.0 -1.65327600695}',\n",
       "  'color $point_45  [0,0,0]',\n",
       "  'draw point_46 DIAMETER 10 {1.34672399305 0.0 -0.306552013894}',\n",
       "  'color $point_46  [0,0,0]',\n",
       "  'draw point_47 DIAMETER 10 {1.34672399305 0.0 1.04017197916}',\n",
       "  'color $point_47  [0,0,0]',\n",
       "  'draw point_48 DIAMETER 10 {1.34672399305 0.0 2.38689597221}',\n",
       "  'color $point_48  [0,0,0]',\n",
       "  'draw point_49 DIAMETER 10 {1.34672399305 1.34672399305 -1.65327600695}',\n",
       "  'color $point_49  [0,0,0]',\n",
       "  'draw point_50 DIAMETER 10 {1.34672399305 1.34672399305 -0.306552013894}',\n",
       "  'color $point_50  [0,0,0]',\n",
       "  'draw point_51 DIAMETER 10 {1.34672399305 1.34672399305 1.04017197916}',\n",
       "  'color $point_51  [0,0,0]',\n",
       "  'draw point_52 DIAMETER 10 {1.34672399305 2.69344798611 -0.306552013894}',\n",
       "  'color $point_52  [0,0,0]',\n",
       "  'draw point_53 DIAMETER 10 {2.69344798611 -1.34672399305 -0.306552013894}',\n",
       "  'color $point_53  [0,0,0]',\n",
       "  'draw point_54 DIAMETER 10 {2.69344798611 0.0 -1.65327600695}',\n",
       "  'color $point_54  [0,0,0]',\n",
       "  'draw point_55 DIAMETER 10 {2.69344798611 0.0 -0.306552013894}',\n",
       "  'color $point_55  [0,0,0]',\n",
       "  'draw point_56 DIAMETER 10 {2.69344798611 0.0 1.04017197916}',\n",
       "  'color $point_56  [0,0,0]',\n",
       "  'draw point_57 DIAMETER 10 {2.69344798611 1.34672399305 -0.306552013894}',\n",
       "  'color $point_57  [0,0,0]',\n",
       "  'draw line_58 diameter 3 curve {0.0 0.0 -0.306552013894}  {0.0 0.0 2.69940436237} ',\n",
       "  'color $line_58  [128,0,128]',\n",
       "  'draw line_59 diameter 3 curve {0.0 0.0 -0.306552013894}  {0.0 2.12553213761 1.81898012372} ',\n",
       "  'color $line_59  [128,0,128]',\n",
       "  'draw line_60 diameter 3 curve {0.0 0.0 -0.306552013894}  {2.12553213761 0.0 1.81898012372} ',\n",
       "  'color $line_60  [128,0,128]',\n",
       "  'draw line_61 diameter 3 curve {0.0 0.0 -0.306552013894}  {1.73548972301 1.73548972301 1.42893770912} ',\n",
       "  'color $line_61  [128,0,128]',\n",
       "  'select atomno = 1',\n",
       "  'color atom  [0,0,0]',\n",
       "  'label &quot;u_0&quot;',\n",
       "  'select atomno = 2',\n",
       "  'color atom  [0,0,0]',\n",
       "  'label &quot;u_1&quot;',\n",
       "  'select atomno = 3',\n",
       "  'color atom  [0,0,0]',\n",
       "  'label &quot;u_2&quot;',\n",
       "  'select atomno = 4',\n",
       "  'color atom  [0,0,0]',\n",
       "  'label &quot;u_3&quot;',\n",
       "  'draw line_62 diameter 3 arrow {0.0 0.0 -0.306552013894}  {0.0 0.0 1.04017197916} ',\n",
       "  'color $line_62  [0,0,255]',\n",
       "  'draw line_63 diameter 3 arrow {0.0 0.0 -0.306552013894}  {0.0 1.34672399305 1.04017197916} ',\n",
       "  'color $line_63  [0,0,255]',\n",
       "  'draw line_64 diameter 3 arrow {0.0 0.0 -0.306552013894}  {1.34672399305 0.0 1.04017197916} ',\n",
       "  'color $line_64  [0,0,255]',\n",
       "  'draw line_65 diameter 3 arrow {0.0 0.0 -0.306552013894}  {1.34672399305 1.34672399305 1.04017197916} ',\n",
       "  'color $line_65  [0,0,255]',\n",
       "  'pmesh obj_66 inline &quot;26',\n",
       "  '0 0 2.6994',\n",
       "  '0 0.0896182 2.69807',\n",
       "  '0 0.181229 2.69394',\n",
       "  '0 0.274635 2.68683',\n",
       "  '0 0.36961 2.67659',\n",
       "  '0 0.465897 2.66308',\n",
       "  '0 0.563213 2.64617',\n",
       "  '0 0.66125 2.62577',\n",
       "  '0 0.75968 2.60183',\n",
       "  '0 0.858158 2.57431',\n",
       "  '0 0.956332 2.54322',\n",
       "  '0 1.05384 2.50862',\n",
       "  '0 1.15033 2.47059',\n",
       "  '0 1.24545 2.42925',\n",
       "  '0 1.33886 2.38477',\n",
       "  '0 1.43026 2.33733',\n",
       "  '0 1.51936 2.28716',\n",
       "  '0 1.60589 2.23449',\n",
       "  '0 1.68964 2.17959',\n",
       "  '0 1.77041 2.12273',\n",
       "  '0 1.84805 2.0642',\n",
       "  '0 1.92245 2.00429',\n",
       "  '0 1.99352 1.94326',\n",
       "  '0 2.06122 1.8814',\n",
       "  '0 2.12553 1.81898',\n",
       "  '0 0 -0.306552',\n",
       "  '24',\n",
       "  '4',\n",
       "  '0',\n",
       "  '1',\n",
       "  '2',\n",
       "  '0',\n",
       "  '4',\n",
       "  '0',\n",
       "  '2',\n",
       "  '3',\n",
       "  '0',\n",
       "  '4',\n",
       "  '0',\n",
       "  '3',\n",
       "  '4',\n",
       "  '0',\n",
       "  '4',\n",
       "  '0',\n",
       "  '4',\n",
       "  '5',\n",
       "  '0',\n",
       "  '4',\n",
       "  '0',\n",
       "  '5',\n",
       "  '6',\n",
       "  '0',\n",
       "  '4',\n",
       "  '0',\n",
       "  '6',\n",
       "  '7',\n",
       "  '0',\n",
       "  '4',\n",
       "  '0',\n",
       "  '7',\n",
       "  '8',\n",
       "  '0',\n",
       "  '4',\n",
       "  '0',\n",
       "  '8',\n",
       "  '9',\n",
       "  '0',\n",
       "  '4',\n",
       "  '0',\n",
       "  '9',\n",
       "  '10',\n",
       "  '0',\n",
       "  '4',\n",
       "  '0',\n",
       "  '10',\n",
       "  '11',\n",
       "  '0',\n",
       "  '4',\n",
       "  '0',\n",
       "  '11',\n",
       "  '12',\n",
       "  '0',\n",
       "  '4',\n",
       "  '0',\n",
       "  '12',\n",
       "  '13',\n",
       "  '0',\n",
       "  '4',\n",
       "  '0',\n",
       "  '13',\n",
       "  '14',\n",
       "  '0',\n",
       "  '4',\n",
       "  '0',\n",
       "  '14',\n",
       "  '15',\n",
       "  '0',\n",
       "  '4',\n",
       "  '0',\n",
       "  '15',\n",
       "  '16',\n",
       "  '0',\n",
       "  '4',\n",
       "  '0',\n",
       "  '16',\n",
       "  '17',\n",
       "  '0',\n",
       "  '4',\n",
       "  '0',\n",
       "  '17',\n",
       "  '18',\n",
       "  '0',\n",
       "  '4',\n",
       "  '0',\n",
       "  '18',\n",
       "  '19',\n",
       "  '0',\n",
       "  '4',\n",
       "  '0',\n",
       "  '19',\n",
       "  '20',\n",
       "  '0',\n",
       "  '4',\n",
       "  '0',\n",
       "  '20',\n",
       "  '21',\n",
       "  '0',\n",
       "  '4',\n",
       "  '0',\n",
       "  '21',\n",
       "  '22',\n",
       "  '0',\n",
       "  '4',\n",
       "  '0',\n",
       "  '22',\n",
       "  '23',\n",
       "  '0',\n",
       "  '4',\n",
       "  '0',\n",
       "  '23',\n",
       "  '24',\n",
       "  '0',\n",
       "  '4',\n",
       "  '0',\n",
       "  '24',\n",
       "  '25',\n",
       "  '0&quot;',\n",
       "  'color pmesh translucent 0.6 [255,0,0]',\n",
       "  'pmesh obj_67 inline &quot;26',\n",
       "  '0 0 2.6994',\n",
       "  '0.0896182 0 2.69807',\n",
       "  '0.181229 0 2.69394',\n",
       "  '0.274635 0 2.68683',\n",
       "  '0.36961 0 2.67659',\n",
       "  '0.465897 0 2.66308',\n",
       "  '0.563213 0 2.64617',\n",
       "  '0.66125 0 2.62577',\n",
       "  '0.75968 0 2.60183',\n",
       "  '0.858158 0 2.57431',\n",
       "  '0.956332 0 2.54322',\n",
       "  '1.05384 0 2.50862',\n",
       "  '1.15033 0 2.47059',\n",
       "  '1.24545 0 2.42925',\n",
       "  '1.33886 0 2.38477',\n",
       "  '1.43026 0 2.33733',\n",
       "  '1.51936 0 2.28716',\n",
       "  '1.60589 0 2.23449',\n",
       "  '1.68964 0 2.17959',\n",
       "  '1.77041 0 2.12273',\n",
       "  '1.84805 0 2.0642',\n",
       "  '1.92245 0 2.00429',\n",
       "  '1.99352 0 1.94326',\n",
       "  '2.06122 0 1.8814',\n",
       "  '2.12553 0 1.81898',\n",
       "  '0 0 -0.306552',\n",
       "  '24',\n",
       "  '4',\n",
       "  '0',\n",
       "  '1',\n",
       "  '2',\n",
       "  '0',\n",
       "  '4',\n",
       "  '0',\n",
       "  '2',\n",
       "  '3',\n",
       "  '0',\n",
       "  '4',\n",
       "  '0',\n",
       "  '3',\n",
       "  '4',\n",
       "  '0',\n",
       "  '4',\n",
       "  '0',\n",
       "  '4',\n",
       "  '5',\n",
       "  '0',\n",
       "  '4',\n",
       "  '0',\n",
       "  '5',\n",
       "  '6',\n",
       "  '0',\n",
       "  '4',\n",
       "  '0',\n",
       "  '6',\n",
       "  '7',\n",
       "  '0',\n",
       "  '4',\n",
       "  '0',\n",
       "  '7',\n",
       "  '8',\n",
       "  '0',\n",
       "  '4',\n",
       "  '0',\n",
       "  '8',\n",
       "  '9',\n",
       "  '0',\n",
       "  '4',\n",
       "  '0',\n",
       "  '9',\n",
       "  '10',\n",
       "  '0',\n",
       "  '4',\n",
       "  '0',\n",
       "  '10',\n",
       "  '11',\n",
       "  '0',\n",
       "  '4',\n",
       "  '0',\n",
       "  '11',\n",
       "  '12',\n",
       "  '0',\n",
       "  '4',\n",
       "  '0',\n",
       "  '12',\n",
       "  '13',\n",
       "  '0',\n",
       "  '4',\n",
       "  '0',\n",
       "  '13',\n",
       "  '14',\n",
       "  '0',\n",
       "  '4',\n",
       "  '0',\n",
       "  '14',\n",
       "  '15',\n",
       "  '0',\n",
       "  '4',\n",
       "  '0',\n",
       "  '15',\n",
       "  '16',\n",
       "  '0',\n",
       "  '4',\n",
       "  '0',\n",
       "  '16',\n",
       "  '17',\n",
       "  '0',\n",
       "  '4',\n",
       "  '0',\n",
       "  '17',\n",
       "  '18',\n",
       "  '0',\n",
       "  '4',\n",
       "  '0',\n",
       "  '18',\n",
       "  '19',\n",
       "  '0',\n",
       "  '4',\n",
       "  '0',\n",
       "  '19',\n",
       "  '20',\n",
       "  '0',\n",
       "  '4',\n",
       "  '0',\n",
       "  '20',\n",
       "  '21',\n",
       "  '0',\n",
       "  '4',\n",
       "  '0',\n",
       "  '21',\n",
       "  '22',\n",
       "  '0',\n",
       "  '4',\n",
       "  '0',\n",
       "  '22',\n",
       "  '23',\n",
       "  '0',\n",
       "  '4',\n",
       "  '0',\n",
       "  '23',\n",
       "  '24',\n",
       "  '0',\n",
       "  '4',\n",
       "  '0',\n",
       "  '24',\n",
       "  '25',\n",
       "  '0&quot;',\n",
       "  'color pmesh translucent 0.6 [203,255,0]',\n",
       "  'pmesh obj_68 inline &quot;21',\n",
       "  '0 2.12553 1.81898',\n",
       "  '0.092189 2.12453 1.81798',\n",
       "  '0.185925 2.12146 1.81491',\n",
       "  '0.280966 2.11623 1.80967',\n",
       "  '0.377047 2.10874 1.80219',\n",
       "  '0.473881 2.09895 1.7924',\n",
       "  '0.571163 2.08681 1.78026',\n",
       "  '0.668575 2.07229 1.76574',\n",
       "  '0.76579 2.0554 1.74885',\n",
       "  '0.862478 2.03616 1.72961',\n",
       "  '0.958309 2.01462 1.70807',\n",
       "  '1.05296 1.99086 1.68431',\n",
       "  '1.14613 1.96496 1.65841',\n",
       "  '1.23752 1.93705 1.6305',\n",
       "  '1.32687 1.90725 1.6007',\n",
       "  '1.41393 1.87571 1.56916',\n",
       "  '1.49848 1.8426 1.53604',\n",
       "  '1.58036 1.80807 1.50152',\n",
       "  '1.6594 1.77231 1.46576',\n",
       "  '1.73549 1.73549 1.42894',\n",
       "  '0 0 -0.306552',\n",
       "  '19',\n",
       "  '4',\n",
       "  '0',\n",
       "  '1',\n",
       "  '2',\n",
       "  '0',\n",
       "  '4',\n",
       "  '0',\n",
       "  '2',\n",
       "  '3',\n",
       "  '0',\n",
       "  '4',\n",
       "  '0',\n",
       "  '3',\n",
       "  '4',\n",
       "  '0',\n",
       "  '4',\n",
       "  '0',\n",
       "  '4',\n",
       "  '5',\n",
       "  '0',\n",
       "  '4',\n",
       "  '0',\n",
       "  '5',\n",
       "  '6',\n",
       "  '0',\n",
       "  '4',\n",
       "  '0',\n",
       "  '6',\n",
       "  '7',\n",
       "  '0',\n",
       "  '4',\n",
       "  '0',\n",
       "  '7',\n",
       "  '8',\n",
       "  '0',\n",
       "  '4',\n",
       "  '0',\n",
       "  '8',\n",
       "  '9',\n",
       "  '0',\n",
       "  '4',\n",
       "  '0',\n",
       "  '9',\n",
       "  '10',\n",
       "  '0',\n",
       "  '4',\n",
       "  '0',\n",
       "  '10',\n",
       "  '11',\n",
       "  '0',\n",
       "  '4',\n",
       "  '0',\n",
       "  '11',\n",
       "  '12',\n",
       "  '0',\n",
       "  '4',\n",
       "  '0',\n",
       "  '12',\n",
       "  '13',\n",
       "  '0',\n",
       "  '4',\n",
       "  '0',\n",
       "  '13',\n",
       "  '14',\n",
       "  '0',\n",
       "  '4',\n",
       "  '0',\n",
       "  '14',\n",
       "  '15',\n",
       "  '0',\n",
       "  '4',\n",
       "  '0',\n",
       "  '15',\n",
       "  '16',\n",
       "  '0',\n",
       "  '4',\n",
       "  '0',\n",
       "  '16',\n",
       "  '17',\n",
       "  '0',\n",
       "  '4',\n",
       "  '0',\n",
       "  '17',\n",
       "  '18',\n",
       "  '0',\n",
       "  '4',\n",
       "  '0',\n",
       "  '18',\n",
       "  '19',\n",
       "  '0',\n",
       "  '4',\n",
       "  '0',\n",
       "  '19',\n",
       "  '20',\n",
       "  '0&quot;',\n",
       "  'color pmesh translucent 0.6 [0,255,102]',\n",
       "  'pmesh obj_69 inline &quot;31',\n",
       "  '0 0 2.6994',\n",
       "  '0.0607048 0.0607048 2.69818',\n",
       "  '0.123076 0.123076 2.69436',\n",
       "  '0.187014 0.187014 2.68775',\n",
       "  '0.252398 0.252398 2.67814',\n",
       "  '0.319083 0.319083 2.66534',\n",
       "  '0.386901 0.386901 2.64919',\n",
       "  '0.455658 0.455658 2.62952',\n",
       "  '0.525142 0.525142 2.60622',\n",
       "  '0.595119 0.595119 2.57918',\n",
       "  '0.665338 0.665338 2.54834',\n",
       "  '0.735536 0.735536 2.51369',\n",
       "  '0.80544 0.80544 2.47523',\n",
       "  '0.874775 0.874775 2.43303',\n",
       "  '0.943265 0.943265 2.3872',\n",
       "  '1.01064 1.01064 2.33787',\n",
       "  '1.07665 1.07665 2.28525',\n",
       "  '1.14104 1.14104 2.22955',\n",
       "  '1.2036 1.2036 2.17104',\n",
       "  '1.26414 1.26414 2.10999',\n",
       "  '1.32249 1.32249 2.04671',\n",
       "  '1.3785 1.3785 1.98152',\n",
       "  '1.43207 1.43207 1.91474',\n",
       "  '1.48312 1.48312 1.8467',\n",
       "  '1.5316 1.5316 1.77772',\n",
       "  '1.57749 1.57749 1.7081',\n",
       "  '1.62079 1.62079 1.63815',\n",
       "  '1.66152 1.66152 1.56814',\n",
       "  '1.69973 1.69973 1.49833',\n",
       "  '1.73549 1.73549 1.42894',\n",
       "  '0 0 -0.306552',\n",
       "  '29',\n",
       "  '4',\n",
       "  '0',\n",
       "  '1',\n",
       "  '2',\n",
       "  '0',\n",
       "  '4',\n",
       "  '0',\n",
       "  '2',\n",
       "  '3',\n",
       "  '0',\n",
       "  '4',\n",
       "  '0',\n",
       "  '3',\n",
       "  '4',\n",
       "  '0',\n",
       "  '4',\n",
       "  '0',\n",
       "  '4',\n",
       "  '5',\n",
       "  '0',\n",
       "  '4',\n",
       "  '0',\n",
       "  '5',\n",
       "  '6',\n",
       "  '0',\n",
       "  '4',\n",
       "  '0',\n",
       "  '6',\n",
       "  '7',\n",
       "  '0',\n",
       "  '4',\n",
       "  '0',\n",
       "  '7',\n",
       "  '8',\n",
       "  '0',\n",
       "  '4',\n",
       "  '0',\n",
       "  '8',\n",
       "  '9',\n",
       "  '0',\n",
       "  '4',\n",
       "  '0',\n",
       "  '9',\n",
       "  '10',\n",
       "  '0',\n",
       "  '4',\n",
       "  '0',\n",
       "  '10',\n",
       "  '11',\n",
       "  '0',\n",
       "  '4',\n",
       "  '0',\n",
       "  '11',\n",
       "  '12',\n",
       "  '0',\n",
       "  '4',\n",
       "  '0',\n",
       "  '12',\n",
       "  '13',\n",
       "  '0',\n",
       "  '4',\n",
       "  '0',\n",
       "  '13',\n",
       "  '14',\n",
       "  '0',\n",
       "  '4',\n",
       "  '0',\n",
       "  '14',\n",
       "  '15',\n",
       "  '0',\n",
       "  '4',\n",
       "  '0',\n",
       "  '15',\n",
       "  '16',\n",
       "  '0',\n",
       "  '4',\n",
       "  '0',\n",
       "  '16',\n",
       "  '17',\n",
       "  '0',\n",
       "  '4',\n",
       "  '0',\n",
       "  '17',\n",
       "  '18',\n",
       "  '0',\n",
       "  '4',\n",
       "  '0',\n",
       "  '18',\n",
       "  '19',\n",
       "  '0',\n",
       "  '4',\n",
       "  '0',\n",
       "  '19',\n",
       "  '20',\n",
       "  '0',\n",
       "  '4',\n",
       "  '0',\n",
       "  '20',\n",
       "  '21',\n",
       "  '0',\n",
       "  '4',\n",
       "  '0',\n",
       "  '21',\n",
       "  '22',\n",
       "  '0',\n",
       "  '4',\n",
       "  '0',\n",
       "  '22',\n",
       "  '23',\n",
       "  '0',\n",
       "  '4',\n",
       "  '0',\n",
       "  '23',\n",
       "  '24',\n",
       "  '0',\n",
       "  '4',\n",
       "  '0',\n",
       "  '24',\n",
       "  '25',\n",
       "  '0',\n",
       "  '4',\n",
       "  '0',\n",
       "  '25',\n",
       "  '26',\n",
       "  '0',\n",
       "  '4',\n",
       "  '0',\n",
       "  '26',\n",
       "  '27',\n",
       "  '0',\n",
       "  '4',\n",
       "  '0',\n",
       "  '27',\n",
       "  '28',\n",
       "  '0',\n",
       "  '4',\n",
       "  '0',\n",
       "  '28',\n",
       "  '29',\n",
       "  '0',\n",
       "  '4',\n",
       "  '0',\n",
       "  '29',\n",
       "  '30',\n",
       "  '0&quot;',\n",
       "  'color pmesh translucent 0.6 [0,102,255]',\n",
       "  'pmesh obj_70 inline &quot;21',\n",
       "  '2.12553 0 1.81898',\n",
       "  '2.12453 0.092189 1.81798',\n",
       "  '2.12146 0.185925 1.81491',\n",
       "  '2.11623 0.280966 1.80967',\n",
       "  '2.10874 0.377047 1.80219',\n",
       "  '2.09895 0.473881 1.7924',\n",
       "  '2.08681 0.571163 1.78026',\n",
       "  '2.07229 0.668575 1.76574',\n",
       "  '2.0554 0.76579 1.74885',\n",
       "  '2.03616 0.862478 1.72961',\n",
       "  '2.01462 0.958309 1.70807',\n",
       "  '1.99086 1.05296 1.68431',\n",
       "  '1.96496 1.14613 1.65841',\n",
       "  '1.93705 1.23752 1.6305',\n",
       "  '1.90725 1.32687 1.6007',\n",
       "  '1.87571 1.41393 1.56916',\n",
       "  '1.8426 1.49848 1.53604',\n",
       "  '1.80807 1.58036 1.50152',\n",
       "  '1.77231 1.6594 1.46576',\n",
       "  '1.73549 1.73549 1.42894',\n",
       "  '0 0 -0.306552',\n",
       "  '19',\n",
       "  '4',\n",
       "  '0',\n",
       "  '1',\n",
       "  '2',\n",
       "  '0',\n",
       "  '4',\n",
       "  '0',\n",
       "  '2',\n",
       "  '3',\n",
       "  '0',\n",
       "  '4',\n",
       "  '0',\n",
       "  '3',\n",
       "  '4',\n",
       "  '0',\n",
       "  '4',\n",
       "  '0',\n",
       "  '4',\n",
       "  '5',\n",
       "  '0',\n",
       "  '4',\n",
       "  '0',\n",
       "  '5',\n",
       "  '6',\n",
       "  '0',\n",
       "  '4',\n",
       "  '0',\n",
       "  '6',\n",
       "  '7',\n",
       "  '0',\n",
       "  '4',\n",
       "  '0',\n",
       "  '7',\n",
       "  '8',\n",
       "  '0',\n",
       "  '4',\n",
       "  '0',\n",
       "  '8',\n",
       "  '9',\n",
       "  '0',\n",
       "  '4',\n",
       "  '0',\n",
       "  '9',\n",
       "  '10',\n",
       "  '0',\n",
       "  '4',\n",
       "  '0',\n",
       "  '10',\n",
       "  '11',\n",
       "  '0',\n",
       "  '4',\n",
       "  '0',\n",
       "  '11',\n",
       "  '12',\n",
       "  '0',\n",
       "  '4',\n",
       "  '0',\n",
       "  '12',\n",
       "  '13',\n",
       "  '0',\n",
       "  '4',\n",
       "  '0',\n",
       "  '13',\n",
       "  '14',\n",
       "  '0',\n",
       "  '4',\n",
       "  '0',\n",
       "  '14',\n",
       "  '15',\n",
       "  '0',\n",
       "  '4',\n",
       "  '0',\n",
       "  '15',\n",
       "  '16',\n",
       "  '0',\n",
       "  '4',\n",
       "  '0',\n",
       "  '16',\n",
       "  '17',\n",
       "  '0',\n",
       "  '4',\n",
       "  '0',\n",
       "  '17',\n",
       "  '18',\n",
       "  '0',\n",
       "  '4',\n",
       "  '0',\n",
       "  '18',\n",
       "  '19',\n",
       "  '0',\n",
       "  '4',\n",
       "  '0',\n",
       "  '19',\n",
       "  '20',\n",
       "  '0&quot;',\n",
       "  'color pmesh translucent 0.6 [204,0,255]',\n",
       "  'select atomno = 5',\n",
       "  'color atom  [0,0,0]',\n",
       "  'label &quot;\\sigma_0&quot;',\n",
       "  'select atomno = 6',\n",
       "  'color atom  [0,0,0]',\n",
       "  'label &quot;\\sigma_1&quot;',\n",
       "  'select atomno = 7',\n",
       "  'color atom  [0,0,0]',\n",
       "  'label &quot;\\sigma_2&quot;',\n",
       "  'select atomno = 8',\n",
       "  'color atom  [0,0,0]',\n",
       "  'label &quot;\\sigma_3&quot;',\n",
       "  'select atomno = 9',\n",
       "  'color atom  [0,0,0]',\n",
       "  'label &quot;\\sigma_4&quot;',\n",
       "  'isosurface fullylit; pmesh o* fullylit; set antialiasdisplay on;',\n",
       "].join('\\n');;\n",
       "    var Info = {\n",
       "      width: '100%',\n",
       "      height: '500',\n",
       "      debug: false,\n",
       "      disableInitialConsole: true,   // very slow when used with inline mesh\n",
       "      color: '#3131ff',\n",
       "      addSelectionOptions: false,\n",
       "      use: 'HTML5',\n",
       "      j2sPath: '/nbextensions/jsmol/j2s',\n",
       "      script: script,\n",
       "    };\n",
       "    var jmolApplet0 = Jmol.getApplet('jmolApplet0', Info);\n",
       "  </script>\n",
       "</body>\n",
       "</html>\n",
       "\" \n",
       "        width=\"100%\"\n",
       "        height=\"500\"\n",
       "        style=\"border: 0;\">\n",
       "</iframe>\n"
      ],
      "text/plain": [
       "Graphics3d Object"
      ]
     },
     "execution_count": 286,
     "metadata": {},
     "output_type": "execute_result"
    }
   ],
   "source": [
    "toric_varieties.Conifold(\n",
    ").fan().subdivide(make_simplicial=True).plot()"
   ]
  },
  {
   "cell_type": "markdown",
   "metadata": {},
   "source": [
    "Subschemes\n",
    "----------\n",
    "\n",
    "Homogeneoeus equations define subschemes"
   ]
  },
  {
   "cell_type": "code",
   "execution_count": 288,
   "metadata": {
    "collapsed": false
   },
   "outputs": [
    {
     "data": {
      "text/plain": [
       "Closed subscheme of 2-d CPR-Fano toric variety covered by 3 affine patches defined by:\n",
       "  x^3 + y^3 + z^3"
      ]
     },
     "execution_count": 288,
     "metadata": {},
     "output_type": "execute_result"
    }
   ],
   "source": [
    "P2.<x,y,z> = toric_varieties.P2()\n",
    "E = P2.subscheme(x^3+y^3+z^3)\n",
    "E"
   ]
  },
  {
   "cell_type": "code",
   "execution_count": 289,
   "metadata": {
    "collapsed": false
   },
   "outputs": [
    {
     "data": {
      "text/plain": [
       "Closed subscheme of 2-d affine toric variety defined by:\n",
       "  x^3 + y^3 + 1"
      ]
     },
     "execution_count": 289,
     "metadata": {},
     "output_type": "execute_result"
    }
   ],
   "source": [
    "E.affine_patch(0)"
   ]
  },
  {
   "cell_type": "code",
   "execution_count": 290,
   "metadata": {
    "collapsed": false
   },
   "outputs": [
    {
     "data": {
      "text/plain": [
       "True"
      ]
     },
     "execution_count": 290,
     "metadata": {},
     "output_type": "execute_result"
    }
   ],
   "source": [
    "E.is_smooth()"
   ]
  },
  {
   "cell_type": "code",
   "execution_count": 291,
   "metadata": {
    "collapsed": false
   },
   "outputs": [
    {
     "data": {
      "text/plain": [
       "Set of rational points of Closed subscheme of 2-d CPR-Fano toric variety covered by 3 affine patches defined by:\n",
       "  x^3 + y^3 + z^3"
      ]
     },
     "execution_count": 291,
     "metadata": {},
     "output_type": "execute_result"
    }
   ],
   "source": [
    "E.change_ring(GF(5)).point_set()"
   ]
  },
  {
   "cell_type": "code",
   "execution_count": 292,
   "metadata": {
    "collapsed": false
   },
   "outputs": [
    {
     "data": {
      "text/plain": [
       "[[0 : 1 : 4], [1 : 0 : 4], [1 : 4 : 0], [1 : 2 : 1], [1 : 1 : 2], [1 : 3 : 3]]"
      ]
     },
     "execution_count": 292,
     "metadata": {},
     "output_type": "execute_result"
    }
   ],
   "source": [
    "list(_)"
   ]
  },
  {
   "cell_type": "code",
   "execution_count": null,
   "metadata": {
    "collapsed": true
   },
   "outputs": [],
   "source": []
  },
  {
   "cell_type": "markdown",
   "metadata": {},
   "source": [
    "Relation with polytopes\n",
    "-----------------------\n",
    "\n",
    "A lattice polytope containing the origin defines two rational polyhedral fans"
   ]
  },
  {
   "cell_type": "code",
   "execution_count": 293,
   "metadata": {
    "collapsed": false
   },
   "outputs": [
    {
     "data": {
      "image/png": "[encoded data removed]",
      "text/plain": [
       "Graphics Array of size 1 x 2"
      ]
     },
     "execution_count": 293,
     "metadata": {},
     "output_type": "execute_result"
    }
   ],
   "source": [
    "triangle = Polyhedron([(-1, 0), (0, -1), (2,3)])\n",
    "graphics_array([\n",
    "        triangle.plot() + FaceFan(triangle).plot(), \n",
    "        triangle.plot() + NormalFan(triangle).plot()\n",
    "])"
   ]
  },
  {
   "cell_type": "code",
   "execution_count": 294,
   "metadata": {
    "collapsed": false,
    "scrolled": false
   },
   "outputs": [
    {
     "data": {
      "text/html": [
       "\n",
       "<iframe srcdoc=\"\n",
       "<html>\n",
       "<head>\n",
       "  <style>\n",
       "    * {\n",
       "      margin: 0;\n",
       "      padding: 0;\n",
       "      overflow: hidden;\n",
       "    }\n",
       "    body, html {      \n",
       "      height: 100%;\n",
       "      width: 100%;\n",
       "    }\n",
       "  </style>\n",
       "  <script type=&quot;text/javascript&quot; src=&quot;/nbextensions/jsmol/JSmol.min.js&quot;></script>\n",
       "</head>\n",
       "<body>\n",
       "  <script type=&quot;text/javascript&quot;>\n",
       "    var script = [\n",
       "  'data &quot;model list&quot;',\n",
       "  '10',\n",
       "  'empty',\n",
       "  'Xx -3.0 -4.0 -3.0',\n",
       "  'Xx 0.0 -4.0 -3.0',\n",
       "  'Xx 3.0 -4.0 -3.0',\n",
       "  'Xx 4.0 -3.0 -3.0',\n",
       "  'Xx 4.0 0.0 -3.0',\n",
       "  'Xx 4.0 3.0 -3.0',\n",
       "  'Xx -4.0 -3.0 -3.0',\n",
       "  'Xx -4.0 -3.0 0.0',\n",
       "  'Xx -4.0 -3.0 3.0',\n",
       "  'Xx 5.5 5.5 5.5',\n",
       "  'end &quot;model list&quot;; show data',\n",
       "  'select *',\n",
       "  'wireframe off; spacefill off',\n",
       "  'set labelOffset 0 0',\n",
       "  'background [255,255,255]',\n",
       "  'spin OFF',\n",
       "  'moveto 0 -764 -346 -545 76.39',\n",
       "  'centerAt absolute {0 0 0}',\n",
       "  'zoom 100',\n",
       "  'frank OFF',\n",
       "  'set perspectivedepth ON',\n",
       "  'draw point_1 DIAMETER 5 {-3.0 -3.0 -3.0}',\n",
       "  'color $point_1  [0,0,255]',\n",
       "  'draw point_2 DIAMETER 5 {-3.0 -3.0 3.0}',\n",
       "  'color $point_2  [0,0,255]',\n",
       "  'draw point_3 DIAMETER 5 {-3.0 3.0 3.0}',\n",
       "  'color $point_3  [0,0,255]',\n",
       "  'draw point_4 DIAMETER 5 {3.0 -3.0 3.0}',\n",
       "  'color $point_4  [0,0,255]',\n",
       "  'draw point_5 DIAMETER 5 {3.0 3.0 3.0}',\n",
       "  'color $point_5  [0,0,255]',\n",
       "  'draw line_6 diameter 1 curve {-3.0 -3.0 -3.0}  {-3.0 -3.0 3.0} ',\n",
       "  'color $line_6  [0,0,255]',\n",
       "  'draw line_7 diameter 1 curve {-3.0 -3.0 -3.0}  {-3.0 3.0 3.0} ',\n",
       "  'color $line_7  [0,0,255]',\n",
       "  'draw line_8 diameter 1 curve {-3.0 -3.0 -3.0}  {3.0 -3.0 3.0} ',\n",
       "  'color $line_8  [0,0,255]',\n",
       "  'draw line_9 diameter 1 curve {-3.0 -3.0 -3.0}  {3.0 3.0 3.0} ',\n",
       "  'color $line_9  [0,0,255]',\n",
       "  'draw line_10 diameter 1 curve {-3.0 -3.0 3.0}  {-3.0 3.0 3.0} ',\n",
       "  'color $line_10  [0,0,255]',\n",
       "  'draw line_11 diameter 1 curve {-3.0 -3.0 3.0}  {3.0 -3.0 3.0} ',\n",
       "  'color $line_11  [0,0,255]',\n",
       "  'draw line_12 diameter 1 curve {-3.0 3.0 3.0}  {3.0 3.0 3.0} ',\n",
       "  'color $line_12  [0,0,255]',\n",
       "  'draw line_13 diameter 1 curve {3.0 -3.0 3.0}  {3.0 3.0 3.0} ',\n",
       "  'color $line_13  [0,0,255]',\n",
       "  'pmesh obj_14 inline &quot;4',\n",
       "  '3 3 3',\n",
       "  '-3 3 3',\n",
       "  '-3 -3 3',\n",
       "  '3 -3 3',\n",
       "  '1',\n",
       "  '5',\n",
       "  '0',\n",
       "  '1',\n",
       "  '2',\n",
       "  '3',\n",
       "  '0&quot;',\n",
       "  'color pmesh  [0,128,0]',\n",
       "  'pmesh obj_15 inline &quot;3',\n",
       "  '3 -3 3',\n",
       "  '-3 -3 -3',\n",
       "  '-3 -3 3',\n",
       "  '1',\n",
       "  '4',\n",
       "  '0',\n",
       "  '1',\n",
       "  '2',\n",
       "  '0&quot;',\n",
       "  'color pmesh  [0,128,0]',\n",
       "  'pmesh obj_16 inline &quot;3',\n",
       "  '-3 3 3',\n",
       "  '-3 -3 -3',\n",
       "  '-3 -3 3',\n",
       "  '1',\n",
       "  '4',\n",
       "  '0',\n",
       "  '1',\n",
       "  '2',\n",
       "  '0&quot;',\n",
       "  'color pmesh  [0,128,0]',\n",
       "  'pmesh obj_17 inline &quot;3',\n",
       "  '3 3 3',\n",
       "  '-3 -3 -3',\n",
       "  '-3 3 3',\n",
       "  '1',\n",
       "  '4',\n",
       "  '0',\n",
       "  '1',\n",
       "  '2',\n",
       "  '0&quot;',\n",
       "  'color pmesh  [0,128,0]',\n",
       "  'pmesh obj_18 inline &quot;3',\n",
       "  '3 3 3',\n",
       "  '-3 -3 -3',\n",
       "  '3 -3 3',\n",
       "  '1',\n",
       "  '4',\n",
       "  '0',\n",
       "  '1',\n",
       "  '2',\n",
       "  '0&quot;',\n",
       "  'color pmesh  [0,128,0]',\n",
       "  'draw line_19 diameter 1 curve {-3.0 -3.0 -3.0}  {-3.0 3.0 -3.0} ',\n",
       "  'color $line_19 translucent 0.5 [0,0,0]',\n",
       "  'draw line_20 diameter 1 curve {-3.0 3.0 -3.0}  {3.0 3.0 -3.0} ',\n",
       "  'color $line_20 translucent 0.5 [0,0,0]',\n",
       "  'draw line_21 diameter 1 curve {3.0 3.0 -3.0}  {3.0 -3.0 -3.0} ',\n",
       "  'color $line_21 translucent 0.5 [0,0,0]',\n",
       "  'draw line_22 diameter 1 curve {3.0 -3.0 -3.0}  {-3.0 -3.0 -3.0} ',\n",
       "  'color $line_22 translucent 0.5 [0,0,0]',\n",
       "  'draw line_23 diameter 1 curve {-3.0 -3.0 -3.0}  {-3.0 -3.0 3.0} ',\n",
       "  'color $line_23 translucent 0.5 [0,0,0]',\n",
       "  'draw line_24 diameter 1 curve {-3.0 -3.0 3.0}  {-3.0 3.0 3.0} ',\n",
       "  'color $line_24 translucent 0.5 [0,0,0]',\n",
       "  'draw line_25 diameter 1 curve {-3.0 3.0 3.0}  {3.0 3.0 3.0} ',\n",
       "  'color $line_25 translucent 0.5 [0,0,0]',\n",
       "  'draw line_26 diameter 1 curve {3.0 3.0 3.0}  {3.0 -3.0 3.0} ',\n",
       "  'color $line_26 translucent 0.5 [0,0,0]',\n",
       "  'draw line_27 diameter 1 curve {3.0 -3.0 3.0}  {-3.0 -3.0 3.0} ',\n",
       "  'color $line_27 translucent 0.5 [0,0,0]',\n",
       "  'draw line_28 diameter 1 curve {-3.0 -3.0 3.0} ',\n",
       "  'color $line_28 translucent 0.5 [0,0,0]',\n",
       "  'draw line_29 diameter 1 curve {-3.0 3.0 -3.0}  {-3.0 3.0 3.0} ',\n",
       "  'color $line_29 translucent 0.5 [0,0,0]',\n",
       "  'draw line_30 diameter 1 curve {3.0 -3.0 -3.0}  {3.0 -3.0 3.0} ',\n",
       "  'color $line_30 translucent 0.5 [0,0,0]',\n",
       "  'draw line_31 diameter 1 curve {3.0 3.0 -3.0}  {3.0 3.0 3.0} ',\n",
       "  'color $line_31 translucent 0.5 [0,0,0]',\n",
       "  'select atomno = 1',\n",
       "  'color atom  [76,76,76]',\n",
       "  'label &quot;0.00&quot;',\n",
       "  'select atomno = 2',\n",
       "  'color atom  [76,76,76]',\n",
       "  'label &quot;0.50&quot;',\n",
       "  'select atomno = 3',\n",
       "  'color atom  [76,76,76]',\n",
       "  'label &quot;1.00&quot;',\n",
       "  'select atomno = 4',\n",
       "  'color atom  [76,76,76]',\n",
       "  'label &quot;0.00&quot;',\n",
       "  'select atomno = 5',\n",
       "  'color atom  [76,76,76]',\n",
       "  'label &quot;0.50&quot;',\n",
       "  'select atomno = 6',\n",
       "  'color atom  [76,76,76]',\n",
       "  'label &quot;1.00&quot;',\n",
       "  'select atomno = 7',\n",
       "  'color atom  [76,76,76]',\n",
       "  'label &quot;0.00&quot;',\n",
       "  'select atomno = 8',\n",
       "  'color atom  [76,76,76]',\n",
       "  'label &quot;0.50&quot;',\n",
       "  'select atomno = 9',\n",
       "  'color atom  [76,76,76]',\n",
       "  'label &quot;1.00&quot;',\n",
       "  'isosurface fullylit; pmesh o* fullylit; set antialiasdisplay on;',\n",
       "].join('\\n');;\n",
       "    var Info = {\n",
       "      width: '100%',\n",
       "      height: '500',\n",
       "      debug: false,\n",
       "      disableInitialConsole: true,   // very slow when used with inline mesh\n",
       "      color: '#3131ff',\n",
       "      addSelectionOptions: false,\n",
       "      use: 'HTML5',\n",
       "      j2sPath: '/nbextensions/jsmol/j2s',\n",
       "      script: script,\n",
       "    };\n",
       "    var jmolApplet0 = Jmol.getApplet('jmolApplet0', Info);\n",
       "  </script>\n",
       "</body>\n",
       "</html>\n",
       "\" \n",
       "        width=\"100%\"\n",
       "        height=\"500\"\n",
       "        style=\"border: 0;\">\n",
       "</iframe>\n"
      ],
      "text/plain": [
       "Graphics3d Object"
      ]
     },
     "execution_count": 294,
     "metadata": {},
     "output_type": "execute_result"
    }
   ],
   "source": [
    "square_pyramid = Polyhedron([(0,0,0), (0,0,1), (1,0,1), (0,1,1), (1,1,1)])\n",
    "square_pyramid.plot()"
   ]
  },
  {
   "cell_type": "code",
   "execution_count": 295,
   "metadata": {
    "collapsed": false
   },
   "outputs": [
    {
     "data": {
      "text/plain": [
       "[(<0,1,2,3>, <0,2,3,4>), (<0,1,2,4>, <0,1,3,4>)]"
      ]
     },
     "execution_count": 295,
     "metadata": {},
     "output_type": "execute_result"
    }
   ],
   "source": [
    "pc = PointConfiguration(square_pyramid.vertices())\n",
    "list(pc.triangulations())"
   ]
  },
  {
   "cell_type": "markdown",
   "metadata": {},
   "source": [
    "Cohomology Ring\n",
    "---------------\n",
    "\n",
    "The homogeneous coordinates $z_i$ define divisors $V(z_i) = \\{z_i=0\\}$"
   ]
  },
  {
   "cell_type": "code",
   "execution_count": 296,
   "metadata": {
    "collapsed": false
   },
   "outputs": [
    {
     "data": {
      "text/plain": [
       "(V(x), V(y), V(z))"
      ]
     },
     "execution_count": 296,
     "metadata": {},
     "output_type": "execute_result"
    }
   ],
   "source": [
    "P2.<x,y,z> = toric_varieties.P2()\n",
    "P2.divisor(x), P2.divisor(y), P2.divisor(z)"
   ]
  },
  {
   "cell_type": "code",
   "execution_count": 297,
   "metadata": {
    "collapsed": false
   },
   "outputs": [
    {
     "data": {
      "text/plain": [
       "V(x) + V(y)"
      ]
     },
     "execution_count": 297,
     "metadata": {},
     "output_type": "execute_result"
    }
   ],
   "source": [
    "D = P2.divisor(x) + P2.divisor(y);  D"
   ]
  },
  {
   "cell_type": "code",
   "execution_count": 298,
   "metadata": {
    "collapsed": false
   },
   "outputs": [
    {
     "data": {
      "text/plain": [
       "Group of toric ZZ-Weil divisors on 2-d CPR-Fano toric variety covered by 3 affine patches"
      ]
     },
     "execution_count": 298,
     "metadata": {},
     "output_type": "execute_result"
    }
   ],
   "source": [
    "D.parent()"
   ]
  },
  {
   "cell_type": "code",
   "execution_count": 299,
   "metadata": {
    "collapsed": false
   },
   "outputs": [
    {
     "data": {
      "text/plain": [
       "True"
      ]
     },
     "execution_count": 299,
     "metadata": {},
     "output_type": "execute_result"
    }
   ],
   "source": [
    "D.is_Cartier()"
   ]
  },
  {
   "cell_type": "markdown",
   "metadata": {},
   "source": [
    "The divisors $V(x)$ and $V(y)$ are different but can be moved to each other"
   ]
  },
  {
   "cell_type": "code",
   "execution_count": 300,
   "metadata": {
    "collapsed": false
   },
   "outputs": [
    {
     "data": {
      "text/plain": [
       "(Divisor class [2], [2*z], ( 0 | 2 | 0 ))"
      ]
     },
     "execution_count": 300,
     "metadata": {},
     "output_type": "execute_result"
    }
   ],
   "source": [
    "P2.rational_class_group()(D), D.cohomology_class(), D.Chow_cycle()"
   ]
  },
  {
   "cell_type": "code",
   "execution_count": 301,
   "metadata": {
    "collapsed": false
   },
   "outputs": [
    {
     "data": {
      "text/plain": [
       "(([1],), ([z],), ([z^2],))"
      ]
     },
     "execution_count": 301,
     "metadata": {},
     "output_type": "execute_result"
    }
   ],
   "source": [
    "P2.cohomology_basis()"
   ]
  },
  {
   "cell_type": "code",
   "execution_count": 302,
   "metadata": {
    "collapsed": false
   },
   "outputs": [
    {
     "data": {
      "text/plain": [
       "([3*z^2 + 3*z + 1], [z^2 + 3/2*z + 1])"
      ]
     },
     "execution_count": 302,
     "metadata": {},
     "output_type": "execute_result"
    }
   ],
   "source": [
    "P2.Chern_class(), P2.Todd_class()"
   ]
  },
  {
   "cell_type": "code",
   "execution_count": 303,
   "metadata": {
    "collapsed": false
   },
   "outputs": [
    {
     "data": {
      "text/plain": [
       "3"
      ]
     },
     "execution_count": 303,
     "metadata": {},
     "output_type": "execute_result"
    }
   ],
   "source": [
    "P2.integrate(P2.Chern_class())   # Euler number"
   ]
  },
  {
   "cell_type": "code",
   "execution_count": 304,
   "metadata": {
    "collapsed": false
   },
   "outputs": [
    {
     "data": {
      "text/plain": [
       "8"
      ]
     },
     "execution_count": 304,
     "metadata": {},
     "output_type": "execute_result"
    }
   ],
   "source": [
    "P2.integrate(P2.Chern_character() * P2.Todd_class())    # Index of the tangent bundle"
   ]
  },
  {
   "cell_type": "markdown",
   "metadata": {},
   "source": [
    "Torus equivariant bundles\n",
    "-------------------------\n",
    "\n",
    "Defining data for Klyachko bundles\n",
    "* Vector space over big torus orbit $(\\mathbb{C}^\\times)^n$\n",
    "* Gluing data at the $z_i=0$ divisors: graded filtration for each ray $\\rho_i$"
   ]
  },
  {
   "cell_type": "code",
   "execution_count": 305,
   "metadata": {
    "collapsed": false
   },
   "outputs": [],
   "source": [
    "TP2 = P2.sheaves.tangent_bundle()"
   ]
  },
  {
   "cell_type": "code",
   "execution_count": 306,
   "metadata": {
    "collapsed": false
   },
   "outputs": [
    {
     "data": {
      "text/plain": [
       "Vector space of dimension 2 over Rational Field"
      ]
     },
     "execution_count": 306,
     "metadata": {},
     "output_type": "execute_result"
    }
   ],
   "source": [
    "TP2.fiber()     # Vector space over big torus"
   ]
  },
  {
   "cell_type": "code",
   "execution_count": 307,
   "metadata": {
    "collapsed": false
   },
   "outputs": [
    {
     "data": {
      "text/plain": [
       "Filtrations\n",
       "    N(-1, -1): QQ^2 >= QQ^1 >= 0\n",
       "      N(0, 1): QQ^2 >= QQ^1 >= 0\n",
       "      N(1, 0): QQ^2 >= QQ^1 >= 0"
      ]
     },
     "execution_count": 307,
     "metadata": {},
     "output_type": "execute_result"
    }
   ],
   "source": [
    "TP2.get_filtration()    # graded filtration for each ray"
   ]
  },
  {
   "cell_type": "code",
   "execution_count": 308,
   "metadata": {
    "collapsed": false
   },
   "outputs": [
    {
     "data": {
      "text/plain": [
       "Vector space of degree 2 and dimension 1 over Rational Field\n",
       "Basis matrix:\n",
       "[0 1]"
      ]
     },
     "execution_count": 308,
     "metadata": {},
     "output_type": "execute_result"
    }
   ],
   "source": [
    "TP2.get_filtration((0,1)).get_degree(1)"
   ]
  },
  {
   "cell_type": "code",
   "execution_count": 310,
   "metadata": {
    "collapsed": false
   },
   "outputs": [
    {
     "data": {
      "text/plain": [
       "Vector space of degree 2 and dimension 1 over Rational Field\n",
       "Basis matrix:\n",
       "[  1 3/8]"
      ]
     },
     "execution_count": 310,
     "metadata": {},
     "output_type": "execute_result"
    }
   ],
   "source": [
    "TP2.random_deformation().get_filtration((0,1)).get_degree(1)"
   ]
  },
  {
   "cell_type": "code",
   "execution_count": null,
   "metadata": {
    "collapsed": true
   },
   "outputs": [],
   "source": []
  },
  {
   "cell_type": "markdown",
   "metadata": {},
   "source": [
    "Graded semiring structure for graded multi-filtrations is semiring of torus-quivariant sheaves"
   ]
  },
  {
   "cell_type": "code",
   "execution_count": 311,
   "metadata": {
    "collapsed": false
   },
   "outputs": [
    {
     "data": {
      "text/plain": [
       "Rank 1 bundle on 2-d CPR-Fano toric variety covered by 3 affine patches."
      ]
     },
     "execution_count": 311,
     "metadata": {},
     "output_type": "execute_result"
    }
   ],
   "source": [
    "D = P2.divisor(x)\n",
    "P2.sheaves.line_bundle(D)"
   ]
  },
  {
   "cell_type": "code",
   "execution_count": 312,
   "metadata": {
    "collapsed": false
   },
   "outputs": [
    {
     "data": {
      "text/plain": [
       "Rank 3 bundle on 2-d CPR-Fano toric variety covered by 3 affine patches."
      ]
     },
     "execution_count": 312,
     "metadata": {},
     "output_type": "execute_result"
    }
   ],
   "source": [
    "V = TP2.wedge(2) + P2.sheaves.line_bundle(-D) * TP2;  V"
   ]
  },
  {
   "cell_type": "code",
   "execution_count": 313,
   "metadata": {
    "collapsed": false
   },
   "outputs": [
    {
     "data": {
      "text/plain": [
       "(2, 0, 0)"
      ]
     },
     "execution_count": 313,
     "metadata": {},
     "output_type": "execute_result"
    }
   ],
   "source": [
    "V.cohomology(weight=(0,0), dim=True)"
   ]
  },
  {
   "cell_type": "code",
   "execution_count": 314,
   "metadata": {
    "collapsed": false
   },
   "outputs": [
    {
     "data": {
      "text/plain": [
       "(2, 0, 0)"
      ]
     },
     "execution_count": 314,
     "metadata": {},
     "output_type": "execute_result"
    }
   ],
   "source": [
    "TP2.cohomology(weight=(0,0), dim=True)"
   ]
  },
  {
   "cell_type": "code",
   "execution_count": null,
   "metadata": {
    "collapsed": true
   },
   "outputs": [],
   "source": []
  }
 ],
 "metadata": {
  "kernelspec": {
   "display_name": "SageMath 7.3.beta2",
   "language": "",
   "name": "sagemath"
  },
  "language_info": {
   "codemirror_mode": {
    "name": "ipython",
    "version": 2
   },
   "file_extension": ".py",
   "mimetype": "text/x-python",
   "name": "python",
   "nbconvert_exporter": "python",
   "pygments_lexer": "ipython2",
   "version": "2.7.10"
  }
 },
 "nbformat": 4,
 "nbformat_minor": 0
}
