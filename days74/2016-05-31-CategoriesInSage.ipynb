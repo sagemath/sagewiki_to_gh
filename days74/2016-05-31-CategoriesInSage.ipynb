{
 "cells": [
  {
   "cell_type": "markdown",
   "metadata": {},
   "source": [
    "# Infrastructure for generic code in Sage: categories, axioms, constructions"
   ]
  },
  {
   "cell_type": "code",
   "execution_count": 5,
   "metadata": {
    "collapsed": false
   },
   "outputs": [],
   "source": [
    "from sage.categories.category_with_axiom import CategoryWithAxiom\n",
    "from sage.categories.cartesian_product import CartesianProductsCategory"
   ]
  },
  {
   "cell_type": "markdown",
   "metadata": {},
   "source": [
    "## Parents, Elements, and generic code, the plain Python way"
   ]
  },
  {
   "cell_type": "code",
   "execution_count": 49,
   "metadata": {
    "collapsed": false
   },
   "outputs": [],
   "source": [
    "class SemigroupElement:\n",
    "    def __pow__(self, k):\n",
    "        assert k==8\n",
    "        self = self * self\n",
    "        self = self * self\n",
    "        self = self * self\n",
    "        return self\n",
    "\n",
    "class Stroumph(SemigroupElement):\n",
    "    def __init__(self, name):\n",
    "        self._name = name\n",
    "    def __repr__(self):\n",
    "        return self._name\n",
    "    def __mul__(self, other):\n",
    "        return other\n",
    "    def sing(self):\n",
    "        print \"I sing\""
   ]
  },
  {
   "cell_type": "code",
   "execution_count": 50,
   "metadata": {
    "collapsed": false
   },
   "outputs": [
    {
     "data": {
      "text/plain": [
       "Stroumph coquet"
      ]
     },
     "execution_count": 50,
     "metadata": {},
     "output_type": "execute_result"
    }
   ],
   "source": [
    "s = Stroumph(\"Stroumph coquet\"); s"
   ]
  },
  {
   "cell_type": "code",
   "execution_count": 51,
   "metadata": {
    "collapsed": false
   },
   "outputs": [
    {
     "data": {
      "text/plain": [
       "Stroumph costaud"
      ]
     },
     "execution_count": 51,
     "metadata": {},
     "output_type": "execute_result"
    }
   ],
   "source": [
    "t = Stroumph(\"Stroumph costaud\"); t"
   ]
  },
  {
   "cell_type": "code",
   "execution_count": 52,
   "metadata": {
    "collapsed": false
   },
   "outputs": [
    {
     "data": {
      "text/plain": [
       "Stroumph costaud"
      ]
     },
     "execution_count": 52,
     "metadata": {},
     "output_type": "execute_result"
    }
   ],
   "source": [
    "s*t"
   ]
  },
  {
   "cell_type": "code",
   "execution_count": 53,
   "metadata": {
    "collapsed": false
   },
   "outputs": [
    {
     "data": {
      "text/plain": [
       "Stroumph coquet"
      ]
     },
     "execution_count": 53,
     "metadata": {},
     "output_type": "execute_result"
    }
   ],
   "source": [
    "s^8"
   ]
  },
  {
   "cell_type": "code",
   "execution_count": 118,
   "metadata": {
    "collapsed": true
   },
   "outputs": [],
   "source": [
    "class Semigroup:\n",
    "    def cayley_graph():\n",
    "        pass\n",
    "    # stuff about generators, ...\n",
    "\n",
    "\n",
    "class BandOfStroumphs(Semigroup):\n",
    "    def __iter__(self):\n",
    "        yield Stroumph(\"Stroumph coquet\")\n",
    "        yield Stroumph(\"Stroumph costaud\")\n",
    "        yield Stroumph(\"Grand stroumph\")"
   ]
  },
  {
   "cell_type": "code",
   "execution_count": 44,
   "metadata": {
    "collapsed": false
   },
   "outputs": [
    {
     "name": "stdout",
     "output_type": "stream",
     "text": [
      "Stroumph coquet\n",
      "Stroumph costaud\n",
      "Grand stroumph\n"
     ]
    }
   ],
   "source": [
    "for x in BandOfStroumphs():\n",
    "    print x"
   ]
  },
  {
   "cell_type": "markdown",
   "metadata": {},
   "source": [
    "## A hierarchy of abstract classes the usual way"
   ]
  },
  {
   "cell_type": "code",
   "execution_count": 119,
   "metadata": {
    "collapsed": true
   },
   "outputs": [],
   "source": [
    "class Set(object):\n",
    "    \"\"\"Methods for sets\"\"\"\n",
    "class SetElement(object):\n",
    "    \"\"\"Methods for elements of sets\"\"\"\n",
    "class SetMorphism(object):\n",
    "    \"\"\"Methods for set morphisms\"\"\"\n",
    "\n",
    "class Magma(Set):\n",
    "    \"\"\"Methods for magmas\"\"\"\n",
    "class MagmaElement(SetElement):\n",
    "    \"\"\"Methods for elements of magmas\"\"\"\n",
    "\n",
    "class Semigroup(Magma):\n",
    "    \"\"\"Methods for semigroups\"\"\"\n",
    "class SemigroupElement(MagmaElement):\n",
    "    \"\"\"Methods for elements of semigroups\"\"\"\n",
    "    def __pow__(self, k): pass"
   ]
  },
  {
   "cell_type": "markdown",
   "metadata": {},
   "source": [
    "## Refactoring as a category"
   ]
  },
  {
   "cell_type": "code",
   "execution_count": 120,
   "metadata": {
    "collapsed": true
   },
   "outputs": [],
   "source": [
    "class MySemigroups(Category):\n",
    "    def super_categories(self):  # Mathematical information\n",
    "        return [Magmas()]\n",
    "    class ParentMethods:         # This is a mix-in\n",
    "        \"\"\"Methods for semigroups\"\"\"\n",
    "    class ElementMethods:\n",
    "        \"\"\"Methods for semigroup elements\"\"\"\n",
    "        def __pow__(self, k): pass\n",
    "    class MorphismMethods:\n",
    "        \"\"\"Methods for semigroup morphisms\"\"\""
   ]
  },
  {
   "cell_type": "code",
   "execution_count": 60,
   "metadata": {
    "collapsed": false
   },
   "outputs": [
    {
     "data": {
      "text/plain": [
       "[Category of magmas]"
      ]
     },
     "execution_count": 60,
     "metadata": {},
     "output_type": "execute_result"
    }
   ],
   "source": [
    "MySemigroups().super_categories()"
   ]
  },
  {
   "cell_type": "code",
   "execution_count": 63,
   "metadata": {
    "collapsed": false
   },
   "outputs": [],
   "source": [
    "cls = MySemigroups().parent_class"
   ]
  },
  {
   "cell_type": "code",
   "execution_count": 65,
   "metadata": {
    "collapsed": false
   },
   "outputs": [
    {
     "data": {
      "text/plain": [
       "[<class '__main__.MySemigroups.parent_class'>,\n",
       " <class 'sage.categories.magmas.Magmas.parent_class'>,\n",
       " <class 'sage.categories.sets_cat.Sets.parent_class'>,\n",
       " <class 'sage.categories.sets_with_partial_maps.SetsWithPartialMaps.parent_class'>,\n",
       " <class 'sage.categories.objects.Objects.parent_class'>,\n",
       " <type 'object'>]"
      ]
     },
     "execution_count": 65,
     "metadata": {},
     "output_type": "execute_result"
    }
   ],
   "source": [
    "cls.mro()"
   ]
  },
  {
   "cell_type": "markdown",
   "metadata": {},
   "source": [
    "## A complete Parent, written the Sage way"
   ]
  },
  {
   "cell_type": "code",
   "execution_count": 84,
   "metadata": {
    "collapsed": false
   },
   "outputs": [],
   "source": [
    "class BandOfStroumphs(Parent):\n",
    "    def __init__(self):\n",
    "        category = Semigroups() & EnumeratedSets().Finite()\n",
    "        Parent.__init__(self, category=category)\n",
    "    \n",
    "    def semigroup_generators(self):\n",
    "        return Family(list(self))\n",
    "    \n",
    "    def __iter__(self):\n",
    "        yield self(\"Stroumph coquet\")\n",
    "        yield self(\"Stroumph costaud\")\n",
    "        yield self(\"Grand stroumph\")\n",
    "        \n",
    "    class Element(ElementWrapper):\n",
    "        def _mul_(self, other):\n",
    "            return other"
   ]
  },
  {
   "cell_type": "code",
   "execution_count": 85,
   "metadata": {
    "collapsed": true
   },
   "outputs": [],
   "source": [
    "B = BandOfStroumphs()"
   ]
  },
  {
   "cell_type": "code",
   "execution_count": 92,
   "metadata": {
    "collapsed": false
   },
   "outputs": [
    {
     "data": {
      "text/plain": [
       "'Stroumph coquet'"
      ]
     },
     "execution_count": 92,
     "metadata": {},
     "output_type": "execute_result"
    }
   ],
   "source": [
    "B(\"Stroumph coquet\")"
   ]
  },
  {
   "cell_type": "code",
   "execution_count": 91,
   "metadata": {
    "collapsed": false
   },
   "outputs": [
    {
     "data": {
      "text/plain": [
       "<bound method BandOfStroumphs_with_category.list of <class '__main__.BandOfStroumphs_with_category'>>"
      ]
     },
     "execution_count": 91,
     "metadata": {},
     "output_type": "execute_result"
    }
   ],
   "source": [
    "B.list()"
   ]
  },
  {
   "cell_type": "code",
   "execution_count": 87,
   "metadata": {
    "collapsed": false
   },
   "outputs": [
    {
     "data": {
      "text/plain": [
       "'Stroumph coquet'"
      ]
     },
     "execution_count": 87,
     "metadata": {},
     "output_type": "execute_result"
    }
   ],
   "source": [
    "s = B.an_element(); s"
   ]
  },
  {
   "cell_type": "code",
   "execution_count": 88,
   "metadata": {
    "collapsed": false
   },
   "outputs": [
    {
     "data": {
      "image/png": "[encoded data removed]",
      "text/plain": [
       "Looped multi-digraph on 3 vertices"
      ]
     },
     "execution_count": 88,
     "metadata": {},
     "output_type": "execute_result"
    }
   ],
   "source": [
    "B.cayley_graph()"
   ]
  },
  {
   "cell_type": "code",
   "execution_count": 112,
   "metadata": {
    "collapsed": false
   },
   "outputs": [
    {
     "name": "stdout",
     "output_type": "stream",
     "text": [
      "running ._test_an_element() . . . pass\n",
      "running ._test_associativity() . . . pass\n",
      "running ._test_cardinality() . . . pass\n",
      "running ._test_category() . . . pass\n",
      "running ._test_elements() . . .\n",
      "  Running the test suite of self.an_element()\n",
      "  running ._test_category() . . . pass\n",
      "  running ._test_eq() . . . pass\n",
      "  running ._test_not_implemented_methods() . . . pass\n",
      "  running ._test_pickling() . . . fail\n",
      "  Traceback (most recent call last):\n",
      "    File \"/opt/sage-git/local/lib/python2.7/site-packages/sage/misc/sage_unittest.py\", line 283, in run\n",
      "      test_method(tester = tester)\n",
      "    File \"sage/structure/sage_object.pyx\", line 665, in sage.structure.sage_object.SageObject._test_pickling (/opt/sage-git/src/build/cythonized/sage/structure/sage_object.c:5231)\n",
      "      tester.assertEqual(loads(dumps(self)), self)\n",
      "    File \"sage/structure/sage_object.pyx\", line 1130, in sage.structure.sage_object.dumps (/opt/sage-git/src/build/cythonized/sage/structure/sage_object.c:12525)\n",
      "      return obj.dumps(compress)\n",
      "    File \"sage/structure/sage_object.pyx\", line 488, in sage.structure.sage_object.SageObject.dumps (/opt/sage-git/src/build/cythonized/sage/structure/sage_object.c:3912)\n",
      "      s = cPickle.dumps(self, protocol=2)\n",
      "  PicklingError: Can't pickle <class '__main__.Element'>: attribute lookup __main__.Element failed\n",
      "  ------------------------------------------------------------\n",
      "  The following tests failed: _test_pickling\n",
      "running ._test_elements_eq_reflexive() . . . pass\n",
      "running ._test_elements_eq_symmetric() . . . pass\n",
      "running ._test_elements_eq_transitive() . . . pass\n",
      "running ._test_elements_neq() . . . pass\n",
      "running ._test_enumerated_set_contains() . . . pass\n",
      "running ._test_enumerated_set_iter_cardinality() . . . pass\n",
      "running ._test_enumerated_set_iter_list() . . . pass\n",
      "running ._test_eq() . . . pass\n",
      "running ._test_not_implemented_methods() . . . pass\n",
      "running ._test_some_elements() . . . pass\n",
      "The following tests failed: _test_elements\n"
     ]
    }
   ],
   "source": [
    "TestSuite(B).run(verbose=True, skip=\"_test_pickling\")"
   ]
  },
  {
   "cell_type": "code",
   "execution_count": 93,
   "metadata": {
    "collapsed": false
   },
   "outputs": [
    {
     "data": {
      "text/plain": [
       "Join of Category of finite semigroups and Category of finite enumerated sets"
      ]
     },
     "execution_count": 93,
     "metadata": {},
     "output_type": "execute_result"
    }
   ],
   "source": [
    "B.category()"
   ]
  },
  {
   "cell_type": "code",
   "execution_count": 94,
   "metadata": {
    "collapsed": false
   },
   "outputs": [
    {
     "data": {
      "text/plain": [
       "[Join of Category of finite semigroups and Category of finite enumerated sets,\n",
       " Category of finite semigroups,\n",
       " Category of semigroups,\n",
       " Category of magmas,\n",
       " Category of finite enumerated sets,\n",
       " Category of enumerated sets,\n",
       " Category of finite sets,\n",
       " Category of sets,\n",
       " Category of sets with partial maps,\n",
       " Category of objects]"
      ]
     },
     "execution_count": 94,
     "metadata": {},
     "output_type": "execute_result"
    }
   ],
   "source": [
    "B.categories()"
   ]
  },
  {
   "cell_type": "code",
   "execution_count": 95,
   "metadata": {
    "collapsed": false
   },
   "outputs": [
    {
     "data": {
      "text/plain": [
       "[<class '__main__.BandOfStroumphs_with_category'>,\n",
       " <class '__main__.BandOfStroumphs'>,\n",
       " <type 'sage.structure.parent.Parent'>,\n",
       " <type 'sage.structure.category_object.CategoryObject'>,\n",
       " <type 'sage.structure.sage_object.SageObject'>,\n",
       " <class 'sage.categories.category.JoinCategory.parent_class'>,\n",
       " <class 'sage.categories.finite_semigroups.FiniteSemigroups.parent_class'>,\n",
       " <class 'sage.categories.semigroups.Semigroups.parent_class'>,\n",
       " <class 'sage.categories.magmas.Magmas.parent_class'>,\n",
       " <class 'sage.categories.finite_enumerated_sets.FiniteEnumeratedSets.parent_class'>,\n",
       " <class 'sage.categories.enumerated_sets.EnumeratedSets.parent_class'>,\n",
       " <class 'sage.categories.finite_sets.FiniteSets.parent_class'>,\n",
       " <class 'sage.categories.sets_cat.Sets.parent_class'>,\n",
       " <class 'sage.categories.sets_with_partial_maps.SetsWithPartialMaps.parent_class'>,\n",
       " <class 'sage.categories.objects.Objects.parent_class'>,\n",
       " <type 'object'>]"
      ]
     },
     "execution_count": 95,
     "metadata": {},
     "output_type": "execute_result"
    }
   ],
   "source": [
    "B.__class__.mro()"
   ]
  },
  {
   "cell_type": "markdown",
   "metadata": {},
   "source": [
    "## Side benefits of having categories as first class objects"
   ]
  },
  {
   "cell_type": "code",
   "execution_count": 37,
   "metadata": {
    "collapsed": true
   },
   "outputs": [],
   "source": [
    "C = Semigroups()"
   ]
  },
  {
   "cell_type": "code",
   "execution_count": 38,
   "metadata": {
    "collapsed": false
   },
   "outputs": [
    {
     "data": {
      "text/plain": [
       "Category of semigroups"
      ]
     },
     "execution_count": 38,
     "metadata": {},
     "output_type": "execute_result"
    }
   ],
   "source": [
    "C"
   ]
  },
  {
   "cell_type": "code",
   "execution_count": 40,
   "metadata": {
    "collapsed": false
   },
   "outputs": [],
   "source": [
    "S = C.example()"
   ]
  },
  {
   "cell_type": "code",
   "execution_count": null,
   "metadata": {
    "collapsed": true
   },
   "outputs": [],
   "source": [
    "S??"
   ]
  },
  {
   "cell_type": "code",
   "execution_count": 42,
   "metadata": {
    "collapsed": false
   },
   "outputs": [
    {
     "data": {
      "text/plain": [
       "frozenset({'Associative'})"
      ]
     },
     "execution_count": 42,
     "metadata": {},
     "output_type": "execute_result"
    }
   ],
   "source": [
    "C.axioms()"
   ]
  },
  {
   "cell_type": "code",
   "execution_count": 117,
   "metadata": {
    "collapsed": false
   },
   "outputs": [
    {
     "data": {
      "text/plain": [
       "frozenset({Category of additive unital additive magmas,\n",
       "           Category of additive magmas,\n",
       "           Category of euclidean domains,\n",
       "           Category of unital magmas,\n",
       "           Category of magmas,\n",
       "           Category of sets with partial maps,\n",
       "           Category of sets})"
      ]
     },
     "execution_count": 117,
     "metadata": {},
     "output_type": "execute_result"
    }
   ],
   "source": [
    "C.structure()"
   ]
  },
  {
   "cell_type": "code",
   "execution_count": 114,
   "metadata": {
    "collapsed": false
   },
   "outputs": [
    {
     "data": {
      "text/plain": [
       "Category of fields"
      ]
     },
     "execution_count": 114,
     "metadata": {},
     "output_type": "execute_result"
    }
   ],
   "source": [
    "C = Fields(); C"
   ]
  },
  {
   "cell_type": "code",
   "execution_count": 116,
   "metadata": {
    "collapsed": false
   },
   "outputs": [
    {
     "data": {
      "text/plain": [
       "frozenset({Category of additive unital additive magmas,\n",
       "           Category of additive magmas,\n",
       "           Category of euclidean domains,\n",
       "           Category of unital magmas,\n",
       "           Category of magmas,\n",
       "           Category of sets with partial maps,\n",
       "           Category of sets})"
      ]
     },
     "execution_count": 116,
     "metadata": {},
     "output_type": "execute_result"
    }
   ],
   "source": [
    "C.structure()"
   ]
  },
  {
   "cell_type": "code",
   "execution_count": 115,
   "metadata": {
    "collapsed": false
   },
   "outputs": [
    {
     "data": {
      "text/plain": [
       "frozenset({'AdditiveAssociative',\n",
       "           'AdditiveCommutative',\n",
       "           'AdditiveInverse',\n",
       "           'AdditiveUnital',\n",
       "           'Associative',\n",
       "           'Commutative',\n",
       "           'Distributive',\n",
       "           'Division',\n",
       "           'NoZeroDivisors',\n",
       "           'Unital'})"
      ]
     },
     "execution_count": 115,
     "metadata": {},
     "output_type": "execute_result"
    }
   ],
   "source": [
    "C.axioms()"
   ]
  },
  {
   "cell_type": "code",
   "execution_count": 217,
   "metadata": {
    "collapsed": false
   },
   "outputs": [],
   "source": [
    "C = HopfAlgebras(QQ).Graded().Connected().Commutative().WithBasis()"
   ]
  },
  {
   "cell_type": "code",
   "execution_count": 218,
   "metadata": {
    "collapsed": false
   },
   "outputs": [
    {
     "data": {
      "text/plain": [
       "frozenset({Category of additive unital additive magmas,\n",
       "           Category of additive magmas,\n",
       "           Category of coalgebras over Rational Field,\n",
       "           Category of filtered modules over Rational Field,\n",
       "           Category of graded modules over Rational Field,\n",
       "           Category of hopf algebras over Rational Field,\n",
       "           Category of left modules over Rational Field,\n",
       "           Category of unital magmas,\n",
       "           Category of magmas,\n",
       "           Category of right modules over Rational Field,\n",
       "           Category of sets with partial maps,\n",
       "           Category of sets})"
      ]
     },
     "execution_count": 218,
     "metadata": {},
     "output_type": "execute_result"
    }
   ],
   "source": [
    "C.structure()"
   ]
  },
  {
   "cell_type": "code",
   "execution_count": 219,
   "metadata": {
    "collapsed": false
   },
   "outputs": [
    {
     "data": {
      "text/plain": [
       "frozenset({'AdditiveAssociative',\n",
       "           'AdditiveCommutative',\n",
       "           'AdditiveInverse',\n",
       "           'AdditiveUnital',\n",
       "           'Associative',\n",
       "           'Commutative',\n",
       "           'Connected',\n",
       "           'Distributive',\n",
       "           'Unital',\n",
       "           'WithBasis'})"
      ]
     },
     "execution_count": 219,
     "metadata": {},
     "output_type": "execute_result"
    }
   ],
   "source": [
    "C.axioms()"
   ]
  },
  {
   "cell_type": "markdown",
   "metadata": {},
   "source": [
    "## Operations on categories\n",
    "- Adding an axiom"
   ]
  },
  {
   "cell_type": "code",
   "execution_count": 98,
   "metadata": {
    "collapsed": false
   },
   "outputs": [
    {
     "data": {
      "text/plain": [
       "Category of commutative magmas"
      ]
     },
     "execution_count": 98,
     "metadata": {},
     "output_type": "execute_result"
    }
   ],
   "source": [
    "Magmas().Commutative()"
   ]
  },
  {
   "cell_type": "code",
   "execution_count": 99,
   "metadata": {
    "collapsed": false
   },
   "outputs": [
    {
     "data": {
      "text/plain": [
       "Category of commutative rings"
      ]
     },
     "execution_count": 99,
     "metadata": {},
     "output_type": "execute_result"
    }
   ],
   "source": [
    "Rings().Commutative()"
   ]
  },
  {
   "cell_type": "markdown",
   "metadata": {},
   "source": [
    "- Intersection"
   ]
  },
  {
   "cell_type": "code",
   "execution_count": 100,
   "metadata": {
    "collapsed": false
   },
   "outputs": [
    {
     "data": {
      "text/plain": [
       "Category of finite groups"
      ]
     },
     "execution_count": 100,
     "metadata": {},
     "output_type": "execute_result"
    }
   ],
   "source": [
    "Groups() & Sets().Finite()"
   ]
  },
  {
   "cell_type": "code",
   "execution_count": 101,
   "metadata": {
    "collapsed": false
   },
   "outputs": [
    {
     "data": {
      "text/plain": [
       "Category of distributive magmas and additive magmas"
      ]
     },
     "execution_count": 101,
     "metadata": {},
     "output_type": "execute_result"
    }
   ],
   "source": [
    "C = (AdditiveMagmas() & Magmas()).Distributive(); C"
   ]
  },
  {
   "cell_type": "code",
   "execution_count": 102,
   "metadata": {
    "collapsed": false
   },
   "outputs": [
    {
     "data": {
      "text/plain": [
       "Category of additive commutative additive associative additive unital distributive magmas and additive magmas"
      ]
     },
     "execution_count": 102,
     "metadata": {},
     "output_type": "execute_result"
    }
   ],
   "source": [
    "C = C.AdditiveAssociative().AdditiveUnital().AdditiveCommutative(); C"
   ]
  },
  {
   "cell_type": "code",
   "execution_count": 103,
   "metadata": {
    "collapsed": false
   },
   "outputs": [
    {
     "data": {
      "text/plain": [
       "Category of semirings"
      ]
     },
     "execution_count": 103,
     "metadata": {},
     "output_type": "execute_result"
    }
   ],
   "source": [
    "C = C.Associative().Unital(); C"
   ]
  },
  {
   "cell_type": "code",
   "execution_count": 104,
   "metadata": {
    "collapsed": false
   },
   "outputs": [
    {
     "data": {
      "text/plain": [
       "Category of rings"
      ]
     },
     "execution_count": 104,
     "metadata": {},
     "output_type": "execute_result"
    }
   ],
   "source": [
    "C = C.AdditiveInverse(); C"
   ]
  },
  {
   "cell_type": "code",
   "execution_count": 105,
   "metadata": {
    "collapsed": false
   },
   "outputs": [
    {
     "data": {
      "text/plain": [
       "Category of division rings"
      ]
     },
     "execution_count": 105,
     "metadata": {},
     "output_type": "execute_result"
    }
   ],
   "source": [
    "C = C.Division(); C"
   ]
  },
  {
   "cell_type": "code",
   "execution_count": 106,
   "metadata": {
    "collapsed": false
   },
   "outputs": [
    {
     "data": {
      "text/plain": [
       "Category of finite fields"
      ]
     },
     "execution_count": 106,
     "metadata": {},
     "output_type": "execute_result"
    }
   ],
   "source": [
    "C = C.Finite(); C"
   ]
  },
  {
   "cell_type": "code",
   "execution_count": 107,
   "metadata": {
    "collapsed": false
   },
   "outputs": [
    {
     "data": {
      "text/plain": [
       "frozenset({'AdditiveAssociative',\n",
       "           'AdditiveCommutative',\n",
       "           'AdditiveInverse',\n",
       "           'AdditiveUnital',\n",
       "           'Associative',\n",
       "           'Commutative',\n",
       "           'Distributive',\n",
       "           'Division',\n",
       "           'Finite',\n",
       "           'NoZeroDivisors',\n",
       "           'Unital'})"
      ]
     },
     "execution_count": 107,
     "metadata": {},
     "output_type": "execute_result"
    }
   ],
   "source": [
    "C.axioms()"
   ]
  },
  {
   "cell_type": "code",
   "execution_count": 108,
   "metadata": {
    "collapsed": false
   },
   "outputs": [
    {
     "data": {
      "text/plain": [
       "frozenset({Category of additive unital additive magmas,\n",
       "           Category of additive magmas,\n",
       "           Category of euclidean domains,\n",
       "           Category of unital magmas,\n",
       "           Category of magmas,\n",
       "           Category of sets with partial maps,\n",
       "           Category of sets})"
      ]
     },
     "execution_count": 108,
     "metadata": {},
     "output_type": "execute_result"
    }
   ],
   "source": [
    "C.structure()"
   ]
  }
 ],
 "metadata": {
  "kernelspec": {
   "display_name": "SageMath 7.3.beta1",
   "language": "",
   "name": "sagemath"
  },
  "language_info": {
   "codemirror_mode": {
    "name": "ipython",
    "version": 2
   },
   "file_extension": ".py",
   "mimetype": "text/x-python",
   "name": "python",
   "nbconvert_exporter": "python",
   "pygments_lexer": "ipython2",
   "version": "2.7.10"
  }
 },
 "nbformat": 4,
 "nbformat_minor": 0
}
