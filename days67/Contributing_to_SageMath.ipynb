{
 "cells": [
  {
   "cell_type": "markdown",
   "metadata": {},
   "source": [
    "# Contributing to SageMath: git and trac\n",
    "\n",
    "**Daniel Krenn**, *TU Graz*, *Austria*"
   ]
  },
  {
   "cell_type": "markdown",
   "metadata": {},
   "source": [
    "## Development Sites\n",
    "### General Information\n",
    "\n",
    "http://sagemath.org/development.html"
   ]
  },
  {
   "cell_type": "markdown",
   "metadata": {},
   "source": [
    "### SageMath's Developer Guide\n",
    "http://www.sagemath.org/doc/developer/index.html"
   ]
  },
  {
   "cell_type": "markdown",
   "metadata": {},
   "source": [
    "## The Trac Server\n",
    "\n",
    "http://trac.sagemath.org/"
   ]
  },
  {
   "cell_type": "markdown",
   "metadata": {},
   "source": [
    "## Changing Code\n",
    "\n",
    "### Building Changes\n",
    "    sage -br\n",
    "\n",
    "### Creating a Snapshot\n",
    "    git checkout -b name/of/branch\n",
    "    git commit --all"
   ]
  },
  {
   "cell_type": "markdown",
   "metadata": {},
   "source": [
    "## Doctesting\n",
    "\n",
    "    sage -t\n",
    "    sage -coverage"
   ]
  },
  {
   "cell_type": "markdown",
   "metadata": {},
   "source": [
    "## Push/Pull changes to/from Trac\n",
    "\n",
    "### Get Changes\n",
    "\n",
    "    git fetch trac\n",
    "    git merge name/of/branch\n",
    "or\n",
    "\n",
    "    git pull trac name/of/branch\n",
    "\n",
    "### Pushing Changes Manually\n",
    "    \n",
    "    git push trac name/of/branch:trac/branch/name\n",
    "\n",
    "### More Comfort\n",
    "    \n",
    "    git trac push 12345"
   ]
  }
 ],
 "metadata": {
  "kernelspec": {
   "display_name": "Python 2",
   "language": "python",
   "name": "python2"
  },
  "language_info": {
   "codemirror_mode": {
    "name": "ipython",
    "version": 2
   },
   "file_extension": ".py",
   "mimetype": "text/x-python",
   "name": "python",
   "nbconvert_exporter": "python",
   "pygments_lexer": "ipython2",
   "version": "2.7.8"
  }
 },
 "nbformat": 4,
 "nbformat_minor": 0
}
