{
 "cells": [
  {
   "cell_type": "markdown",
   "metadata": {},
   "source": [
    "Sage presentation, Oaxaca Mexico, May 2016\n",
    "==========================================\n",
    "(Vincent Delecroix, CNRS Bordeaux, France supported by [OpenDreamKit](http://opendreamkit.org/))\n",
    "\n",
    "<div style=\"align:center; margin-top: 20px; margin-bottom:20px\">\n",
    "<img src=\"http://localhost:8888/files/sage_logo.png\"> <br/>\n",
    "<img style=\"display:inline; margin-right:50px;\" src=\"http://localhost:8888/files/Flag_of_Europe-small.png\">\n",
    "<img style=\"display:inline; margin-bottom:12px;\" src=\"http://localhost:8888/files/Flag_of_Mexico-small.png\">\n",
    "</div>\n",
    "\n",
    "Sage (or SageMath) is a free and open source software for mathematics. It  was started by William Stein in 2005 and is now developed by many volunteers around the world.\n",
    "\n",
    "Sage can be used in many different ways:\n",
    "\n",
    "- console mode (`$ sage`)\n",
    "- sage notebook (`$ sage --notebook=sagenb`)\n",
    "- jupyter notebook (`$ sage --notebook=jupyter`)\n",
    "- as a program run on a file which contain commands (`$ sage my_file.py`)\n",
    "- online cell https://sagecell.sagemath.org/\n",
    "- online cloud http://cloud.sagemath.com\n",
    "\n",
    "Other links:\n",
    "\n",
    " - main website: http://www.sagemath.org/\n",
    " - help forum: http://ask.sagemath.org"
   ]
  },
  {
   "cell_type": "markdown",
   "metadata": {},
   "source": [
    "Sage is based on Python\n",
    "-----------------------\n",
    "\n",
    "  - expressive and flexible language\n",
    "  - used around the world by thousands of programers outside of Sage\n",
    "\n",
    "For example the list `{i^2: i=0,1,...,12 s.t. gcd(i,30) = 1}` is constructed via"
   ]
  },
  {
   "cell_type": "code",
   "execution_count": null,
   "metadata": {
    "collapsed": false
   },
   "outputs": [],
   "source": [
    "[i**2 for i in range(13) if gcd(i,30) == 1]"
   ]
  },
  {
   "cell_type": "code",
   "execution_count": null,
   "metadata": {
    "collapsed": true
   },
   "outputs": [],
   "source": []
  },
  {
   "cell_type": "markdown",
   "metadata": {},
   "source": [
    "Sage behavior is not exactly the one of Python. Sage primarily focuses on mathematics."
   ]
  },
  {
   "cell_type": "code",
   "execution_count": null,
   "metadata": {
    "collapsed": false
   },
   "outputs": [],
   "source": [
    "14341231237.is_prime()"
   ]
  },
  {
   "cell_type": "code",
   "execution_count": null,
   "metadata": {
    "collapsed": false
   },
   "outputs": [],
   "source": [
    "25512318.factor()"
   ]
  },
  {
   "cell_type": "code",
   "execution_count": null,
   "metadata": {
    "collapsed": false
   },
   "outputs": [],
   "source": [
    "a = 3.5\n",
    "(a^5 - 3*a^4) .exp()"
   ]
  },
  {
   "cell_type": "code",
   "execution_count": null,
   "metadata": {
    "collapsed": false
   },
   "outputs": [],
   "source": [
    "continued_fraction(pi)"
   ]
  },
  {
   "cell_type": "code",
   "execution_count": null,
   "metadata": {
    "collapsed": false
   },
   "outputs": [],
   "source": [
    "plot(cos(x), (x, 0, 2*pi))"
   ]
  },
  {
   "cell_type": "markdown",
   "metadata": {},
   "source": [
    "Note that in some of the above examples we used the syntax `x.f()` that has to be thought as the application of the function `f` to the object `x` (a more standard mathematical syntax is `f(x)`). Indeed Python is object oriented and functions are attached to objects (in that context these are called *methods*)."
   ]
  },
  {
   "cell_type": "markdown",
   "metadata": {},
   "source": [
    "Finding commands, accessing help\n",
    "--------------------------------\n",
    "\n",
    "- `<TAB>` automatic completion\n",
    "- ?`<ENTER>` accessing help\n",
    "- ??`<ENTER>` accessing source code"
   ]
  },
  {
   "cell_type": "code",
   "execution_count": null,
   "metadata": {
    "collapsed": true
   },
   "outputs": [],
   "source": [
    "is_p"
   ]
  },
  {
   "cell_type": "code",
   "execution_count": null,
   "metadata": {
    "collapsed": true
   },
   "outputs": [],
   "source": [
    "is_prime?"
   ]
  },
  {
   "cell_type": "code",
   "execution_count": null,
   "metadata": {
    "collapsed": true
   },
   "outputs": [],
   "source": [
    "is_prime??"
   ]
  },
  {
   "cell_type": "code",
   "execution_count": null,
   "metadata": {
    "collapsed": true
   },
   "outputs": [],
   "source": []
  },
  {
   "cell_type": "code",
   "execution_count": null,
   "metadata": {
    "collapsed": true
   },
   "outputs": [],
   "source": [
    "a = 34"
   ]
  },
  {
   "cell_type": "code",
   "execution_count": null,
   "metadata": {
    "collapsed": true
   },
   "outputs": [],
   "source": [
    "a."
   ]
  },
  {
   "cell_type": "code",
   "execution_count": null,
   "metadata": {
    "collapsed": true
   },
   "outputs": [],
   "source": [
    "a?"
   ]
  },
  {
   "cell_type": "code",
   "execution_count": null,
   "metadata": {
    "collapsed": true
   },
   "outputs": [],
   "source": [
    "a.str?"
   ]
  },
  {
   "cell_type": "code",
   "execution_count": null,
   "metadata": {
    "collapsed": true
   },
   "outputs": [],
   "source": [
    "a.str??"
   ]
  },
  {
   "cell_type": "code",
   "execution_count": null,
   "metadata": {
    "collapsed": false
   },
   "outputs": [],
   "source": []
  },
  {
   "cell_type": "markdown",
   "metadata": {},
   "source": [
    "Sage as an interface\n",
    "--------------------\n",
    "\n",
    "Sage was primarily thought as an interface to hundreds of specialized softwares (GAP, pari/GP, maxima, R, ...) and libraries (mpfr, gmp, flint, numpy, ...). But it now contains more than 2.000.000 lines of Python/Cython/C code."
   ]
  },
  {
   "cell_type": "code",
   "execution_count": null,
   "metadata": {
    "collapsed": false
   },
   "outputs": [],
   "source": [
    "a = 1234\n",
    "b = pari(a)          # pari/GP version of a\n",
    "c = b.Zn_sqrt(2597)  # call to a pari method\n",
    "print c\n",
    "d = ZZ(c)            # convert back to Sage\n",
    "print d"
   ]
  },
  {
   "cell_type": "code",
   "execution_count": null,
   "metadata": {
    "collapsed": false
   },
   "outputs": [],
   "source": [
    "print type(c)\n",
    "print type(d)\n",
    "print parent(c)\n",
    "print parent(d)"
   ]
  },
  {
   "cell_type": "code",
   "execution_count": null,
   "metadata": {
    "collapsed": true
   },
   "outputs": [],
   "source": []
  },
  {
   "cell_type": "code",
   "execution_count": null,
   "metadata": {
    "collapsed": false
   },
   "outputs": [],
   "source": [
    "p = gap('(1,2,4)(3,5)')\n",
    "print p\n",
    "print p.Order()"
   ]
  },
  {
   "cell_type": "code",
   "execution_count": null,
   "metadata": {
    "collapsed": false
   },
   "outputs": [],
   "source": [
    "# to convert p back to a Sage element is not that simple!\n",
    "print SymmetricGroup(5)(p)"
   ]
  },
  {
   "cell_type": "code",
   "execution_count": null,
   "metadata": {
    "collapsed": true
   },
   "outputs": [],
   "source": []
  },
  {
   "cell_type": "code",
   "execution_count": null,
   "metadata": {
    "collapsed": false
   },
   "outputs": [],
   "source": [
    "s = pari(\"Ser( (1-x)^(-3))\")\n",
    "print s\n",
    "print s.log()"
   ]
  },
  {
   "cell_type": "code",
   "execution_count": null,
   "metadata": {
    "collapsed": false
   },
   "outputs": [],
   "source": [
    "# to convert s back to a Sage element is not that simple either!!\n",
    "s.sage(locals={'x':PowerSeriesRing(ZZ,'x').gen()})"
   ]
  },
  {
   "cell_type": "code",
   "execution_count": null,
   "metadata": {
    "collapsed": true
   },
   "outputs": [],
   "source": []
  },
  {
   "cell_type": "code",
   "execution_count": null,
   "metadata": {
    "collapsed": false
   },
   "outputs": [],
   "source": []
  },
  {
   "cell_type": "code",
   "execution_count": null,
   "metadata": {
    "collapsed": false
   },
   "outputs": [],
   "source": []
  },
  {
   "cell_type": "code",
   "execution_count": null,
   "metadata": {
    "collapsed": true
   },
   "outputs": [],
   "source": []
  },
  {
   "cell_type": "markdown",
   "metadata": {},
   "source": [
    "Two graph examples\n",
    "------------------\n",
    "\n",
    "The graph on 5 vertices and at most 4 edges up to isomorphism"
   ]
  },
  {
   "cell_type": "code",
   "execution_count": null,
   "metadata": {
    "collapsed": false
   },
   "outputs": [],
   "source": [
    "show(graphs(5, lambda G: G.size() <= 4))"
   ]
  },
  {
   "cell_type": "code",
   "execution_count": null,
   "metadata": {
    "collapsed": true
   },
   "outputs": [],
   "source": []
  },
  {
   "cell_type": "markdown",
   "metadata": {},
   "source": [
    "Next, we consider a one player game (which has interest only if there is a time limit). We have cards numbered from 1 to 100. The aim is to produce the longest chain which has the following property: two cards are allowed to be next to each other if one of their value divides the other.\n",
    "\n",
    "For example, 1, 12, 6, 42, 7 is a valid chain.\n",
    "\n",
    "(*technical note:* this example will work only if you setup an efficient linear programming solver either CPLEX or Gurobi.)"
   ]
  },
  {
   "cell_type": "code",
   "execution_count": null,
   "metadata": {
    "collapsed": true
   },
   "outputs": [],
   "source": [
    "G = Graph()  # creates an empty graph\n",
    "for i in range(1,101):\n",
    "    j = 1\n",
    "    while i*j < 100:\n",
    "        G.add_edge(i,i*j,None)\n",
    "        j += 1"
   ]
  },
  {
   "cell_type": "code",
   "execution_count": null,
   "metadata": {
    "collapsed": false
   },
   "outputs": [],
   "source": [
    "print G.num_verts()\n",
    "print G.num_edges()"
   ]
  },
  {
   "cell_type": "code",
   "execution_count": null,
   "metadata": {
    "collapsed": true
   },
   "outputs": [],
   "source": [
    "H = G.longest_path()"
   ]
  },
  {
   "cell_type": "code",
   "execution_count": null,
   "metadata": {
    "collapsed": false
   },
   "outputs": [],
   "source": [
    "H.show()"
   ]
  },
  {
   "cell_type": "code",
   "execution_count": null,
   "metadata": {
    "collapsed": true
   },
   "outputs": [],
   "source": []
  },
  {
   "cell_type": "markdown",
   "metadata": {},
   "source": [
    "Cython\n",
    "------\n",
    "\n",
    "If further speed is needed, you can code in Cython or integrate C code very easily (technical note: Sage is better supported in the console and the Sage notebook)"
   ]
  },
  {
   "cell_type": "code",
   "execution_count": null,
   "metadata": {
    "collapsed": true
   },
   "outputs": [],
   "source": [
    "def f_python(x):\n",
    "    y = x\n",
    "    for i in range(100):\n",
    "        y = 3.5 * y * (1-y)\n",
    "    return y"
   ]
  },
  {
   "cell_type": "code",
   "execution_count": null,
   "metadata": {
    "collapsed": false
   },
   "outputs": [],
   "source": [
    "cython(\"\"\"\n",
    "def f_cython(double x):\n",
    "    cdef double y\n",
    "    cdef int i\n",
    "    y = x\n",
    "    for i in range(100):\n",
    "        y = 3.5 * y * (1-y)\n",
    "    return y\n",
    "\"\"\")"
   ]
  },
  {
   "cell_type": "code",
   "execution_count": null,
   "metadata": {
    "collapsed": false
   },
   "outputs": [],
   "source": [
    "print f_python(0.2)\n",
    "print f_cython(0.2)"
   ]
  },
  {
   "cell_type": "code",
   "execution_count": null,
   "metadata": {
    "collapsed": false
   },
   "outputs": [],
   "source": [
    "%%timeit\n",
    "f_python(0.2)"
   ]
  },
  {
   "cell_type": "code",
   "execution_count": null,
   "metadata": {
    "collapsed": false
   },
   "outputs": [],
   "source": [
    "%%timeit\n",
    "f_cython(0.2)"
   ]
  },
  {
   "cell_type": "code",
   "execution_count": null,
   "metadata": {
    "collapsed": true
   },
   "outputs": [],
   "source": []
  },
  {
   "cell_type": "code",
   "execution_count": null,
   "metadata": {
    "collapsed": true
   },
   "outputs": [],
   "source": []
  },
  {
   "cell_type": "markdown",
   "metadata": {},
   "source": [
    "Some graphics\n",
    "-------------\n",
    "\n",
    "There are many graphics primitive in Sage:\n",
    "\n",
    "- `point2d` (or `point3d`): list of points\n",
    "- `line2d` (or `line3d`): broken line\n",
    "- `plot`: graph of functions\n",
    "- `polygon`, `circle`, `ellipse`\n",
    "- and many objects do have a `plot` method\n",
    "\n",
    "Then to sum primitive just use the standard `+` operator."
   ]
  },
  {
   "cell_type": "code",
   "execution_count": 18,
   "metadata": {
    "collapsed": false
   },
   "outputs": [
    {
     "data": {
      "image/png": "[encoded data removed]",
      "text/plain": [
       "Graphics object consisting of 3 graphics primitives"
      ]
     },
     "execution_count": 18,
     "metadata": {},
     "output_type": "execute_result"
    }
   ],
   "source": [
    "f(x) = exp(x) * cos(x)\n",
    "G = plot(f, (x,-1,2))\n",
    "df = f.derivative(x)\n",
    "a = f(1)\n",
    "b = df(1)\n",
    "L = line2d([(0, a-b), (2, a+b)], color='red')\n",
    "P = point2d((1,a), pointsize=20)\n",
    "G + L + P"
   ]
  },
  {
   "cell_type": "code",
   "execution_count": 15,
   "metadata": {
    "collapsed": false
   },
   "outputs": [
    {
     "data": {
      "image/png": "[encoded data removed]",
      "text/plain": [
       "Graphics object consisting of 9 graphics primitives"
      ]
     },
     "execution_count": 15,
     "metadata": {},
     "output_type": "execute_result"
    }
   ],
   "source": [
    "V = RR^2\n",
    "pts = [V.random_element() for _ in range(20)]\n",
    "P = Polyhedron(pts)\n",
    "point2d(pts, color='red') + P.plot(alpha=0.1)"
   ]
  },
  {
   "cell_type": "code",
   "execution_count": null,
   "metadata": {
    "collapsed": true
   },
   "outputs": [],
   "source": []
  },
  {
   "cell_type": "markdown",
   "metadata": {
    "collapsed": true
   },
   "source": [
    "Going further\n",
    "-------------\n",
    "\n",
    "To continue you are advised to open the sage-notebook (via `$ sage --notebook=sagenb`) and have a look at the various thematic tutorials that will guide you. Once the sage-notebook is open, you need to click on the `Help` link (top right of the screen) and then select `Thematic Tutorials`."
   ]
  },
  {
   "cell_type": "code",
   "execution_count": null,
   "metadata": {
    "collapsed": false
   },
   "outputs": [],
   "source": []
  },
  {
   "cell_type": "code",
   "execution_count": null,
   "metadata": {
    "collapsed": false
   },
   "outputs": [],
   "source": []
  },
  {
   "cell_type": "code",
   "execution_count": null,
   "metadata": {
    "collapsed": true
   },
   "outputs": [],
   "source": []
  }
 ],
 "metadata": {
  "kernelspec": {
   "display_name": "SageMath 7.2.beta6",
   "language": "",
   "name": "sagemath"
  },
  "language_info": {
   "codemirror_mode": {
    "name": "ipython",
    "version": 2
   },
   "file_extension": ".py",
   "mimetype": "text/x-python",
   "name": "python",
   "nbconvert_exporter": "python",
   "pygments_lexer": "ipython2",
   "version": "2.7.10"
  }
 },
 "nbformat": 4,
 "nbformat_minor": 0
}
