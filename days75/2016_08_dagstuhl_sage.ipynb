{
 "cells": [
  {
   "cell_type": "markdown",
   "metadata": {},
   "source": [
    "#  \n",
    "#  \n",
    "#  \n",
    "#  \n",
    "#  \n",
    "# Dagstuhl 11/08/2016\n",
    "## SageMath for Coding Theory teaching and research (in the time of Big Data)\n",
    "\n",
    "#  \n",
    "#  \n",
    "#  \n",
    "#  \n",
    "#  \n",
    "#  \n",
    "#  \n",
    "#  \n",
    "#  \n",
    "#  \n",
    "\n",
    "\n",
    "\n",
    "### SageMath is a powerful Open-Source computer-algebra system\n",
    "    - Embeds many other projects: GAP, Singular, Macaulay2, NTL, FLINT, ...\n",
    "    - Rapid prototyping, uses a real programming language (Python)\n",
    "    - Powerful for experimentation using worksheets\n",
    "    - Open-Source: Don't like it: fix it!\n",
    "    - SageMathCloud brilliant for class-room. No installation, great interface.\n",
    "    - ...\n",
    "    \n",
    "### SageMath has matured a lot the last years\n",
    "    - If you tried it 5 years ago -- perhaps time to revisit it?\n",
    "    \n",
    "    \n",
    "    \n",
    "    \n",
    "### ACTIS: Algorithmic Coding Theory in Sage\n",
    "    - 2014-2016: one full-time engineer for improving CT in SageMath\n",
    "    - People: David Lucas (engineer), Daniel Augot, Clément Pernet, myself\n",
    "    \n",
    "#   \n",
    "\n",
    "#  \n",
    "\n",
    "#  \n",
    "#  \n",
    "#  \n"
   ]
  },
  {
   "cell_type": "markdown",
   "metadata": {},
   "source": [
    "### Basic stuff (you might have seen all this before)"
   ]
  },
  {
   "cell_type": "code",
   "execution_count": 51,
   "metadata": {
    "collapsed": false
   },
   "outputs": [],
   "source": [
    "%display latex"
   ]
  },
  {
   "cell_type": "code",
   "execution_count": 52,
   "metadata": {
    "collapsed": false
   },
   "outputs": [
    {
     "name": "stdout",
     "output_type": "stream",
     "text": [
      "Linear code of length 5, dimension 3 over Finite Field of size 2\n"
     ]
    }
   ],
   "source": [
    "G = matrix(GF(2),  [ [ 1, 0, 0, 1, 1 ],\n",
    "                     [ 0, 1, 0, 1, 0 ],\n",
    "                     [ 0, 0, 1, 0, 1 ] ])\n",
    "C = LinearCode(G)\n",
    "print C"
   ]
  },
  {
   "cell_type": "code",
   "execution_count": 53,
   "metadata": {
    "collapsed": false
   },
   "outputs": [
    {
     "data": {
      "text/html": [
       "<html><script type=\"math/tex; mode=display\">\\newcommand{\\Bold}[1]{\\mathbf{#1}}2</script></html>"
      ],
      "text/plain": [
       "2"
      ]
     },
     "execution_count": 53,
     "metadata": {},
     "output_type": "execute_result"
    }
   ],
   "source": [
    "C.minimum_distance()"
   ]
  },
  {
   "cell_type": "code",
   "execution_count": 54,
   "metadata": {
    "collapsed": false
   },
   "outputs": [
    {
     "data": {
      "text/html": [
       "<html><script type=\"math/tex; mode=display\">\\newcommand{\\Bold}[1]{\\mathbf{#1}}\\left(1,\\,0,\\,1,\\,1,\\,0\\right)</script></html>"
      ],
      "text/plain": [
       "(1, 0, 1, 1, 0)"
      ]
     },
     "execution_count": 54,
     "metadata": {},
     "output_type": "execute_result"
    }
   ],
   "source": [
    "C.random_element()"
   ]
  },
  {
   "cell_type": "code",
   "execution_count": 55,
   "metadata": {
    "collapsed": false
   },
   "outputs": [
    {
     "data": {
      "text/html": [
       "<html><script type=\"math/tex; mode=display\">\\newcommand{\\Bold}[1]{\\mathbf{#1}}\\left(\\left[\\begin{array}{l}\n",
       "\\verb|((1,|\\phantom{\\verb!x!}\\verb|1,|\\phantom{\\verb!x!}\\verb|1,|\\phantom{\\verb!x!}\\verb|1,|\\phantom{\\verb!x!}\\verb|1);|\\phantom{\\verb!x!}\\verb|(),|\\phantom{\\verb!x!}\\verb|Ring|\\phantom{\\verb!x!}\\verb|endomorphism|\\phantom{\\verb!x!}\\verb|of|\\phantom{\\verb!x!}\\verb|Finite|\\phantom{\\verb!x!}\\verb|Field|\\phantom{\\verb!x!}\\verb|of|\\phantom{\\verb!x!}\\verb|size|\\phantom{\\verb!x!}\\verb|2|\\\\\n",
       "\\phantom{\\verb!xx!}\\verb\"Defn:\"\\phantom{\\verb!x!}\\verb\"1\"\\phantom{\\verb!x!}\\verb\"|-->\"\\phantom{\\verb!x!}\\verb\"1)\"\n",
       "\\end{array}, \\begin{array}{l}\n",
       "\\verb|((1,|\\phantom{\\verb!x!}\\verb|1,|\\phantom{\\verb!x!}\\verb|1,|\\phantom{\\verb!x!}\\verb|1,|\\phantom{\\verb!x!}\\verb|1);|\\phantom{\\verb!x!}\\verb|(),|\\phantom{\\verb!x!}\\verb|Ring|\\phantom{\\verb!x!}\\verb|endomorphism|\\phantom{\\verb!x!}\\verb|of|\\phantom{\\verb!x!}\\verb|Finite|\\phantom{\\verb!x!}\\verb|Field|\\phantom{\\verb!x!}\\verb|of|\\phantom{\\verb!x!}\\verb|size|\\phantom{\\verb!x!}\\verb|2|\\\\\n",
       "\\phantom{\\verb!xx!}\\verb\"Defn:\"\\phantom{\\verb!x!}\\verb\"1\"\\phantom{\\verb!x!}\\verb\"|-->\"\\phantom{\\verb!x!}\\verb\"1)\"\n",
       "\\end{array}, \\begin{array}{l}\n",
       "\\verb|((1,|\\phantom{\\verb!x!}\\verb|1,|\\phantom{\\verb!x!}\\verb|1,|\\phantom{\\verb!x!}\\verb|1,|\\phantom{\\verb!x!}\\verb|1);|\\phantom{\\verb!x!}\\verb|(2,3)(4,5),|\\phantom{\\verb!x!}\\verb|Ring|\\phantom{\\verb!x!}\\verb|endomorphism|\\phantom{\\verb!x!}\\verb|of|\\phantom{\\verb!x!}\\verb|Finite|\\phantom{\\verb!x!}\\verb|Field|\\phantom{\\verb!x!}\\verb|of|\\phantom{\\verb!x!}\\verb|size|\\phantom{\\verb!x!}\\verb|2|\\\\\n",
       "\\phantom{\\verb!xx!}\\verb\"Defn:\"\\phantom{\\verb!x!}\\verb\"1\"\\phantom{\\verb!x!}\\verb\"|-->\"\\phantom{\\verb!x!}\\verb\"1)\"\n",
       "\\end{array}, \\begin{array}{l}\n",
       "\\verb|((1,|\\phantom{\\verb!x!}\\verb|1,|\\phantom{\\verb!x!}\\verb|1,|\\phantom{\\verb!x!}\\verb|1,|\\phantom{\\verb!x!}\\verb|1);|\\phantom{\\verb!x!}\\verb|(2,4),|\\phantom{\\verb!x!}\\verb|Ring|\\phantom{\\verb!x!}\\verb|endomorphism|\\phantom{\\verb!x!}\\verb|of|\\phantom{\\verb!x!}\\verb|Finite|\\phantom{\\verb!x!}\\verb|Field|\\phantom{\\verb!x!}\\verb|of|\\phantom{\\verb!x!}\\verb|size|\\phantom{\\verb!x!}\\verb|2|\\\\\n",
       "\\phantom{\\verb!xx!}\\verb\"Defn:\"\\phantom{\\verb!x!}\\verb\"1\"\\phantom{\\verb!x!}\\verb\"|-->\"\\phantom{\\verb!x!}\\verb\"1)\"\n",
       "\\end{array}, \\begin{array}{l}\n",
       "\\verb|((1,|\\phantom{\\verb!x!}\\verb|1,|\\phantom{\\verb!x!}\\verb|1,|\\phantom{\\verb!x!}\\verb|1,|\\phantom{\\verb!x!}\\verb|1);|\\phantom{\\verb!x!}\\verb|(3,5),|\\phantom{\\verb!x!}\\verb|Ring|\\phantom{\\verb!x!}\\verb|endomorphism|\\phantom{\\verb!x!}\\verb|of|\\phantom{\\verb!x!}\\verb|Finite|\\phantom{\\verb!x!}\\verb|Field|\\phantom{\\verb!x!}\\verb|of|\\phantom{\\verb!x!}\\verb|size|\\phantom{\\verb!x!}\\verb|2|\\\\\n",
       "\\phantom{\\verb!xx!}\\verb\"Defn:\"\\phantom{\\verb!x!}\\verb\"1\"\\phantom{\\verb!x!}\\verb\"|-->\"\\phantom{\\verb!x!}\\verb\"1)\"\n",
       "\\end{array}\\right], 8\\right)</script></html>"
      ],
      "text/plain": [
       "([((1, 1, 1, 1, 1); (), Ring endomorphism of Finite Field of size 2\n",
       "    Defn: 1 |--> 1),\n",
       "  ((1, 1, 1, 1, 1); (), Ring endomorphism of Finite Field of size 2\n",
       "    Defn: 1 |--> 1),\n",
       "  ((1, 1, 1, 1, 1); (2,3)(4,5), Ring endomorphism of Finite Field of size 2\n",
       "    Defn: 1 |--> 1),\n",
       "  ((1, 1, 1, 1, 1); (2,4), Ring endomorphism of Finite Field of size 2\n",
       "    Defn: 1 |--> 1),\n",
       "  ((1, 1, 1, 1, 1); (3,5), Ring endomorphism of Finite Field of size 2\n",
       "    Defn: 1 |--> 1)],\n",
       " 8)"
      ]
     },
     "execution_count": 55,
     "metadata": {},
     "output_type": "execute_result"
    }
   ],
   "source": [
    "C.automorphism_group_gens()"
   ]
  },
  {
   "cell_type": "code",
   "execution_count": 56,
   "metadata": {
    "collapsed": false
   },
   "outputs": [
    {
     "data": {
      "text/html": [
       "<html><script type=\"math/tex; mode=display\">\\newcommand{\\Bold}[1]{\\mathbf{#1}}\\left(0,\\,0,\\,1,\\,0,\\,1\\right)</script></html>"
      ],
      "text/plain": [
       "(0, 0, 1, 0, 1)"
      ]
     },
     "execution_count": 56,
     "metadata": {},
     "output_type": "execute_result"
    }
   ],
   "source": [
    "m = vector(GF(2), [0,0,1])\n",
    "c = C.encode(m)\n",
    "c"
   ]
  },
  {
   "cell_type": "code",
   "execution_count": 60,
   "metadata": {
    "collapsed": false
   },
   "outputs": [
    {
     "data": {
      "text/html": [
       "<html><script type=\"math/tex; mode=display\">\\newcommand{\\Bold}[1]{\\mathbf{#1}}\\left(1,\\,0,\\,1,\\,0,\\,1\\right)</script></html>"
      ],
      "text/plain": [
       "(1, 0, 1, 0, 1)"
      ]
     },
     "execution_count": 60,
     "metadata": {},
     "output_type": "execute_result"
    }
   ],
   "source": [
    "r = c + vector(GF(2), [1,0,0,0,0])\n",
    "r"
   ]
  },
  {
   "cell_type": "code",
   "execution_count": 61,
   "metadata": {
    "collapsed": false
   },
   "outputs": [
    {
     "data": {
      "text/html": [
       "<html><script type=\"math/tex; mode=display\">\\newcommand{\\Bold}[1]{\\mathbf{#1}}\\left(0,\\,0,\\,1,\\,0,\\,1\\right)</script></html>"
      ],
      "text/plain": [
       "(0, 0, 1, 0, 1)"
      ]
     },
     "execution_count": 61,
     "metadata": {},
     "output_type": "execute_result"
    }
   ],
   "source": [
    "C.decode_to_code(r)"
   ]
  },
  {
   "cell_type": "code",
   "execution_count": 62,
   "metadata": {
    "collapsed": false
   },
   "outputs": [
    {
     "data": {
      "text/html": [
       "<html><script type=\"math/tex; mode=display\">\\newcommand{\\Bold}[1]{\\mathbf{#1}}\\left(0,\\,0,\\,1\\right)</script></html>"
      ],
      "text/plain": [
       "(0, 0, 1)"
      ]
     },
     "execution_count": 62,
     "metadata": {},
     "output_type": "execute_result"
    }
   ],
   "source": [
    "C.decode_to_message(r)"
   ]
  },
  {
   "cell_type": "markdown",
   "metadata": {},
   "source": [
    "\n",
    "#  \n",
    "\n",
    "#  \n",
    "\n",
    "#  \n",
    "\n",
    "#  \n",
    "\n",
    "# Some codes have structure"
   ]
  },
  {
   "cell_type": "code",
   "execution_count": 63,
   "metadata": {
    "collapsed": false
   },
   "outputs": [
    {
     "name": "stdout",
     "output_type": "stream",
     "text": [
      "[59, 16, 44] Generalized Reed-Solomon Code over Finite Field of size 59\n"
     ]
    }
   ],
   "source": [
    "F = GF(59)\n",
    "C = codes.GeneralizedReedSolomonCode(F.list(), 16)\n",
    "print C"
   ]
  },
  {
   "cell_type": "code",
   "execution_count": 64,
   "metadata": {
    "collapsed": false
   },
   "outputs": [
    {
     "data": {
      "text/html": [
       "<html><script type=\"math/tex; mode=display\">\\newcommand{\\Bold}[1]{\\mathbf{#1}}44</script></html>"
      ],
      "text/plain": [
       "44"
      ]
     },
     "execution_count": 64,
     "metadata": {},
     "output_type": "execute_result"
    }
   ],
   "source": [
    "C.minimum_distance()"
   ]
  },
  {
   "cell_type": "code",
   "execution_count": 65,
   "metadata": {
    "collapsed": false
   },
   "outputs": [
    {
     "data": {
      "text/html": [
       "<html><script type=\"math/tex; mode=display\">\\newcommand{\\Bold}[1]{\\mathbf{#1}}7863486030543333673826577152x^{59} + 7999063375898830502902284856x^{58} + 3999531687939483355061080628x^{57} + 1310191415061834848303837204x^{56} + 316253100031228092883970512x^{55} + 59979036594424651251242464x^{54} + 9307091172531426256620792x^{53} + 1214966141686536287568696x^{52} + 136158808124233130392728x^{51} + 13303951456614403046748x^{50} + 1146121368021180420870x^{49} + 88454301571049513190x^{48} + 5917613161578583920x^{47} + 426302056363431360x^{46} + 11569714399416600x^{45} + 2313942879883320x^{44} + 1</script></html>"
      ],
      "text/plain": [
       "7863486030543333673826577152*x^59 + 7999063375898830502902284856*x^58 + 3999531687939483355061080628*x^57 + 1310191415061834848303837204*x^56 + 316253100031228092883970512*x^55 + 59979036594424651251242464*x^54 + 9307091172531426256620792*x^53 + 1214966141686536287568696*x^52 + 136158808124233130392728*x^51 + 13303951456614403046748*x^50 + 1146121368021180420870*x^49 + 88454301571049513190*x^48 + 5917613161578583920*x^47 + 426302056363431360*x^46 + 11569714399416600*x^45 + 2313942879883320*x^44 + 1"
      ]
     },
     "execution_count": 65,
     "metadata": {},
     "output_type": "execute_result"
    }
   ],
   "source": [
    "C.weight_enumerator()"
   ]
  },
  {
   "cell_type": "code",
   "execution_count": 66,
   "metadata": {
    "collapsed": false
   },
   "outputs": [
    {
     "data": {
      "text/html": [
       "<html><script type=\"math/tex; mode=display\">\\newcommand{\\Bold}[1]{\\mathbf{#1}}\\left(0,\\,0,\\,0,\\,0,\\,0,\\,0,\\,0,\\,13,\\,1,\\,48,\\,0,\\,0,\\,0,\\,0,\\,0,\\,0,\\,0,\\,0,\\,0,\\,0,\\,0,\\,42,\\,49,\\,0,\\,0,\\,0,\\,0,\\,0,\\,13,\\,2,\\,0,\\,53,\\,0,\\,0,\\,0,\\,0,\\,0,\\,0,\\,0,\\,14,\\,28,\\,0,\\,0,\\,0,\\,40,\\,52,\\,0,\\,0,\\,41,\\,0,\\,0,\\,0,\\,0,\\,0,\\,0,\\,0,\\,0,\\,0,\\,0\\right)</script></html>"
      ],
      "text/plain": [
       "(0, 0, 0, 0, 0, 0, 0, 13, 1, 48, 0, 0, 0, 0, 0, 0, 0, 0, 0, 0, 0, 42, 49, 0, 0, 0, 0, 0, 13, 2, 0, 53, 0, 0, 0, 0, 0, 0, 0, 14, 28, 0, 0, 0, 40, 52, 0, 0, 41, 0, 0, 0, 0, 0, 0, 0, 0, 0, 0)"
      ]
     },
     "execution_count": 66,
     "metadata": {},
     "output_type": "execute_result"
    }
   ],
   "source": [
    "c = C.random_element()\n",
    "Ch = channels.StaticErrorRateChannel(F^C.length(), 13)\n",
    "\n",
    "r = Ch.transmit(c)\n",
    "r-c"
   ]
  },
  {
   "cell_type": "code",
   "execution_count": 67,
   "metadata": {
    "collapsed": false
   },
   "outputs": [
    {
     "data": {
      "text/html": [
       "<html><script type=\"math/tex; mode=display\">\\newcommand{\\Bold}[1]{\\mathbf{#1}}\\mathrm{True}</script></html>"
      ],
      "text/plain": [
       "True"
      ]
     },
     "execution_count": 67,
     "metadata": {},
     "output_type": "execute_result"
    }
   ],
   "source": [
    "c_out = C.decode_to_code(r)\n",
    "c == c_out"
   ]
  },
  {
   "cell_type": "markdown",
   "metadata": {},
   "source": [
    "#   \n",
    "\n",
    "#  \n",
    "\n",
    "#  \n",
    "#  \n",
    "### We have list-decoding as well"
   ]
  },
  {
   "cell_type": "code",
   "execution_count": 68,
   "metadata": {
    "collapsed": false
   },
   "outputs": [
    {
     "name": "stdout",
     "output_type": "stream",
     "text": [
      "Decoding radius: 27,  (s,ell) = (3, 6)\n"
     ]
    }
   ],
   "source": [
    "radius, params = \\\n",
    "    codes.decoders.GRSGuruswamiSudanDecoder.guruswami_sudan_decoding_radius(C, s=3)\n",
    "print \"Decoding radius: %s,  (s,ell) = %s\" % (radius, params)"
   ]
  },
  {
   "cell_type": "code",
   "execution_count": 69,
   "metadata": {
    "collapsed": false
   },
   "outputs": [],
   "source": [
    "D = C.decoder(\"GuruswamiSudan\", parameters = params)\n",
    "\n",
    "Ch_evil = channels.StaticErrorRateChannel(C.ambient_space(), radius)\n",
    "r = Ch_evil.transmit(c)"
   ]
  },
  {
   "cell_type": "code",
   "execution_count": 70,
   "metadata": {
    "collapsed": false
   },
   "outputs": [
    {
     "name": "stdout",
     "output_type": "stream",
     "text": [
      "Nearby codewords: [(11, 14, 31, 33, 10, 10, 31, 37, 36, 36, 8, 5, 22, 29, 27, 4, 51, 42, 11, 57, 5, 55, 1, 4, 10, 42, 38, 53, 19, 47, 27, 41, 20, 13, 11, 39, 37, 2, 30, 8, 40, 52, 41, 1, 53, 45, 5, 45, 41, 48, 16, 8, 18, 28, 47, 53, 22, 30, 52)]\n"
     ]
    }
   ],
   "source": [
    "lst = D.decode_to_code(r)\n",
    "print \"Nearby codewords: %s\" % lst"
   ]
  },
  {
   "cell_type": "markdown",
   "metadata": {},
   "source": [
    "\n",
    "#  \n",
    "\n",
    "#  \n",
    "\n",
    "#  \n",
    "\n",
    "#  \n",
    "\n",
    "### Cyclic codes"
   ]
  },
  {
   "cell_type": "code",
   "execution_count": 71,
   "metadata": {
    "collapsed": false
   },
   "outputs": [
    {
     "name": "stdout",
     "output_type": "stream",
     "text": [
      "[15, 10] Cyclic Code over Finite Field of size 2 with x^5 + x^4 + x^2 + 1 as generator polynomial\n"
     ]
    }
   ],
   "source": [
    "P.<x> = GF(2)[]\n",
    "g = (x + 1)*(x^4 + x + 1)\n",
    "C = codes.CyclicCode(generator_pol = g, length = 15)\n",
    "print C"
   ]
  },
  {
   "cell_type": "code",
   "execution_count": 72,
   "metadata": {
    "collapsed": false
   },
   "outputs": [
    {
     "data": {
      "text/html": [
       "<html><script type=\"math/tex; mode=display\">\\newcommand{\\Bold}[1]{\\mathbf{#1}}\\left(\\begin{array}{rrrrrrrrrrrrrrr}\n",
       "1 & 1 & 1 & 0 & 1 & 1 & 0 & 0 & 1 & 0 & 1 & 0 & 0 & 0 & 0 \\\\\n",
       "0 & 1 & 1 & 1 & 0 & 1 & 1 & 0 & 0 & 1 & 0 & 1 & 0 & 0 & 0 \\\\\n",
       "0 & 0 & 1 & 1 & 1 & 0 & 1 & 1 & 0 & 0 & 1 & 0 & 1 & 0 & 0 \\\\\n",
       "0 & 0 & 0 & 1 & 1 & 1 & 0 & 1 & 1 & 0 & 0 & 1 & 0 & 1 & 0 \\\\\n",
       "0 & 0 & 0 & 0 & 1 & 1 & 1 & 0 & 1 & 1 & 0 & 0 & 1 & 0 & 1\n",
       "\\end{array}\\right)</script></html>"
      ],
      "text/plain": [
       "[1 1 1 0 1 1 0 0 1 0 1 0 0 0 0]\n",
       "[0 1 1 1 0 1 1 0 0 1 0 1 0 0 0]\n",
       "[0 0 1 1 1 0 1 1 0 0 1 0 1 0 0]\n",
       "[0 0 0 1 1 1 0 1 1 0 0 1 0 1 0]\n",
       "[0 0 0 0 1 1 1 0 1 1 0 0 1 0 1]"
      ]
     },
     "execution_count": 72,
     "metadata": {},
     "output_type": "execute_result"
    }
   ],
   "source": [
    "C.parity_check_matrix()"
   ]
  },
  {
   "cell_type": "code",
   "execution_count": 73,
   "metadata": {
    "collapsed": false
   },
   "outputs": [
    {
     "data": {
      "text/html": [
       "<html><script type=\"math/tex; mode=display\">\\newcommand{\\Bold}[1]{\\mathbf{#1}}4</script></html>"
      ],
      "text/plain": [
       "4"
      ]
     },
     "execution_count": 73,
     "metadata": {},
     "output_type": "execute_result"
    }
   ],
   "source": [
    "C.bch_bound()"
   ]
  },
  {
   "cell_type": "code",
   "execution_count": 74,
   "metadata": {
    "collapsed": false
   },
   "outputs": [
    {
     "data": {
      "text/html": [
       "<html><script type=\"math/tex; mode=display\">\\newcommand{\\Bold}[1]{\\mathbf{#1}}4</script></html>"
      ],
      "text/plain": [
       "4"
      ]
     },
     "execution_count": 74,
     "metadata": {},
     "output_type": "execute_result"
    }
   ],
   "source": [
    "C.minimum_distance()"
   ]
  },
  {
   "cell_type": "code",
   "execution_count": 75,
   "metadata": {
    "collapsed": false
   },
   "outputs": [
    {
     "name": "stdout",
     "output_type": "stream",
     "text": [
      "[15, 10] BCH Code over Finite Field of size 2 with x^5 + x^4 + x^2 + 1 as generator polynomial\n"
     ]
    }
   ],
   "source": [
    "C_bch = C.surrounding_bch_code()\n",
    "print C_bch"
   ]
  },
  {
   "cell_type": "code",
   "execution_count": 76,
   "metadata": {
    "collapsed": false
   },
   "outputs": [
    {
     "name": "stdout",
     "output_type": "stream",
     "text": [
      "[15, 12, 4] Generalized Reed-Solomon Code over Finite Field in z4 of size 2^4\n"
     ]
    }
   ],
   "source": [
    "C_grs = C_bch.bch_to_grs()\n",
    "print C_grs"
   ]
  },
  {
   "cell_type": "code",
   "execution_count": 77,
   "metadata": {
    "collapsed": false
   },
   "outputs": [
    {
     "data": {
      "text/html": [
       "<html><script type=\"math/tex; mode=display\">\\newcommand{\\Bold}[1]{\\mathbf{#1}}\\left[\\left(1,\\,1,\\,0,\\,0,\\,0,\\,1,\\,0,\\,0,\\,1,\\,0,\\,0,\\,0,\\,0,\\,0,\\,0\\right), \\left(0,\\,1,\\,0,\\,1,\\,0,\\,0,\\,0,\\,0,\\,1,\\,0,\\,0,\\,0,\\,1,\\,0,\\,0\\right), \\left(1,\\,1,\\,0,\\,0,\\,0,\\,0,\\,0,\\,0,\\,1,\\,0,\\,1,\\,1,\\,1,\\,0,\\,0\\right), \\left(1,\\,1,\\,1,\\,0,\\,0,\\,0,\\,0,\\,0,\\,1,\\,0,\\,0,\\,0,\\,1,\\,1,\\,0\\right), \\left(1,\\,0,\\,0,\\,0,\\,0,\\,0,\\,0,\\,1,\\,1,\\,0,\\,0,\\,0,\\,1,\\,0,\\,0\\right), \\left(1,\\,1,\\,0,\\,0,\\,0,\\,0,\\,1,\\,0,\\,0,\\,0,\\,0,\\,0,\\,1,\\,0,\\,0\\right), \\left(1,\\,1,\\,0,\\,0,\\,1,\\,0,\\,0,\\,0,\\,1,\\,1,\\,0,\\,0,\\,1,\\,0,\\,0\\right)\\right]</script></html>"
      ],
      "text/plain": [
       "[(1, 1, 0, 0, 0, 1, 0, 0, 1, 0, 0, 0, 0, 0, 0),\n",
       " (0, 1, 0, 1, 0, 0, 0, 0, 1, 0, 0, 0, 1, 0, 0),\n",
       " (1, 1, 0, 0, 0, 0, 0, 0, 1, 0, 1, 1, 1, 0, 0),\n",
       " (1, 1, 1, 0, 0, 0, 0, 0, 1, 0, 0, 0, 1, 1, 0),\n",
       " (1, 0, 0, 0, 0, 0, 0, 1, 1, 0, 0, 0, 1, 0, 0),\n",
       " (1, 1, 0, 0, 0, 0, 1, 0, 0, 0, 0, 0, 1, 0, 0),\n",
       " (1, 1, 0, 0, 1, 0, 0, 0, 1, 1, 0, 0, 1, 0, 0)]"
      ]
     },
     "execution_count": 77,
     "metadata": {},
     "output_type": "execute_result"
    }
   ],
   "source": [
    "D = codes.decoders.GRSGuruswamiSudanDecoder(C_grs, tau=2)\n",
    "\n",
    "c = C.random_element()\n",
    "Ch = channels.StaticErrorRateChannel(C_bch.ambient_space(), 2)\n",
    "r = Ch.transmit(c)\n",
    "\n",
    "D.decode_to_code(r)"
   ]
  },
  {
   "cell_type": "markdown",
   "metadata": {},
   "source": [
    "\n",
    "#  \n",
    "\n",
    "#  \n",
    "\n",
    "#  \n",
    "\n",
    "#  \n",
    "\n",
    "### Reed-Muller codes"
   ]
  },
  {
   "cell_type": "code",
   "execution_count": 78,
   "metadata": {
    "collapsed": false
   },
   "outputs": [
    {
     "name": "stdout",
     "output_type": "stream",
     "text": [
      "Reed-Muller Code of order 2 and 4 variables over Finite Field of size 3\n"
     ]
    }
   ],
   "source": [
    "C = codes.ReedMullerCode(GF(3), 2, 4)\n",
    "print C"
   ]
  },
  {
   "cell_type": "code",
   "execution_count": 79,
   "metadata": {
    "collapsed": false
   },
   "outputs": [
    {
     "data": {
      "text/html": [
       "<html><script type=\"math/tex; mode=display\">\\newcommand{\\Bold}[1]{\\mathbf{#1}}\\left(15, 81, 27\\right)</script></html>"
      ],
      "text/plain": [
       "(15, 81, 27)"
      ]
     },
     "execution_count": 79,
     "metadata": {},
     "output_type": "execute_result"
    }
   ],
   "source": [
    "C.dimension(), C.length(), C.minimum_distance()"
   ]
  },
  {
   "cell_type": "markdown",
   "metadata": {},
   "source": [
    "\n",
    "#  \n",
    "#  \n",
    "### A Reed-Muller code of low order lies inside a Reed-Solomon code"
   ]
  },
  {
   "cell_type": "code",
   "execution_count": 80,
   "metadata": {
    "collapsed": false
   },
   "outputs": [
    {
     "name": "stdout",
     "output_type": "stream",
     "text": [
      "[81, 55, 27] Generalized Reed-Solomon Code over Finite Field in y of size 3^4\n"
     ]
    }
   ],
   "source": [
    "print C.reed_solomon_supercode()"
   ]
  },
  {
   "cell_type": "code",
   "execution_count": 81,
   "metadata": {
    "collapsed": false
   },
   "outputs": [
    {
     "name": "stdout",
     "output_type": "stream",
     "text": [
      "(2, 2, 0, 1, 0, 1, 0, 0, 1, 2, 1, 1, 0, 2, 0, 0, 0, 2, 2, 0, 2, 0, 1, 0, 0, 1, 0, 1, 0, 0, 0, 0, 0, 0, 2, 0, 0, 1, 0, 0, 1, 0, 2, 0, 0, 2, 2, 0, 2, 2, 0, 1, 1, 0, 1, 2, 1, 0, 0, 0, 0, 2, 0, 0, 0, 2, 1, 1, 2, 0, 0, 0, 0, 2, 2, 2, 1, 0, 0, 0, 2)\n",
      "(0, 0, 0, 0, 0, 0, 0, 1, 0, 0, 0, 0, 0, 0, 1, 0, 1, 0, 0, 0, 0, 0, 0, 0, 0, 0, 0, 0, 0, 0, 1, 0, 0, 0, 0, 1, 0, 0, 0, 1, 0, 0, 0, 0, 1, 0, 0, 0, 0, 0, 1, 0, 0, 0, 0, 0, 0, 1, 1, 1, 1, 0, 1, 1, 1, 0, 0, 0, 0, 1, 1, 1, 0, 0, 0, 0, 0, 1, 0, 1, 0)\n"
     ]
    }
   ],
   "source": [
    "c = C.random_element()\n",
    "Ch = channels.ErrorErasureChannel(C.ambient_space(), 3, 20)\n",
    "r = Ch.transmit(c)\n",
    "print r[0]\n",
    "print r[1]"
   ]
  },
  {
   "cell_type": "code",
   "execution_count": 82,
   "metadata": {
    "collapsed": false
   },
   "outputs": [
    {
     "data": {
      "text/html": [
       "<html><script type=\"math/tex; mode=display\">\\newcommand{\\Bold}[1]{\\mathbf{#1}}\\left(2,\\,2,\\,0,\\,0,\\,0,\\,1,\\,0,\\,0,\\,1,\\,2,\\,1,\\,1,\\,0,\\,2,\\,2,\\,0,\\,2,\\,2,\\,2,\\,0,\\,2,\\,0,\\,1,\\,0,\\,0,\\,1,\\,0,\\,1,\\,0,\\,0,\\,1,\\,0,\\,0,\\,0,\\,2,\\,2,\\,0,\\,1,\\,0,\\,0,\\,1,\\,0,\\,2,\\,0,\\,2,\\,2,\\,2,\\,0,\\,2,\\,2,\\,0,\\,1,\\,1,\\,2,\\,1,\\,2,\\,1,\\,0,\\,1,\\,0,\\,1,\\,2,\\,1,\\,2,\\,2,\\,0,\\,1,\\,1,\\,2,\\,2,\\,2,\\,0,\\,0,\\,2,\\,2,\\,2,\\,1,\\,1,\\,0,\\,2,\\,2\\right)</script></html>"
      ],
      "text/plain": [
       "(2, 2, 0, 0, 0, 1, 0, 0, 1, 2, 1, 1, 0, 2, 2, 0, 2, 2, 2, 0, 2, 0, 1, 0, 0, 1, 0, 1, 0, 0, 1, 0, 0, 0, 2, 2, 0, 1, 0, 0, 1, 0, 2, 0, 2, 2, 2, 0, 2, 2, 0, 1, 1, 2, 1, 2, 1, 0, 1, 0, 1, 2, 1, 2, 2, 0, 1, 1, 2, 2, 2, 0, 0, 2, 2, 2, 1, 1, 0, 2, 2)"
      ]
     },
     "execution_count": 82,
     "metadata": {},
     "output_type": "execute_result"
    }
   ],
   "source": [
    "D = C.reed_solomon_supercode().decoder(\"ErrorErasure\")\n",
    "\n",
    "D.decode_to_code(r)"
   ]
  },
  {
   "cell_type": "markdown",
   "metadata": {},
   "source": [
    "\n",
    "#  \n",
    "\n",
    "#  \n",
    "\n",
    "#  \n",
    "\n",
    "#  \n",
    "\n",
    "### Benchmarking\n",
    "\n",
    "Ex: Comparing decoding speeds of algorithms across number of errors"
   ]
  },
  {
   "cell_type": "code",
   "execution_count": 83,
   "metadata": {
    "collapsed": false
   },
   "outputs": [
    {
     "data": {
      "text/html": [
       "<html><script type=\"math/tex; mode=display\">\\newcommand{\\Bold}[1]{\\mathbf{#1}}\\left[\\verb|Syndrome|, \\verb|NearestNeighbor|, \\verb|ErrorErasure|, \\verb|Gao|, \\verb|GuruswamiSudan|, \\verb|KeyEquationSyndrome|, \\verb|BerlekampWelch|\\right]</script></html>"
      ],
      "text/plain": [
       "['Syndrome',\n",
       " 'NearestNeighbor',\n",
       " 'ErrorErasure',\n",
       " 'Gao',\n",
       " 'GuruswamiSudan',\n",
       " 'KeyEquationSyndrome',\n",
       " 'BerlekampWelch']"
      ]
     },
     "execution_count": 83,
     "metadata": {},
     "output_type": "execute_result"
    }
   ],
   "source": [
    "eval_pts = GF(59).list()[1:]  #don't use 0 as eval point\n",
    "C = codes.GeneralizedReedSolomonCode(eval_pts, 30)\n",
    "C.decoders_available()"
   ]
  },
  {
   "cell_type": "code",
   "execution_count": 84,
   "metadata": {
    "collapsed": false
   },
   "outputs": [],
   "source": [
    "D_key = C.decoder(\"KeyEquationSyndrome\")\n",
    "D_gao = C.decoder(\"Gao\")"
   ]
  },
  {
   "cell_type": "code",
   "execution_count": 85,
   "metadata": {
    "collapsed": false
   },
   "outputs": [],
   "source": [
    "V = C.ambient_space()\n",
    "\n",
    "max_radius = 14\n",
    "B_key = codes.Benchmark()\n",
    "B_gao = codes.Benchmark()\n",
    "for t in range(0, max_radius+1):\n",
    "    Ch = channels.StaticErrorRateChannel(V, t)\n",
    "    B_key += codes.Benchmark(C, D_key, Ch, identifier=t)\n",
    "    B_gao += codes.Benchmark(C, D_gao, Ch, identifier=t)"
   ]
  },
  {
   "cell_type": "code",
   "execution_count": 86,
   "metadata": {
    "collapsed": false
   },
   "outputs": [
    {
     "name": "stdout",
     "output_type": "stream",
     "text": [
      "Starting run for benchmark 0\n",
      "25 percent complete\n",
      "50 percent complete\n",
      "75 percent complete\n",
      "Run complete for benchmark 0\n",
      "Starting run for benchmark 1\n",
      "25 percent complete\n",
      "50 percent complete\n",
      "75 percent complete\n",
      "Run complete for benchmark 1\n",
      "Starting run for benchmark 2\n",
      "25 percent complete\n",
      "50 percent complete\n",
      "75 percent complete\n",
      "Run complete for benchmark 2\n",
      "Starting run for benchmark 3\n",
      "25 percent complete\n",
      "50 percent complete\n",
      "75 percent complete\n",
      "Run complete for benchmark 3\n",
      "Starting run for benchmark 4\n",
      "25 percent complete\n",
      "50 percent complete\n",
      "75 percent complete\n",
      "Run complete for benchmark 4\n",
      "Starting run for benchmark 5\n",
      "25 percent complete\n",
      "50 percent complete\n",
      "75 percent complete\n",
      "Run complete for benchmark 5\n",
      "Starting run for benchmark 6\n",
      "25 percent complete\n",
      "50 percent complete\n",
      "75 percent complete\n",
      "Run complete for benchmark 6\n",
      "Starting run for benchmark 7\n",
      "25 percent complete\n",
      "50 percent complete\n",
      "75 percent complete\n",
      "Run complete for benchmark 7\n",
      "Starting run for benchmark 8\n",
      "25 percent complete\n",
      "50 percent complete\n",
      "75 percent complete\n",
      "Run complete for benchmark 8\n",
      "Starting run for benchmark 9\n",
      "25 percent complete\n",
      "50 percent complete\n",
      "75 percent complete\n",
      "Run complete for benchmark 9\n",
      "Starting run for benchmark 10\n",
      "25 percent complete\n",
      "50 percent complete\n",
      "75 percent complete\n",
      "Run complete for benchmark 10\n",
      "Starting run for benchmark 11\n",
      "25 percent complete\n",
      "50 percent complete\n",
      "75 percent complete\n",
      "Run complete for benchmark 11\n",
      "Starting run for benchmark 12\n",
      "25 percent complete\n",
      "50 percent complete\n",
      "75 percent complete\n",
      "Run complete for benchmark 12\n",
      "Starting run for benchmark 13\n",
      "25 percent complete\n",
      "50 percent complete\n",
      "75 percent complete\n",
      "Run complete for benchmark 13\n",
      "Starting run for benchmark 14\n",
      "25 percent complete\n",
      "50 percent complete\n",
      "75 percent complete\n",
      "Run complete for benchmark 14\n",
      "Starting run for benchmark 0\n",
      "25 percent complete\n",
      "50 percent complete\n",
      "75 percent complete\n",
      "Run complete for benchmark 0\n",
      "Starting run for benchmark 1\n",
      "25 percent complete\n",
      "50 percent complete\n",
      "75 percent complete\n",
      "Run complete for benchmark 1\n",
      "Starting run for benchmark 2\n",
      "25 percent complete\n",
      "50 percent complete\n",
      "75 percent complete\n",
      "Run complete for benchmark 2\n",
      "Starting run for benchmark 3\n",
      "25 percent complete\n",
      "50 percent complete\n",
      "75 percent complete\n",
      "Run complete for benchmark 3\n",
      "Starting run for benchmark 4\n",
      "25 percent complete\n",
      "50 percent complete\n",
      "75 percent complete\n",
      "Run complete for benchmark 4\n",
      "Starting run for benchmark 5\n",
      "25 percent complete\n",
      "50 percent complete\n",
      "75 percent complete\n",
      "Run complete for benchmark 5\n",
      "Starting run for benchmark 6\n",
      "25 percent complete\n",
      "50 percent complete\n",
      "75 percent complete\n",
      "Run complete for benchmark 6\n",
      "Starting run for benchmark 7\n",
      "25 percent complete\n",
      "50 percent complete\n",
      "75 percent complete\n",
      "Run complete for benchmark 7\n",
      "Starting run for benchmark 8\n",
      "25 percent complete\n",
      "50 percent complete\n",
      "75 percent complete\n",
      "Run complete for benchmark 8\n",
      "Starting run for benchmark 9\n",
      "25 percent complete\n",
      "50 percent complete\n",
      "75 percent complete\n",
      "Run complete for benchmark 9\n",
      "Starting run for benchmark 10\n",
      "25 percent complete\n",
      "50 percent complete\n",
      "75 percent complete\n",
      "Run complete for benchmark 10\n",
      "Starting run for benchmark 11\n",
      "25 percent complete\n",
      "50 percent complete\n",
      "75 percent complete\n",
      "Run complete for benchmark 11\n",
      "Starting run for benchmark 12\n",
      "25 percent complete\n",
      "50 percent complete\n",
      "75 percent complete\n",
      "Run complete for benchmark 12\n",
      "Starting run for benchmark 13\n",
      "25 percent complete\n",
      "50 percent complete\n",
      "75 percent complete\n",
      "Run complete for benchmark 13\n",
      "Starting run for benchmark 14\n",
      "25 percent complete\n",
      "50 percent complete\n",
      "75 percent complete\n",
      "Run complete for benchmark 14\n"
     ]
    }
   ],
   "source": [
    "B_key.run(verbosity_level=1)\n",
    "B_gao.run(verbosity_level=1)"
   ]
  },
  {
   "cell_type": "markdown",
   "metadata": {},
   "source": [
    "### Let's plot it!"
   ]
  },
  {
   "cell_type": "code",
   "execution_count": 87,
   "metadata": {
    "collapsed": false
   },
   "outputs": [
    {
     "data": {
      "image/png": "[encoded data removed]",
      "text/plain": [
       "Graphics object consisting of 2 graphics primitives"
      ]
     },
     "execution_count": 87,
     "metadata": {},
     "output_type": "execute_result"
    }
   ],
   "source": [
    "g = Graphics()\n",
    "g += B_key.plot(lambda t: \\\n",
    "                (t, B_key.compute_timings(\"decoding\", median, t)), color=\"blue\")\n",
    "\n",
    "g += B_gao.plot(lambda t: \\\n",
    "                (t, B_gao.compute_timings(\"decoding\", median, t)), color=\"red\")\n",
    "g"
   ]
  },
  {
   "cell_type": "markdown",
   "metadata": {
    "collapsed": true
   },
   "source": [
    "\n",
    "#  \n",
    "\n",
    "#  \n",
    "\n",
    "#  \n",
    "\n",
    "#  \n",
    "\n",
    "## Other features in Sage:\n",
    "\n",
    "See roadmap: https://bitbucket.org/lucasdavid/sage_coding_project\n",
    "\n",
    "#  \n",
    "\n",
    "#  \n",
    "\n",
    "#  \n",
    "\n",
    "#  \n",
    "\n",
    "#  \n",
    "\n",
    "#  \n",
    "\n",
    "#  \n",
    "\n",
    "## The future\n",
    "\n",
    "ACTIS ends in 1 month :-(\n",
    "\n",
    "David Lucas will go do a PhD in something related to - but not really - coding theory.\n",
    "\n",
    "### Feedback\n",
    "* Does it work?\n",
    "* Is it convenient?\n",
    "* Does it support your research and your teaching?\n",
    "* What is missing?\n",
    "    \n",
    "### Reviewing the implemented-but-not-in-Sage features\n",
    "* Good math-skills are more important than good programming skills!\n",
    "    \n",
    "### Developing new features?\n",
    "* What do you need?\n",
    "* Contact me if you're interested in helping out!\n",
    "\n",
    "### SageDays 22nd--26th August in (outskirts of) Paris on Coding Theory\n",
    "* For beginners and experiences users/programmers alike!\n",
    "* It will be awesome! Please join.\n",
    "* Suggest a project for the week!\n",
    "* https://wiki.sagemath.org/days75"
   ]
  },
  {
   "cell_type": "code",
   "execution_count": null,
   "metadata": {
    "collapsed": true
   },
   "outputs": [],
   "source": []
  },
  {
   "cell_type": "code",
   "execution_count": null,
   "metadata": {
    "collapsed": true
   },
   "outputs": [],
   "source": []
  }
 ],
 "metadata": {
  "kernelspec": {
   "display_name": "SageMath 7.3.rc0",
   "language": "",
   "name": "sagemath"
  },
  "language_info": {
   "codemirror_mode": {
    "name": "ipython",
    "version": 2
   },
   "file_extension": ".py",
   "mimetype": "text/x-python",
   "name": "python",
   "nbconvert_exporter": "python",
   "pygments_lexer": "ipython2",
   "version": "2.7.10"
  }
 },
 "nbformat": 4,
 "nbformat_minor": 0
}
